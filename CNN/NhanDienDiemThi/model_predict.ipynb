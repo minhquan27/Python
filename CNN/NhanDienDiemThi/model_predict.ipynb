{
 "cells": [
  {
   "cell_type": "markdown",
   "metadata": {},
   "source": [
    "## Dự đoán điểm thi"
   ]
  },
  {
   "cell_type": "markdown",
   "metadata": {},
   "source": [
    "**Hiển thị bảng điểm**"
   ]
  },
  {
   "cell_type": "code",
   "execution_count": 2,
   "metadata": {},
   "outputs": [
    {
     "name": "stdout",
     "output_type": "stream",
     "text": [
      "(1286, 909)\n"
     ]
    },
    {
     "data": {
      "image/png": "[encoded data removed]",
      "text/plain": [
       "<Figure size 432x288 with 1 Axes>"
      ]
     },
     "metadata": {
      "needs_background": "light"
     },
     "output_type": "display_data"
    }
   ],
   "source": [
    "import matplotlib.pyplot as plt\n",
    "from PIL import Image\n",
    "import numpy as np\n",
    "%matplotlib inline\n",
    "\n",
    "X = np.array(Image.open('./bangdiem.png'))\n",
    "plt.imshow(X)\n",
    "print(X.shape)"
   ]
  },
  {
   "cell_type": "markdown",
   "metadata": {},
   "source": [
    "**Hiển thị dữ liệu điểm đã được tiền xử lý**"
   ]
  },
  {
   "cell_type": "code",
   "execution_count": 5,
   "metadata": {},
   "outputs": [
    {
     "name": "stdout",
     "output_type": "stream",
     "text": [
      "(26, 20)\n"
     ]
    },
    {
     "data": {
      "image/png": "[encoded data removed]",
      "text/plain": [
       "<Figure size 432x288 with 1 Axes>"
      ]
     },
     "metadata": {
      "needs_background": "light"
     },
     "output_type": "display_data"
    }
   ],
   "source": [
    "Y = np.array(Image.open('./image/1a.jpg'))\n",
    "plt.imshow(Y)\n",
    "print(Y.shape)"
   ]
  },
  {
   "cell_type": "markdown",
   "metadata": {},
   "source": [
    "**Chuyển ảnh tiền xử lý về dữ liệu chuẩn**"
   ]
  },
  {
   "cell_type": "code",
   "execution_count": 6,
   "metadata": {},
   "outputs": [],
   "source": [
    "mypath = \"./image/\"\n",
    "from os import listdir\n",
    "from os.path import isfile, join\n",
    "onlyfiles = [f for f in listdir(mypath) if isfile(join(mypath, f))]"
   ]
  },
  {
   "cell_type": "code",
   "execution_count": 8,
   "metadata": {},
   "outputs": [],
   "source": [
    "import tensorflow as tf\n",
    "model = tf.keras.models.load_model('model.h')"
   ]
  },
  {
   "cell_type": "code",
   "execution_count": 9,
   "metadata": {},
   "outputs": [],
   "source": [
    "def rgb2gray(rgb):\n",
    "    return np.dot(rgb[...,:3], [0.2989, 0.5870, 0.1140])"
   ]
  },
  {
   "cell_type": "code",
   "execution_count": 10,
   "metadata": {},
   "outputs": [
    {
     "name": "stderr",
     "output_type": "stream",
     "text": [
      "Using TensorFlow backend.\n"
     ]
    }
   ],
   "source": [
    "import numpy as np\n",
    "from keras.preprocessing import image\n",
    "output = {}\n",
    "for file in onlyfiles:\n",
    "    img_test = image.load_img(mypath + file, target_size=(28, 28)) \n",
    "    x = image.img_to_array(img_test)\n",
    "    x = np.expand_dims(x, axis=0) \n",
    "    images = np.vstack([x])\n",
    "    gray = rgb2gray(images)\n",
    "    gray_norm = gray.reshape(1,28,28,1)\n",
    "    pre = np.argmax(model.predict(gray_norm))\n",
    "    output[file] = pre"
   ]
  },
  {
   "cell_type": "markdown",
   "metadata": {},
   "source": [
    "**Kết qủa**"
   ]
  },
  {
   "cell_type": "code",
   "execution_count": 12,
   "metadata": {},
   "outputs": [
    {
     "data": {
      "text/plain": [
       "{'10a.jpg': 6,\n",
       " '10b.jpg': 5,\n",
       " '12a.jpg': 2,\n",
       " '12b.jpg': 2,\n",
       " '13a.jpg': 3,\n",
       " '13b.jpg': 5,\n",
       " '14a.jpg': 4,\n",
       " '14b.jpg': 0,\n",
       " '15a.jpg': 4,\n",
       " '15b.jpg': 0,\n",
       " '16a.jpg': 5,\n",
       " '16b.jpg': 0,\n",
       " '17a.jpg': 5,\n",
       " '17b.jpg': 0,\n",
       " '18a.jpg': 3,\n",
       " '18b.jpg': 0,\n",
       " '19a.jpg': 5,\n",
       " '19b.jpg': 5,\n",
       " '1a.jpg': 2,\n",
       " '1b.jpg': 0,\n",
       " '21a.jpg': 2,\n",
       " '21b.jpg': 6,\n",
       " '22a.jpg': 6,\n",
       " '22b.jpg': 5,\n",
       " '23a.jpg': 5,\n",
       " '23b.jpg': 5,\n",
       " '24a.jpg': 3,\n",
       " '24b.jpg': 0,\n",
       " '25a.jpg': 4,\n",
       " '25b.jpg': 2,\n",
       " '26a.jpg': 5,\n",
       " '26b.jpg': 2,\n",
       " '27a.jpg': 2,\n",
       " '27b.jpg': 0,\n",
       " '28a.jpg': 6,\n",
       " '28b.jpg': 0,\n",
       " '29a.jpg': 5,\n",
       " '29b.jpg': 5,\n",
       " '2a.jpg': 5,\n",
       " '2b.jpg': 5,\n",
       " '30a.jpg': 2,\n",
       " '30b.jpg': 5,\n",
       " '31a.jpg': 5,\n",
       " '31b.jpg': 0,\n",
       " '32a.jpg': 8,\n",
       " '32b.jpg': 6,\n",
       " '33a.jpg': 4,\n",
       " '33b.jpg': 0,\n",
       " '34a.jpg': 6,\n",
       " '34b.jpg': 0,\n",
       " '35a.jpg': 3,\n",
       " '35b.jpg': 5,\n",
       " '36a.jpg': 6,\n",
       " '36b.jpg': 5,\n",
       " '37a.jpg': 3,\n",
       " '37b.jpg': 5,\n",
       " '38a.jpg': 2,\n",
       " '38b.jpg': 2,\n",
       " '39a.jpg': 5,\n",
       " '39b.jpg': 5,\n",
       " '3a.jpg': 2,\n",
       " '3b.jpg': 5,\n",
       " '40a.jpg': 2,\n",
       " '40b.jpg': 5,\n",
       " '41a.jpg': 2,\n",
       " '41b.jpg': 5,\n",
       " '42a.jpg': 5,\n",
       " '42b.jpg': 0,\n",
       " '43a.jpg': 7,\n",
       " '43b.jpg': 5,\n",
       " '44a.jpg': 8,\n",
       " '44b.jpg': 5,\n",
       " '45a.jpg': 2,\n",
       " '45b.jpg': 0,\n",
       " '46a.jpg': 4,\n",
       " '46b.jpg': 5,\n",
       " '4a.jpg': 2,\n",
       " '4b.jpg': 5,\n",
       " '5a.jpg': 5,\n",
       " '5b.jpg': 5,\n",
       " '6a.jpg': 5,\n",
       " '6b.jpg': 0,\n",
       " '7a.jpg': 2,\n",
       " '7b.jpg': 0,\n",
       " '8a.jpg': 3,\n",
       " '8b.jpg': 5,\n",
       " '9a.jpg': 3,\n",
       " '9b.jpg': 0}"
      ]
     },
     "execution_count": 12,
     "metadata": {},
     "output_type": "execute_result"
    }
   ],
   "source": [
    "output"
   ]
  },
  {
   "cell_type": "markdown",
   "metadata": {},
   "source": [
    "**Đưa điểm thi về dạng chuẩn**"
   ]
  },
  {
   "cell_type": "code",
   "execution_count": 14,
   "metadata": {},
   "outputs": [
    {
     "data": {
      "text/plain": [
       "{10: 6.5,\n",
       " 12: 2.2,\n",
       " 13: 3.5,\n",
       " 14: 4.0,\n",
       " 15: 4.0,\n",
       " 16: 5.0,\n",
       " 17: 5.0,\n",
       " 18: 3.0,\n",
       " 19: 5.5,\n",
       " 1: 2.0,\n",
       " 21: 2.6,\n",
       " 22: 6.5,\n",
       " 23: 5.5,\n",
       " 24: 3.0,\n",
       " 25: 4.2,\n",
       " 26: 5.2,\n",
       " 27: 2.0,\n",
       " 28: 6.0,\n",
       " 29: 5.5,\n",
       " 2: 5.5,\n",
       " 30: 2.5,\n",
       " 31: 5.0,\n",
       " 32: 8.6,\n",
       " 33: 4.0,\n",
       " 34: 6.0,\n",
       " 35: 3.5,\n",
       " 36: 6.5,\n",
       " 37: 3.5,\n",
       " 38: 2.2,\n",
       " 39: 5.5,\n",
       " 3: 2.5,\n",
       " 40: 2.5,\n",
       " 41: 2.5,\n",
       " 42: 5.0,\n",
       " 43: 7.5,\n",
       " 44: 8.5,\n",
       " 45: 2.0,\n",
       " 46: 4.5,\n",
       " 4: 2.5,\n",
       " 5: 5.5,\n",
       " 6: 5.0,\n",
       " 7: 2.0,\n",
       " 8: 3.5,\n",
       " 9: 3.0}"
      ]
     },
     "execution_count": 14,
     "metadata": {},
     "output_type": "execute_result"
    }
   ],
   "source": [
    "result = {}\n",
    "for key in output.keys():\n",
    "    if key[-5]=='a':\n",
    "        result[int(key[:-5])] = output[key] + output[key[:-5]+'b.jpg']*10**(-1)\n",
    "result"
   ]
  },
  {
   "cell_type": "markdown",
   "metadata": {},
   "source": [
    "**Sắp xếp lại danh sách và đưa ra những thí sinh không có điểm**"
   ]
  },
  {
   "cell_type": "code",
   "execution_count": 15,
   "metadata": {},
   "outputs": [
    {
     "name": "stdout",
     "output_type": "stream",
     "text": [
      "Bảng điểm có : 46 sinh viên\n",
      "Sinh viên số 11 không có điểm\n",
      "Đưa về 0 điểm!\n",
      "Sinh viên số 20 không có điểm\n",
      "Đưa về 0 điểm!\n"
     ]
    },
    {
     "data": {
      "text/plain": [
       "[2.0,\n",
       " 5.5,\n",
       " 2.5,\n",
       " 2.5,\n",
       " 5.5,\n",
       " 5.0,\n",
       " 2.0,\n",
       " 3.5,\n",
       " 3.0,\n",
       " 6.5,\n",
       " 0.0,\n",
       " 2.2,\n",
       " 3.5,\n",
       " 4.0,\n",
       " 4.0,\n",
       " 5.0,\n",
       " 5.0,\n",
       " 3.0,\n",
       " 5.5,\n",
       " 0.0,\n",
       " 2.6,\n",
       " 6.5,\n",
       " 5.5,\n",
       " 3.0,\n",
       " 4.2,\n",
       " 5.2,\n",
       " 2.0,\n",
       " 6.0,\n",
       " 5.5,\n",
       " 2.5,\n",
       " 5.0,\n",
       " 8.6,\n",
       " 4.0,\n",
       " 6.0,\n",
       " 3.5,\n",
       " 6.5,\n",
       " 3.5,\n",
       " 2.2,\n",
       " 5.5,\n",
       " 2.5,\n",
       " 2.5,\n",
       " 5.0,\n",
       " 7.5,\n",
       " 8.5,\n",
       " 2.0,\n",
       " 4.5]"
      ]
     },
     "execution_count": 15,
     "metadata": {},
     "output_type": "execute_result"
    }
   ],
   "source": [
    "lst = [0.0]*(np.max(list(result.keys()))+1)\n",
    "print(\"Bảng điểm có :\",len(np.array(lst))-1,\"sinh viên\")\n",
    "for i in range(1, np.max(list(result.keys()))+1):\n",
    "    try:\n",
    "        lst[i] = result[i]\n",
    "    except:\n",
    "        print(\"Sinh viên số {} không có điểm\".format(i))\n",
    "        print(\"Đưa về 0 điểm!\")\n",
    "del(lst[0])\n",
    "lst "
   ]
  },
  {
   "cell_type": "code",
   "execution_count": 18,
   "metadata": {},
   "outputs": [
    {
     "name": "stdout",
     "output_type": "stream",
     "text": [
      "46\n"
     ]
    }
   ],
   "source": [
    "print(len(lst))"
   ]
  },
  {
   "cell_type": "code",
   "execution_count": 19,
   "metadata": {},
   "outputs": [
    {
     "name": "stdout",
     "output_type": "stream",
     "text": [
      "{1: 5.5, 2: 2.5, 3: 2.5, 4: 5.5, 5: 5.0, 6: 2.0, 7: 3.5, 8: 3.0, 9: 6.5, 10: 0.0, 11: 2.2, 12: 3.5, 13: 4.0, 14: 4.0, 15: 5.0, 16: 5.0, 17: 3.0, 18: 5.5, 19: 0.0, 20: 2.6, 21: 6.5, 22: 5.5, 23: 3.0, 24: 4.2, 25: 5.2, 26: 2.0, 27: 6.0, 28: 5.5, 29: 2.5, 30: 5.0, 31: 8.6, 32: 4.0, 33: 6.0, 34: 3.5, 35: 6.5, 36: 3.5, 37: 2.2, 38: 5.5, 39: 2.5, 40: 2.5, 41: 5.0, 42: 7.5, 43: 8.5, 44: 2.0, 45: 4.5}\n"
     ]
    }
   ],
   "source": [
    "diemthi = dict()\n",
    "for i in range(1,len(lst)):\n",
    "    diemthi[i] = lst[i]\n",
    "print(diemthi)"
   ]
  },
  {
   "cell_type": "markdown",
   "metadata": {},
   "source": [
    "**Lưu vào file txt**"
   ]
  },
  {
   "cell_type": "code",
   "execution_count": 41,
   "metadata": {},
   "outputs": [],
   "source": [
    "with open('bangdiempredict.txt', 'w') as f:\n",
    "    for key,value in diemthi.items():\n",
    "        f.write(\"%s\\n\" % key)\n",
    "        f.write(\"%s\\n\" % value)"
   ]
  },
  {
   "cell_type": "code",
   "execution_count": null,
   "metadata": {},
   "outputs": [],
   "source": []
  }
 ],
 "metadata": {
  "kernelspec": {
   "display_name": "Python 3",
   "language": "python",
   "name": "python3"
  },
  "language_info": {
   "codemirror_mode": {
    "name": "ipython",
    "version": 3
   },
   "file_extension": ".py",
   "mimetype": "text/x-python",
   "name": "python",
   "nbconvert_exporter": "python",
   "pygments_lexer": "ipython3",
   "version": "3.6.1"
  }
 },
 "nbformat": 4,
 "nbformat_minor": 4
}
