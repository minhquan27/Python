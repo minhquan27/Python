{
 "cells": [
  {
   "cell_type": "markdown",
   "metadata": {},
   "source": [
    "# Thuật toán Linear Regression (Hồi quy tuyến tính).\n",
    "Nội dung:\n",
    "\n",
    "1. Cài đặt thuật toán.\n",
    "2. Sử dụng thư viện scikit-learn.\n",
    "3. Tối ưu hàm mất mát sử dụng thuật toán gradient descent.\n",
    "4. Mở rộng thuật toán hồi quy tuyến tính. (cập nhật)"
   ]
  },
  {
   "cell_type": "markdown",
   "metadata": {},
   "source": [
    "1. Cài đặt thuật toán.\n",
    " Linear regression là thuật toán supervised, quan hệ đầu vào giữa đầu ra được mô tả bởi một hàm tuyến tính."
   ]
  },
  {
   "cell_type": "code",
   "execution_count": 1,
   "metadata": {},
   "outputs": [],
   "source": [
    "import numpy as np\n",
    "import matplotlib.pyplot as plt # thư viện hiển thị dữ liệu\n",
    "from matplotlib.backends.backend_pdf import PdfPages"
   ]
  },
  {
   "cell_type": "code",
   "execution_count": 2,
   "metadata": {},
   "outputs": [],
   "source": [
    "def linear_data(X):\n",
    "    N,d = X.shape\n",
    "    one = np.ones((N,1))\n",
    "    X_bar = np.concatenate((one,X),axis = 1)\n",
    "    return X_bar\n",
    "def linear_regression(X_train,y_train):\n",
    "    X_bar = linear_data(X_train)\n",
    "    A = np.dot(X_bar.T, X_bar)\n",
    "    b = np.dot(X_bar.T, y_train)\n",
    "    w = np.dot(np.linalg.pinv(A), b)\n",
    "    return w\n",
    "def linearregression_predic(X_train,y_train,X_test):\n",
    "    X1 = linear_data(X_test)\n",
    "    w = linear_regression(X_train,y_train)\n",
    "    return X1.dot(w)\n",
    "    "
   ]
  },
  {
   "cell_type": "markdown",
   "metadata": {},
   "source": [
    "Ví dụ 1. Bài toán về chiều cao và cân nặng.\n",
    "\n",
    "\n",
    "X_train, y_train: lần lượt là chiều cao và cân nặng tương ứng, X_test là chiều cao mới chưa biết cân nặng, y_pred: là cân nặng dự đoán."
   ]
  },
  {
   "cell_type": "code",
   "execution_count": 3,
   "metadata": {},
   "outputs": [
    {
     "name": "stdout",
     "output_type": "stream",
     "text": [
      "[-33.73541021   0.55920496]\n",
      "[55.7373837  51.26374401]\n"
     ]
    }
   ],
   "source": [
    "\n",
    "X_train = np.array([[147, 150, 153, 158, 163, 165, 168, 170, 173, 175, 178, 180, 183]]).T\n",
    "y_train = np.array([ 49, 50, 51,  54, 58, 59, 60, 62, 63, 64, 66, 67, 68])\n",
    "X_test = np.array([[160,152]]).T\n",
    "y_pred = linearregression_predic(X_train,y_train,X_test)\n",
    "print(linear_regression(X_train,y_train))\n",
    "print(y_pred)"
   ]
  },
  {
   "cell_type": "markdown",
   "metadata": {},
   "source": [
    "2. Sử dụng thư viện scikit-learn.\n",
    "\n",
    "\n",
    "srouce: https://scikit-learn.org/stable/modules/generated/sklearn.linear_model.LinearRegression.html"
   ]
  },
  {
   "cell_type": "code",
   "execution_count": 4,
   "metadata": {},
   "outputs": [
    {
     "name": "stdout",
     "output_type": "stream",
     "text": [
      "[[180]\n",
      " [173]\n",
      " [153]\n",
      " [183]\n",
      " [165]\n",
      " [175]\n",
      " [147]\n",
      " [168]\n",
      " [163]\n",
      " [150]\n",
      " [178]\n",
      " [185]\n",
      " [170]]\n",
      "[67 63 51 68 59 64 49 60 58 50 66 71 62]\n"
     ]
    }
   ],
   "source": [
    "from sklearn import datasets, linear_model\n",
    "from sklearn.model_selection import train_test_split # chia dữ liệu thành hai phần test và set\n",
    "#dữ liệu\n",
    "X = np.array([[147, 150, 153, 158, 163, 165, 168, 170, 173, 175, 178, 180, 183, 185, 187]]).T\n",
    "y = np.array([ 49, 50, 51,  54, 58, 59, 60, 62, 63, 64, 66, 67, 68, 71, 72])\n",
    "X_train, X_test, y_train, y_test = train_test_split(X, y, test_size = 2 ) # lấy 2 điểm dữ liệu dể dự đoán\n",
    "print(X_train)\n",
    "print(y_train)\n"
   ]
  },
  {
   "cell_type": "code",
   "execution_count": 5,
   "metadata": {},
   "outputs": [
    {
     "name": "stdout",
     "output_type": "stream",
     "text": [
      "Tham số của mô hình: \n",
      "0.5671388336646788 -34.92569582504973\n",
      "Dữ liệu dự đoán: [[158]\n",
      " [187]]\n",
      "Giá trị dự đoán [54.68223989 71.12926607]\n",
      "Gía trị thực: [54 72]\n"
     ]
    }
   ],
   "source": [
    "regr = linear_model.LinearRegression() # khởi tạo mô hình\n",
    "regr.fit(X_train,y_train)           # luyện mô hình\n",
    "\n",
    "\n",
    "print(\"Tham số của mô hình: \")\n",
    "print(regr.coef_[0], regr.intercept_)\n",
    "print(\"Dữ liệu dự đoán:\",X_test)\n",
    "y_pred = regr.predict(X_test)\n",
    "print(\"Giá trị dự đoán\",y_pred)\n",
    "print(\"Gía trị thực:\",y_test)\n"
   ]
  },
  {
   "cell_type": "markdown",
   "metadata": {},
   "source": [
    "3. Tối ưu hàm mất mát bằng thuật toán gradient descent.\n",
    "Tìm tham số w thông qua thuật toán gradient descent."
   ]
  },
  {
   "cell_type": "markdown",
   "metadata": {},
   "source": [
    "Thuật toán linear regression tìm tham số w bằng cách đạo hàm của hàm mất mát và cho bằng 0. Việc giải phương trình đạo hàm bằng 0 gây khó khăn khi điểm dữ liệu có số chiều lớn, thuật toán gradient descent (GD) đơn giản giúp tìm tham số w gần với nghiệm của bài toán cần tìm (khi đạo hàm xấp xỉ 0). \n"
   ]
  },
  {
   "cell_type": "markdown",
   "metadata": {},
   "source": [
    "VD2. Khởi tạo 500 điểm dữ liệu được chọn gần với đường thẳng y = 1 + 2x. Đưa ra tham số của mô hình."
   ]
  },
  {
   "cell_type": "code",
   "execution_count": 6,
   "metadata": {},
   "outputs": [
    {
     "name": "stdout",
     "output_type": "stream",
     "text": [
      "Tham số w giải bằng sklearn [1.10318012 2.00169347]\n"
     ]
    }
   ],
   "source": [
    "from sklearn.linear_model import LinearRegression\n",
    "X = np.random.rand(500) # random ra 500 điểm\n",
    "y = 1 + 2*X + .2* np.random.rand(500)\n",
    "#print(X)\n",
    "#print(y)\n",
    "model = LinearRegression()\n",
    "X = X.reshape(-1,1) # reshape về ma trận X gồm N hàng 1 cột\n",
    "y = y.reshape(-1,1)\n",
    "model.fit(X,y)\n",
    "w, b = model.coef_[0][0], model.intercept_[0]\n",
    "sol_sklearn = np.array([b,w])\n",
    "print(\"Tham số w giải bằng sklearn\",sol_sklearn)\n",
    "# print(linear_regression(X,y)): test kết quả với phần 1."
   ]
  },
  {
   "cell_type": "markdown",
   "metadata": {},
   "source": [
    "sử dụng GD để tìm tham số w"
   ]
  },
  {
   "cell_type": "code",
   "execution_count": 7,
   "metadata": {},
   "outputs": [],
   "source": [
    "one = np.ones((X.shape[0],1))\n",
    "X_bar =np.concatenate((one,X),axis = 1)\n",
    "# đạo hàm hàm mất mát\n",
    "def grad(w):\n",
    "    N = X_bar.shape[0]\n",
    "    return 1/N*X_bar.T.dot(X_bar.dot(w)-y)"
   ]
  },
  {
   "cell_type": "code",
   "execution_count": 8,
   "metadata": {},
   "outputs": [],
   "source": [
    "# giá trị hàm mất mát\n",
    "def cost(w):\n",
    "    N = X_bar.shape[0]\n",
    "    return 0.5/N* np.linalg.norm(y-X_bar.dot(w))**2\n",
    "    "
   ]
  },
  {
   "cell_type": "code",
   "execution_count": 9,
   "metadata": {},
   "outputs": [],
   "source": [
    "# thuật toán gradient tìm w\n",
    "def lr_gd(w_init, grad, eta):\n",
    "    w = [w_init]\n",
    "    cost_hist =[] # lưu giá trị hàm mất mát sau mỗi vòng lặp\n",
    "    for it in range(100):\n",
    "        w_new = w[-1]- eta*grad(w[-1])\n",
    "        if np.linalg.norm(grad(w_new))/len(w_new) <1e-3:\n",
    "            break\n",
    "        cost_hist.append(cost(w_new))\n",
    "        w.append(w_new)\n",
    "    return (w, it,cost_hist)\n"
   ]
  },
  {
   "cell_type": "code",
   "execution_count": 10,
   "metadata": {},
   "outputs": [
    {
     "name": "stdout",
     "output_type": "stream",
     "text": [
      "Kết quả tham số:\n",
      " [[1.089225  ]\n",
      " [2.02885762]]\n",
      "\n",
      "Số vòng lặp 59\n",
      "Hàm mất mát:\n",
      " [0.12408308567701776, 0.08757274235988467, 0.07518229493287981, 0.06557191442352428, 0.05727705256825547, 0.050060414153566705, 0.04377834478365891, 0.038309603583440315, 0.03354887754938208, 0.029404502123476492, 0.025796681011036264, 0.02265594884910343, 0.019921833657079547, 0.017541692499583178, 0.015469697893746377, 0.013665955442129446, 0.012095735701884922, 0.010728805500489878, 0.009538845823129723, 0.008502945063677658, 0.007601157882271704, 0.0068161211756877105, 0.00613271976636251, 0.005537795373209033, 0.005019893260717784, 0.0045690416883000535, 0.00417655991336818, 0.00383489105142407, 0.003537456575027188, 0.0032785296501499687, 0.003053124871125913, 0.002856902271135685, 0.002686083760039185, 0.0025373803806390638, 0.002407928982760263, 0.002295237095861821, 0.002197134938752467, 0.0021117336424002144, 0.0020373888814535683, 0.001972669214231934, 0.00191632852160014, 0.0018672820140623364, 0.0018245853451133564, 0.001787416428693901, 0.0017550596106609216, 0.0017268918895090813, 0.0017023709210356307, 0.0016810245759893022, 0.0016624418496451012, 0.0016462649482770222, 0.0016321824001608116, 0.001619923058465331, 0.0016092508805635522, 0.0015999603832435197, 0.0015918726863134365, 0.0015848320684240331, 0.001578702968793679, 0.0015733673771071374, 0.001568722561332812]\n"
     ]
    }
   ],
   "source": [
    "w_init = np.array([[1],[4]])\n",
    "(w1, it1, cost_hit) =lr_gd(w_init, grad, 1)\n",
    "\n",
    "print(\"Kết quả tham số:\\n\",w1[-1])\n",
    "print(\"\\nSố vòng lặp\",it1)\n",
    "print(\"Hàm mất mát:\\n\",cost_hit)"
   ]
  },
  {
   "cell_type": "code",
   "execution_count": null,
   "metadata": {},
   "outputs": [],
   "source": []
  },
  {
   "cell_type": "code",
   "execution_count": null,
   "metadata": {},
   "outputs": [],
   "source": []
  }
 ],
 "metadata": {
  "kernelspec": {
   "display_name": "Python 3",
   "language": "python",
   "name": "python3"
  },
  "language_info": {
   "codemirror_mode": {
    "name": "ipython",
    "version": 3
   },
   "file_extension": ".py",
   "mimetype": "text/x-python",
   "name": "python",
   "nbconvert_exporter": "python",
   "pygments_lexer": "ipython3",
   "version": "3.6.1"
  }
 },
 "nbformat": 4,
 "nbformat_minor": 4
}
