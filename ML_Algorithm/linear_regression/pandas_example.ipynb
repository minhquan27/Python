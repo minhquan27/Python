{
 "cells": [
  {
   "cell_type": "markdown",
   "metadata": {},
   "source": [
    "Nội dung:\n",
    "     Các lệnh cơ bản trong thư viện pandas.\n",
    "    source: https://pandas.pydata.org/docs/getting_started/dsintro.html"
   ]
  },
  {
   "cell_type": "markdown",
   "metadata": {},
   "source": [
    "Sử dụng thư viện"
   ]
  },
  {
   "cell_type": "code",
   "execution_count": 1,
   "metadata": {},
   "outputs": [],
   "source": [
    "import pandas as pd\n",
    "import numpy as np"
   ]
  },
  {
   "cell_type": "markdown",
   "metadata": {},
   "source": [
    "Đọc file, trả về là một dataframe"
   ]
  },
  {
   "cell_type": "code",
   "execution_count": 2,
   "metadata": {},
   "outputs": [],
   "source": [
    "people_df = pd.read_csv('people.csv', encoding='utf-8') "
   ]
  },
  {
   "cell_type": "markdown",
   "metadata": {},
   "source": [
    "Hiển thị 5 bản ghi đầu tiên trong dataframe\n"
   ]
  },
  {
   "cell_type": "code",
   "execution_count": 3,
   "metadata": {},
   "outputs": [
    {
     "data": {
      "text/html": [
       "<div>\n",
       "<style scoped>\n",
       "    .dataframe tbody tr th:only-of-type {\n",
       "        vertical-align: middle;\n",
       "    }\n",
       "\n",
       "    .dataframe tbody tr th {\n",
       "        vertical-align: top;\n",
       "    }\n",
       "\n",
       "    .dataframe thead th {\n",
       "        text-align: right;\n",
       "    }\n",
       "</style>\n",
       "<table border=\"1\" class=\"dataframe\">\n",
       "  <thead>\n",
       "    <tr style=\"text-align: right;\">\n",
       "      <th></th>\n",
       "      <th>person_ID</th>\n",
       "      <th>name</th>\n",
       "      <th>first</th>\n",
       "      <th>last</th>\n",
       "      <th>middle</th>\n",
       "      <th>email</th>\n",
       "      <th>phone</th>\n",
       "      <th>fax</th>\n",
       "      <th>title</th>\n",
       "      <th>age</th>\n",
       "    </tr>\n",
       "  </thead>\n",
       "  <tbody>\n",
       "    <tr>\n",
       "      <th>0</th>\n",
       "      <td>3130</td>\n",
       "      <td>Burks, Rosella</td>\n",
       "      <td>Rosella</td>\n",
       "      <td>Burks</td>\n",
       "      <td>NaN</td>\n",
       "      <td>BurksR@univ.edu</td>\n",
       "      <td>963.555.1253</td>\n",
       "      <td>963.777.4065</td>\n",
       "      <td>Professor</td>\n",
       "      <td>25</td>\n",
       "    </tr>\n",
       "    <tr>\n",
       "      <th>1</th>\n",
       "      <td>3297</td>\n",
       "      <td>Avila, Damien</td>\n",
       "      <td>Damien</td>\n",
       "      <td>Avila</td>\n",
       "      <td>NaN</td>\n",
       "      <td>AvilaD@univ.edu</td>\n",
       "      <td>963.555.1352</td>\n",
       "      <td>963.777.7914</td>\n",
       "      <td>Professor</td>\n",
       "      <td>23</td>\n",
       "    </tr>\n",
       "    <tr>\n",
       "      <th>2</th>\n",
       "      <td>3547</td>\n",
       "      <td>Olsen, Robin</td>\n",
       "      <td>Robin</td>\n",
       "      <td>Olsen</td>\n",
       "      <td>NaN</td>\n",
       "      <td>OlsenR@univ.edu</td>\n",
       "      <td>963.555.1378</td>\n",
       "      <td>963.777.9262</td>\n",
       "      <td>Assistant Professor</td>\n",
       "      <td>21</td>\n",
       "    </tr>\n",
       "    <tr>\n",
       "      <th>3</th>\n",
       "      <td>1538</td>\n",
       "      <td>Moises, Edgar Estes</td>\n",
       "      <td>Edgar</td>\n",
       "      <td>Moises</td>\n",
       "      <td>Estes</td>\n",
       "      <td>MoisesE@univ.edu</td>\n",
       "      <td>963.555.2731x3565</td>\n",
       "      <td>963.777.8264</td>\n",
       "      <td>Professor</td>\n",
       "      <td>18</td>\n",
       "    </tr>\n",
       "    <tr>\n",
       "      <th>4</th>\n",
       "      <td>2941</td>\n",
       "      <td>Brian, Heath Pruitt</td>\n",
       "      <td>Heath</td>\n",
       "      <td>Brian</td>\n",
       "      <td>Pruitt</td>\n",
       "      <td>BrianH@univ.edu</td>\n",
       "      <td>963.555.2800</td>\n",
       "      <td>963.777.7249</td>\n",
       "      <td>Associate Curator</td>\n",
       "      <td>30</td>\n",
       "    </tr>\n",
       "  </tbody>\n",
       "</table>\n",
       "</div>"
      ],
      "text/plain": [
       "   person_ID                 name    first    last  middle             email  \\\n",
       "0       3130      Burks, Rosella   Rosella   Burks     NaN   BurksR@univ.edu   \n",
       "1       3297       Avila, Damien    Damien   Avila     NaN   AvilaD@univ.edu   \n",
       "2       3547        Olsen, Robin     Robin   Olsen     NaN   OlsenR@univ.edu   \n",
       "3       1538  Moises, Edgar Estes    Edgar  Moises   Estes  MoisesE@univ.edu   \n",
       "4       2941  Brian, Heath Pruitt    Heath   Brian  Pruitt   BrianH@univ.edu   \n",
       "\n",
       "               phone           fax                title  age  \n",
       "0       963.555.1253  963.777.4065            Professor   25  \n",
       "1       963.555.1352  963.777.7914           Professor    23  \n",
       "2       963.555.1378  963.777.9262  Assistant Professor   21  \n",
       "3  963.555.2731x3565  963.777.8264            Professor   18  \n",
       "4       963.555.2800  963.777.7249   Associate Curator    30  "
      ]
     },
     "execution_count": 3,
     "metadata": {},
     "output_type": "execute_result"
    }
   ],
   "source": [
    "people_df.head()"
   ]
  },
  {
   "cell_type": "markdown",
   "metadata": {},
   "source": [
    "Các thao tác với dataframe trong pandas"
   ]
  },
  {
   "cell_type": "code",
   "execution_count": 4,
   "metadata": {},
   "outputs": [
    {
     "name": "stdout",
     "output_type": "stream",
     "text": [
      "Kích thước của dataframe: (40, 10)\n",
      "<class 'pandas.core.frame.DataFrame'>\n",
      "RangeIndex: 40 entries, 0 to 39\n",
      "Data columns (total 10 columns):\n",
      " #   Column     Non-Null Count  Dtype \n",
      "---  ------     --------------  ----- \n",
      " 0   person_ID  40 non-null     int64 \n",
      " 1   name       40 non-null     object\n",
      " 2   first      40 non-null     object\n",
      " 3   last       40 non-null     object\n",
      " 4   middle     15 non-null     object\n",
      " 5   email      40 non-null     object\n",
      " 6   phone      40 non-null     object\n",
      " 7   fax        40 non-null     object\n",
      " 8   title      40 non-null     object\n",
      " 9   age        40 non-null     int64 \n",
      "dtypes: int64(2), object(8)\n",
      "memory usage: 3.2+ KB\n",
      "Thông tin của dataframe None\n"
     ]
    }
   ],
   "source": [
    "# Xem kích thước của dataframe\n",
    "print(\"Kích thước của dataframe:\",people_df.shape) # số hàng, số cột\n",
    "# Xem thông tin của dataframe\n",
    "print(\"Thông tin của dataframe\", people_df.info())"
   ]
  },
  {
   "cell_type": "code",
   "execution_count": 5,
   "metadata": {},
   "outputs": [
    {
     "name": "stdout",
     "output_type": "stream",
     "text": [
      "Index(['person_ID', 'name', 'first', 'last', 'middle', 'email', 'phone', 'fax',\n",
      "       'title', 'age'],\n",
      "      dtype='object')\n",
      "['person_ID' 'name' 'first' 'last' 'middle' 'email' 'phone' 'fax' 'title'\n",
      " 'age']\n"
     ]
    }
   ],
   "source": [
    "# truy xuất dữ liệu trong dataframe\n",
    "# lấy các trường dữ liệu (các cột) trong dataframe \n",
    "A = people_df.columns\n",
    "print(A)\n",
    "# đưa các cột về một numpy array\n",
    "B = np.array(A)\n",
    "print(B)"
   ]
  },
  {
   "cell_type": "code",
   "execution_count": 11,
   "metadata": {},
   "outputs": [
    {
     "name": "stdout",
     "output_type": "stream",
     "text": [
      "0     3130\n",
      "1     3297\n",
      "2     3547\n",
      "3     1538\n",
      "4     2941\n",
      "5     2401\n",
      "6     2070\n",
      "7     2561\n",
      "8     1625\n",
      "9     1307\n",
      "10    2342\n",
      "11    2755\n",
      "12    4150\n",
      "13    3544\n",
      "14    2096\n",
      "15    1089\n",
      "16    2948\n",
      "17    4539\n",
      "18    2811\n",
      "19    4580\n",
      "20    2895\n",
      "21    2254\n",
      "22    2389\n",
      "23    1699\n",
      "24    1567\n",
      "25    3066\n",
      "26    2426\n",
      "27    2217\n",
      "28    1968\n",
      "29    3012\n",
      "30    1824\n",
      "31    3929\n",
      "32    2682\n",
      "33    3112\n",
      "34    2303\n",
      "35    3903\n",
      "36    3095\n",
      "37    2383\n",
      "38    2146\n",
      "39    3958\n",
      "Name: person_ID, dtype: int64\n",
      "[3130 3297 3547 1538 2941 2401 2070 2561 1625 1307 2342 2755 4150 3544\n",
      " 2096 1089 2948 4539 2811 4580 2895 2254 2389 1699 1567 3066 2426 2217\n",
      " 1968 3012 1824 3929 2682 3112 2303 3903 3095 2383 2146 3958]\n",
      "[3130 3297 3547 1538 2941 2401 2070 2561 1625 1307 2342 2755 4150 3544\n",
      " 2096 1089 2948 4539 2811 4580 2895 2254 2389 1699 1567 3066 2426 2217\n",
      " 1968 3012 1824 3929 2682 3112 2303 3903 3095 2383 2146 3958]\n"
     ]
    }
   ],
   "source": [
    "# lấy 1 cột theo tên cột\n",
    "print(people_df[\"person_ID\"]) \n",
    "#print(people_df[B[0]])\n",
    "# đưa về một numpy array\n",
    "C = np.array(people_df[\"person_ID\"])\n",
    "print(C)\n",
    "# cách khác\n",
    "D = people_df[\"person_ID\"].values\n",
    "print(D)"
   ]
  },
  {
   "cell_type": "code",
   "execution_count": 9,
   "metadata": {},
   "outputs": [
    {
     "name": "stdout",
     "output_type": "stream",
     "text": [
      "   person_ID                 name    first    last  middle             email  \\\n",
      "0       3130      Burks, Rosella   Rosella   Burks     NaN   BurksR@univ.edu   \n",
      "1       3297       Avila, Damien    Damien   Avila     NaN   AvilaD@univ.edu   \n",
      "2       3547        Olsen, Robin     Robin   Olsen     NaN   OlsenR@univ.edu   \n",
      "3       1538  Moises, Edgar Estes    Edgar  Moises   Estes  MoisesE@univ.edu   \n",
      "4       2941  Brian, Heath Pruitt    Heath   Brian  Pruitt   BrianH@univ.edu   \n",
      "\n",
      "               phone           fax                title  age  \n",
      "0       963.555.1253  963.777.4065            Professor   25  \n",
      "1       963.555.1352  963.777.7914           Professor    23  \n",
      "2       963.555.1378  963.777.9262  Assistant Professor   21  \n",
      "3  963.555.2731x3565  963.777.8264            Professor   18  \n",
      "4       963.555.2800  963.777.7249   Associate Curator    30  \n"
     ]
    }
   ],
   "source": [
    "# lấy bản ghi theo chỉ số\n",
    "print(people_df[0:5])"
   ]
  },
  {
   "cell_type": "code",
   "execution_count": 16,
   "metadata": {},
   "outputs": [
    {
     "name": "stdout",
     "output_type": "stream",
     "text": [
      "[[3130   25]\n",
      " [3297   23]\n",
      " [3547   21]\n",
      " [1538   18]\n",
      " [2941   30]\n",
      " [2401   35]\n",
      " [2070   35]\n",
      " [2561   35]\n",
      " [1625   29]\n",
      " [1307   29]\n",
      " [2342   28]\n",
      " [2755   23]\n",
      " [4150   22]\n",
      " [3544   22]\n",
      " [2096   25]\n",
      " [1089   24]\n",
      " [2948   25]\n",
      " [4539   25]\n",
      " [2811   25]\n",
      " [4580   25]\n",
      " [2895   28]\n",
      " [2254   28]\n",
      " [2389   28]\n",
      " [1699   28]\n",
      " [1567   28]\n",
      " [3066   25]\n",
      " [2426   25]\n",
      " [2217   25]\n",
      " [1968   25]\n",
      " [3012   25]\n",
      " [1824   25]\n",
      " [3929   25]\n",
      " [2682   25]\n",
      " [3112   25]\n",
      " [2303   25]\n",
      " [3903   25]\n",
      " [3095   25]\n",
      " [2383   25]\n",
      " [2146   25]\n",
      " [3958   25]]\n"
     ]
    }
   ],
   "source": [
    "#tạo một numpy array với nhiều trường\n",
    "E = people_df[[\"person_ID\",\"age\"]].values\n",
    "print(E)"
   ]
  },
  {
   "cell_type": "code",
   "execution_count": null,
   "metadata": {},
   "outputs": [],
   "source": []
  }
 ],
 "metadata": {
  "kernelspec": {
   "display_name": "Python 3",
   "language": "python",
   "name": "python3"
  },
  "language_info": {
   "codemirror_mode": {
    "name": "ipython",
    "version": 3
   },
   "file_extension": ".py",
   "mimetype": "text/x-python",
   "name": "python",
   "nbconvert_exporter": "python",
   "pygments_lexer": "ipython3",
   "version": "3.6.1"
  }
 },
 "nbformat": 4,
 "nbformat_minor": 4
}
