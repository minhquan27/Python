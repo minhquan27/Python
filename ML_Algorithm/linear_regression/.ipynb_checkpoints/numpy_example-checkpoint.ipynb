{
 "cells": [
  {
   "cell_type": "markdown",
   "metadata": {},
   "source": [
    "\n",
    "\n",
    "Nội dung\n",
    "1. Các lệnh cơ bản trong numpy.\n",
    "2. Các lệnh cơ bản trong machine learning. (bổ sung dần)\n",
    "\n",
    "source: https://www.tutorialspoint.com/numpy/index.htm"
   ]
  },
  {
   "cell_type": "code",
   "execution_count": 1,
   "metadata": {},
   "outputs": [],
   "source": [
    "import numpy as np"
   ]
  },
  {
   "cell_type": "markdown",
   "metadata": {},
   "source": [
    "1 Các lệnh cơ bản trong numpy\n",
    "\n",
    "Khởi tạo ma trận, kích thước ma trận"
   ]
  },
  {
   "cell_type": "code",
   "execution_count": 2,
   "metadata": {},
   "outputs": [
    {
     "name": "stdout",
     "output_type": "stream",
     "text": [
      "[1 2 3 4]\n",
      "3\n",
      "4\n",
      "(4,)\n",
      "[[ 1  2  3]\n",
      " [ 4  5  6]\n",
      " [ 7  8  9]\n",
      " [10 11 12]]\n",
      "(4, 3)\n",
      "[4 5 6]\n"
     ]
    }
   ],
   "source": [
    "# vecto\n",
    "x = np.array([1, 2, 3, 4])\n",
    "print(x)\n",
    "print(x[2]) # lấy ra phần tử thứ 3, phần tử đầu tiên index =0\n",
    "print(x[-1]) # lấy ra phần tử cuối cùng\n",
    "print(x.shape)\n",
    "# Matrix\n",
    "A = np.array([[1, 2, 3], [4, 5, 6], [7, 8, 9], [10, 11, 12]])\n",
    "print(A)\n",
    "m ,n = A.shape # m số hàng = A.shape[0] , n là số cột = A.shape[1]\n",
    "print(A.shape)\n",
    "print(A[1]) # lấy ra hàng (block) thứ 2.\n"
   ]
  },
  {
   "cell_type": "code",
   "execution_count": 3,
   "metadata": {},
   "outputs": [
    {
     "name": "stdout",
     "output_type": "stream",
     "text": [
      "[[0. 0.]\n",
      " [0. 0.]]\n",
      "[[1. 1. 1.]\n",
      " [1. 1. 1.]\n",
      " [1. 1. 1.]]\n",
      "[[1. 0. 0. 0.]\n",
      " [0. 1. 0. 0.]\n",
      " [0. 0. 1. 0.]\n",
      " [0. 0. 0. 1.]]\n"
     ]
    }
   ],
   "source": [
    "# matrix zeros nxn\n",
    "A = np.zeros((2,2))\n",
    "# matrix ones nxn\n",
    "B = np.ones((3,3))\n",
    "# matrix đơn vị\n",
    "C = np.eye(4)\n",
    "print(A)\n",
    "print(B)\n",
    "print(C)"
   ]
  },
  {
   "cell_type": "markdown",
   "metadata": {},
   "source": [
    "Các phép toán cơ bản trên ma trận"
   ]
  },
  {
   "cell_type": "code",
   "execution_count": 4,
   "metadata": {},
   "outputs": [
    {
     "name": "stdout",
     "output_type": "stream",
     "text": [
      "[[ 3  6  9]\n",
      " [12 15 18]\n",
      " [21 24 28]]\n",
      "[[-1 -2 -3]\n",
      " [-4 -5 -6]\n",
      " [-7 -8 -8]]\n",
      "[[ 60  72  84]\n",
      " [132 162 192]\n",
      " [218 268 318]]\n",
      "[[  2   8  18]\n",
      " [ 32  50  72]\n",
      " [ 98 128 180]]\n",
      "[[-0.66666667 -1.33333333  1.        ]\n",
      " [-0.66666667  3.66666667 -2.        ]\n",
      " [ 1.         -2.          1.        ]]\n",
      "[[ 1.00000000e+00  0.00000000e+00  2.22044605e-16]\n",
      " [ 1.33226763e-15  1.00000000e+00  8.88178420e-16]\n",
      " [-7.77156117e-16  0.00000000e+00  1.00000000e+00]]\n",
      "[[ 1  4  7]\n",
      " [ 2  5  8]\n",
      " [ 3  6 10]]\n"
     ]
    }
   ],
   "source": [
    "# các phép toán trên ma trận\n",
    "A = np.array([[1, 2, 3], [4, 5, 6], [7, 8, 10]])\n",
    "B = np.array([[2, 4, 6], [8, 10, 12], [14, 16, 18]])\n",
    "# cộng hai ma trận có cùng kích thước\n",
    "C = np.add(A,B) # or C =  A + B\n",
    "print(C)\n",
    "# hiệu hai ma trận có cùng kích thước\n",
    "D = np.subtract(A,B) # or D = A - B\n",
    "print(D)\n",
    "# tích hai ma trận A = (m; n) và B =(n; p)  số cột ma trận VT = số hàng ma trận vế phải\n",
    "E = np.dot(A, B) # or E = A.dot(B)\n",
    "print(E)\n",
    "# tích từng phần tử của ma trận A với từng phần tử của ma trận B\n",
    "F = np.multiply(A, B) # or F = A * B\n",
    "print(F)\n",
    "# tìm ma trận nghịch đảo của ma trận vuông A\n",
    "G = np.linalg.inv(A)\n",
    "print(G)\n",
    "print(G.dot(A)) # kết quả là ma trận đơn vị\n",
    "# chuyển vị của ma trận\n",
    "T = A.T\n",
    "print(T)"
   ]
  },
  {
   "cell_type": "markdown",
   "metadata": {},
   "source": [
    "2 Các lệnh cơ bản trong machine learning\n",
    "\n"
   ]
  },
  {
   "cell_type": "code",
   "execution_count": 5,
   "metadata": {},
   "outputs": [
    {
     "name": "stdout",
     "output_type": "stream",
     "text": [
      "[1 2 3]\n",
      "[14 32 50]\n"
     ]
    }
   ],
   "source": [
    "# vecto \n",
    "x = np.array([1,2,3])\n",
    "print(x)\n",
    "# matrix\n",
    "A = np.array([[1, 2, 3], [4, 5, 6], [7, 8, 9]])\n",
    "print(A.dot(x))"
   ]
  },
  {
   "cell_type": "code",
   "execution_count": 6,
   "metadata": {},
   "outputs": [
    {
     "name": "stdout",
     "output_type": "stream",
     "text": [
      "[[1 2 3 4 5 6 7 8 9]]\n",
      "[[1]\n",
      " [2]\n",
      " [3]\n",
      " [4]\n",
      " [5]\n",
      " [6]\n",
      " [7]\n",
      " [8]\n",
      " [9]]\n"
     ]
    }
   ],
   "source": [
    "# reshape ma trận A\n",
    "C = A.reshape(1,9) # đưa ma trận A về ma trận có kích thước (m,n)\n",
    "print(C)\n",
    "D = A.reshape(9,1)\n",
    "print(D)"
   ]
  },
  {
   "cell_type": "code",
   "execution_count": 7,
   "metadata": {},
   "outputs": [
    {
     "name": "stdout",
     "output_type": "stream",
     "text": [
      "[[1.]\n",
      " [1.]\n",
      " [1.]]\n",
      "[[1. 1. 2. 3.]\n",
      " [1. 4. 5. 6.]\n",
      " [1. 7. 8. 9.]]\n"
     ]
    }
   ],
   "source": [
    "# thêm số vào từng hàng cho ma trận A\n",
    "one = np.ones((A.shape[0], 1))\n",
    "print(one)\n",
    "A_bar = np.concatenate((one, A), axis =1)\n",
    "print(A_bar)"
   ]
  },
  {
   "cell_type": "code",
   "execution_count": 8,
   "metadata": {},
   "outputs": [
    {
     "name": "stdout",
     "output_type": "stream",
     "text": [
      "[ 3  4  5  8 11]\n",
      "[[3 5 9]\n",
      " [1 2 4]]\n"
     ]
    }
   ],
   "source": [
    "# sắp xếp một vecto, một ma trận\n",
    "x = np.array ([11, 5, 4, 3, 8])\n",
    "print(np.sort(x))\n",
    "A = np.array([[9, 5, 3],[4, 1, 2]])\n",
    "print(np.sort(A))"
   ]
  },
  {
   "cell_type": "code",
   "execution_count": 9,
   "metadata": {},
   "outputs": [
    {
     "name": "stdout",
     "output_type": "stream",
     "text": [
      "[3 1]\n",
      "[9 4]\n"
     ]
    }
   ],
   "source": [
    "# trả về vecto giá trị lớn nhất, nhỏ nhất trong mỗi hàng ma trận\n",
    "c = np.min(A, axis = 1)\n",
    "print(c)\n",
    "d = np.max(A, axis = 1)\n",
    "print(d)\n"
   ]
  },
  {
   "cell_type": "code",
   "execution_count": 10,
   "metadata": {},
   "outputs": [
    {
     "name": "stdout",
     "output_type": "stream",
     "text": [
      "[1 2 3 4 6 8]\n"
     ]
    }
   ],
   "source": [
    "# trả về vecto các phần tử giống nhau đã sắp xếp\n",
    "x = np.array([2, 1, 4, 6, 8, 2, 4, 3,4])\n",
    "e = np.unique(x)\n",
    "print(e)"
   ]
  },
  {
   "cell_type": "code",
   "execution_count": 11,
   "metadata": {},
   "outputs": [
    {
     "name": "stdout",
     "output_type": "stream",
     "text": [
      "[[9 5 3]\n",
      " [4 1 2]]\n",
      "24\n",
      "[13  6  5]\n",
      "[17  7]\n"
     ]
    }
   ],
   "source": [
    "# tính tổng các phần tử trong một hàng của ma trận A\n",
    "print(A)\n",
    "# tổng tất cả\n",
    "E = np.sum(A)\n",
    "print(E)\n",
    "# tổng từng cột\n",
    "F = np.sum(A, axis = 0)\n",
    "print(F)\n",
    "# tổng từng hàng\n",
    "G = np.sum(A, axis = 1)\n",
    "print(G)"
   ]
  },
  {
   "cell_type": "code",
   "execution_count": null,
   "metadata": {},
   "outputs": [],
   "source": []
  }
 ],
 "metadata": {
  "kernelspec": {
   "display_name": "Python 3",
   "language": "python",
   "name": "python3"
  },
  "language_info": {
   "codemirror_mode": {
    "name": "ipython",
    "version": 3
   },
   "file_extension": ".py",
   "mimetype": "text/x-python",
   "name": "python",
   "nbconvert_exporter": "python",
   "pygments_lexer": "ipython3",
   "version": "3.6.1"
  }
 },
 "nbformat": 4,
 "nbformat_minor": 4
}
