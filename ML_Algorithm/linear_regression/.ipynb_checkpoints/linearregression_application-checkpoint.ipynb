{
 "cells": [
  {
   "cell_type": "markdown",
   "metadata": {},
   "source": [
    "Tài liệu tham khảo:\n",
    "\n",
    "1) http://vai.org.vn/docs/Daotao/PtichDlieu/Thu5/ChieuThu5.pdf\n",
    "\n",
    "2) Sách Machine Learning cơ bản, Vũ Hữu Tiệp\n",
    "\n",
    "3) https://www.vithon.org/2018/06/may-hoc-pho-thong-6.html"
   ]
  },
  {
   "cell_type": "markdown",
   "metadata": {},
   "source": [
    "Sử dụng mô hình hồi quy tuyến tính (linear regression) dự báo giá nhà ở Boston.\n",
    "1. Sử dụng bộ dữ liệu home_data.csv\n",
    "2. Xử lý dữ liệu : thống kê dữ liệu, vẽ đồ thị, tìm những dữ liệu có tính chất tuyến tính theo giá nhà (có quan hệ đồng biến), loại bỏ các điểm dữ liệu nhiễu.\n",
    "3. Sử dụng mô hình hồi quy tuyến tính, đưa ra tham số.\n",
    "4. So sánh giá nhà dự đoán với giá nhà thực tế.\n",
    "5. Điều chỉnh mô hình."
   ]
  },
  {
   "cell_type": "markdown",
   "metadata": {},
   "source": [
    "Cài đặt thư viện"
   ]
  },
  {
   "cell_type": "code",
   "execution_count": 1,
   "metadata": {},
   "outputs": [],
   "source": [
    "import numpy as np\n",
    "import pandas as pd\n",
    "from sklearn import datasets, linear_model\n",
    "from sklearn.model_selection import train_test_split"
   ]
  },
  {
   "cell_type": "code",
   "execution_count": 2,
   "metadata": {},
   "outputs": [
    {
     "name": "stdout",
     "output_type": "stream",
     "text": [
      "<class 'pandas.core.frame.DataFrame'>\n",
      "RangeIndex: 555 entries, 0 to 554\n",
      "Data columns (total 22 columns):\n",
      " #   Column                Non-Null Count  Dtype  \n",
      "---  ------                --------------  -----  \n",
      " 0   num_bed               555 non-null    int64  \n",
      " 1   year_built            555 non-null    int64  \n",
      " 2   longitude             555 non-null    float64\n",
      " 3   latitude              555 non-null    float64\n",
      " 4   num_room              555 non-null    float64\n",
      " 5   num_bath              555 non-null    int64  \n",
      " 6   living_area           555 non-null    float64\n",
      " 7   property_type         555 non-null    int64  \n",
      " 8   num_parking           555 non-null    int64  \n",
      " 9   accessible_buildings  555 non-null    int64  \n",
      " 10  family_quality        555 non-null    int64  \n",
      " 11  art_expos             555 non-null    int64  \n",
      " 12  emergency_shelters    555 non-null    int64  \n",
      " 13  emergency_water       555 non-null    int64  \n",
      " 14  Facilities            555 non-null    int64  \n",
      " 15  fire_stations         555 non-null    int64  \n",
      " 16  Cultural              555 non-null    int64  \n",
      " 17  Monuments             555 non-null    int64  \n",
      " 18  police_stations       555 non-null    int64  \n",
      " 19  Vacant                555 non-null    int64  \n",
      " 20  Free_Parking          555 non-null    int64  \n",
      " 21  askprice              555 non-null    int64  \n",
      "dtypes: float64(4), int64(18)\n",
      "memory usage: 95.5 KB\n",
      "['num_bed' 'year_built' 'longitude' 'latitude' 'num_room' 'num_bath'\n",
      " 'living_area' 'property_type' 'num_parking' 'accessible_buildings'\n",
      " 'family_quality' 'art_expos' 'emergency_shelters' 'emergency_water'\n",
      " 'Facilities' 'fire_stations' 'Cultural' 'Monuments' 'police_stations'\n",
      " 'Vacant' 'Free_Parking' 'askprice']\n"
     ]
    }
   ],
   "source": [
    "# Xem dữ liệu\n",
    "home_data = pd.read_csv('home_data.csv', encoding='utf-8') \n",
    "home_data.head()    \n",
    "home_data.info()\n",
    "list_home = np.array(home_data.columns)\n",
    "print(list_home)"
   ]
  },
  {
   "cell_type": "markdown",
   "metadata": {},
   "source": [
    "Muốn xem sự phụ thuộc giá tiền phòng phụ vào các trường dữ liệu khác thì phải thống kê, vẽ đồ thị tìm sự tương quan giữa các yếu tô (update lần tới).\n",
    "\n",
    "Để đơn giản giá tiền phụ thuộc tổng số phòng (num_bed + num_room + num_bath) + diện tích (living_area)+ chất lượng gia đình (family_quality) (Chỉ căn cứ quan sát dữ liệu, chưa thống kê đi vào chi tiết).\n",
    "Đi đến việc xử lý dữ liệu."
   ]
  },
  {
   "cell_type": "code",
   "execution_count": 3,
   "metadata": {},
   "outputs": [],
   "source": [
    " #X_1 = home_data[[\"num_bed\",\"num_room\", \"num_bath\"]].values\n",
    " #X_2 = home_data[[\"living_area\"]].values"
   ]
  },
  {
   "cell_type": "code",
   "execution_count": 4,
   "metadata": {},
   "outputs": [],
   "source": [
    "def lr_data():\n",
    "    home_data = pd.read_csv('home_data.csv', encoding='utf-8') \n",
    "    X_1 = home_data[[\"num_bed\",\"num_room\", \"num_bath\"]].values\n",
    "    X_2 = home_data[[\"living_area\",\"family_quality\"]].values\n",
    "    y   = home_data[[\"askprice\"]].values\n",
    "    return np.concatenate((np.sum(X_1,axis =1).reshape(-1,1),X_2),axis =1), y"
   ]
  },
  {
   "cell_type": "code",
   "execution_count": 5,
   "metadata": {},
   "outputs": [],
   "source": [
    "def linear_data(X):\n",
    "    N,d = X.shape\n",
    "    one = np.ones((N,1))\n",
    "    X_bar = np.concatenate((one,X),axis = 1)\n",
    "    return X_bar\n",
    "\n",
    "def linear_regression(X_train,y_train):\n",
    "    X_bar = linear_data(X_train)\n",
    "    A = np.dot(X_bar.T, X_bar)\n",
    "    b = np.dot(X_bar.T, y_train)\n",
    "    w = np.dot(np.linalg.pinv(A), b)\n",
    "    return w\n",
    "\n",
    "def linearregression_predic(X_train,y_train,X_test):\n",
    "    X1 = linear_data(X_test)\n",
    "    w = linear_regression(X_train,y_train)\n",
    "    return X1.dot(w)\n"
   ]
  },
  {
   "cell_type": "code",
   "execution_count": 6,
   "metadata": {},
   "outputs": [
    {
     "name": "stdout",
     "output_type": "stream",
     "text": [
      "Số dữ liệu train: (527, 3)\n",
      "Số dữ liệu test: (28, 3)\n",
      "Kết quả dữ liệu test:\n",
      "[[699000]\n",
      " [435000]\n",
      " [349900]\n",
      " [495900]\n",
      " [220000]\n",
      " [699000]\n",
      " [280000]\n",
      " [327500]\n",
      " [545000]\n",
      " [308000]\n",
      " [429000]\n",
      " [320000]\n",
      " [299000]\n",
      " [229000]\n",
      " [325000]\n",
      " [372000]\n",
      " [429000]\n",
      " [459000]\n",
      " [279000]\n",
      " [539000]\n",
      " [292800]\n",
      " [198000]\n",
      " [398000]\n",
      " [379000]\n",
      " [254900]\n",
      " [374900]\n",
      " [519000]\n",
      " [309000]]\n",
      "Đầu vào dữ liệu test:\n",
      "[[  7.   138.43 101.  ]\n",
      " [  8.    83.61 143.  ]\n",
      " [ 13.   120.77 124.  ]\n",
      " [ 14.   128.21 181.  ]\n",
      " [  5.    68.01 128.  ]\n",
      " [ 11.   111.48 171.  ]\n",
      " [  5.    48.31 137.  ]\n",
      " [ 11.   111.48 128.  ]\n",
      " [  9.   115.66  89.  ]\n",
      " [  7.    89.65 164.  ]\n",
      " [  7.   109.25 106.  ]\n",
      " [  3.    85.94 128.  ]\n",
      " [  8.   120.   146.  ]\n",
      " [  6.    60.94 156.  ]\n",
      " [ 10.    93.65 141.  ]\n",
      " [  8.    83.71 129.  ]\n",
      " [  7.    92.9  131.  ]\n",
      " [ 10.   124.49 167.  ]\n",
      " [ 10.    98.94 157.  ]\n",
      " [  9.   116.5  175.  ]\n",
      " [  9.    96.8   83.  ]\n",
      " [  8.    65.03 105.  ]\n",
      " [  9.   117.34 135.  ]\n",
      " [  9.   104.98 128.  ]\n",
      " [  7.    92.9  124.  ]\n",
      " [  8.   114.55 162.  ]\n",
      " [ 12.   135.64 130.  ]\n",
      " [  6.    83.61 163.  ]]\n"
     ]
    }
   ],
   "source": [
    "X, y = lr_data()\n",
    "#print(X)\n",
    "#print(y)\n",
    "#print(X.shape)\n",
    "#print(y.shape)\n",
    "X_train, X_test, y_train, y_test = train_test_split(X, y, test_size = 0.05)\n",
    "print(\"Số dữ liệu train:\",X_train.shape)\n",
    "print(\"Số dữ liệu test:\",X_test.shape)\n",
    "print(\"Kết quả dữ liệu test:\")\n",
    "print(y_test)\n",
    "print(\"Đầu vào dữ liệu test:\")\n",
    "print(X_test)"
   ]
  },
  {
   "cell_type": "code",
   "execution_count": 7,
   "metadata": {},
   "outputs": [
    {
     "name": "stdout",
     "output_type": "stream",
     "text": [
      " Tham số mô hình: [[ 5121.35143857]\n",
      " [17530.2705014 ]\n",
      " [ 1428.16893224]\n",
      " [  509.86633935]]\n"
     ]
    }
   ],
   "source": [
    "print(\" Tham số mô hình:\",linear_regression(X_train,y_train))"
   ]
  },
  {
   "cell_type": "code",
   "execution_count": 8,
   "metadata": {},
   "outputs": [],
   "source": [
    "y_pred = linearregression_predic(X_train,y_train,X_test)\n",
    "#print(y_test)\n",
    "#print(y_pred)"
   ]
  },
  {
   "cell_type": "code",
   "execution_count": 9,
   "metadata": {},
   "outputs": [
    {
     "name": "stdout",
     "output_type": "stream",
     "text": [
      "so sánh:\n",
      "Real: [699000], predicted: [377031.17051307]\n",
      "Real: [435000], predicted: [337683.606402]\n",
      "Real: [349900], predicted: [468718.25598328]\n",
      "Real: [495900], predicted: [525936.48468375]\n",
      "Real: [220000], predicted: [255165.36446455]\n",
      "Real: [699000], predicted: [444353.74354964]\n",
      "Real: [280000], predicted: [231619.23355362]\n",
      "Real: [327500], predicted: [422429.49095739]\n",
      "Real: [545000], predicted: [373453.90885653]\n",
      "Real: [308000], predicted: [339486.66937777]\n",
      "Real: [429000], predicted: [337906.5327671]\n",
      "Real: [320000], predicted: [245711.8924168]\n",
      "Real: [299000], predicted: [391184.27286426]\n",
      "Real: [229000], predicted: [276874.73811694]\n",
      "Real: [325000], predicted: [386063.23080577]\n",
      "Real: [372000], predicted: [330688.29454426]\n",
      "Real: [429000], predicted: [327302.62920885]\n",
      "Real: [459000], predicted: [443364.48549925]\n",
      "Real: [279000], predicted: [401776.10588699]\n",
      "Real: [539000], predicted: [418502.0759441]\n",
      "Real: [292800], predicted: [343459.44475837]\n",
      "Real: [198000], predicted: [291773.30674552]\n",
      "Real: [398000], predicted: [399307.084273]\n",
      "Real: [379000], predicted: [378085.85189504]\n",
      "Real: [254900], predicted: [323733.56483337]\n",
      "Real: [374900], predicted: [391558.61361322]\n",
      "Real: [519000], predicted: [475484.05554041]\n",
      "Real: [309000], predicted: [312820.39218629]\n"
     ]
    }
   ],
   "source": [
    "print(\"so sánh:\")\n",
    "for i in range(y_test.shape[0]):\n",
    "    print('Real: {}, predicted: {}'.format(y_test[i], y_pred[i]))"
   ]
  },
  {
   "cell_type": "markdown",
   "metadata": {},
   "source": [
    "Sử dụng thư viện"
   ]
  },
  {
   "cell_type": "code",
   "execution_count": 10,
   "metadata": {},
   "outputs": [
    {
     "name": "stdout",
     "output_type": "stream",
     "text": [
      "Tham số của mô hình: \n",
      "[17530.27050141  1428.16893224   509.86633936] [5121.35143829]\n",
      "Điểm của mô hình 1 0.38931768269040196\n",
      "Điểm của mô hình 2 0.2864023544666551\n",
      "Dữ liệu dự đoán:\n",
      " [[  7.   138.43 101.  ]\n",
      " [  8.    83.61 143.  ]\n",
      " [ 13.   120.77 124.  ]\n",
      " [ 14.   128.21 181.  ]\n",
      " [  5.    68.01 128.  ]\n",
      " [ 11.   111.48 171.  ]\n",
      " [  5.    48.31 137.  ]\n",
      " [ 11.   111.48 128.  ]\n",
      " [  9.   115.66  89.  ]\n",
      " [  7.    89.65 164.  ]\n",
      " [  7.   109.25 106.  ]\n",
      " [  3.    85.94 128.  ]\n",
      " [  8.   120.   146.  ]\n",
      " [  6.    60.94 156.  ]\n",
      " [ 10.    93.65 141.  ]\n",
      " [  8.    83.71 129.  ]\n",
      " [  7.    92.9  131.  ]\n",
      " [ 10.   124.49 167.  ]\n",
      " [ 10.    98.94 157.  ]\n",
      " [  9.   116.5  175.  ]\n",
      " [  9.    96.8   83.  ]\n",
      " [  8.    65.03 105.  ]\n",
      " [  9.   117.34 135.  ]\n",
      " [  9.   104.98 128.  ]\n",
      " [  7.    92.9  124.  ]\n",
      " [  8.   114.55 162.  ]\n",
      " [ 12.   135.64 130.  ]\n",
      " [  6.    83.61 163.  ]]\n"
     ]
    }
   ],
   "source": [
    "regr = linear_model.LinearRegression() # khởi tạo mô hình\n",
    "regr.fit(X_train,y_train)           # luyện mô hình\n",
    "\n",
    "\n",
    "print(\"Tham số của mô hình: \")\n",
    "print(regr.coef_[0], regr.intercept_)\n",
    "print(\"Điểm của mô hình 1\",regr.score(X_train,y_train))\n",
    "print(\"Điểm của mô hình 2\",regr.score(X_test,y_test))\n",
    "print(\"Dữ liệu dự đoán:\\n\",X_test)\n",
    "y_pred = regr.predict(X_test)\n",
    "#print(\"Giá trị dự đoán\",y_pred)\n",
    "#print(\"Gía trị thực:\",y_test)\n"
   ]
  },
  {
   "cell_type": "code",
   "execution_count": 11,
   "metadata": {},
   "outputs": [
    {
     "name": "stdout",
     "output_type": "stream",
     "text": [
      "So sánh:\n",
      "Real: [699000], predicted: [377031.17051303]\n",
      "Real: [435000], predicted: [337683.60640199]\n",
      "Real: [349900], predicted: [468718.25598331]\n",
      "Real: [495900], predicted: [525936.48468386]\n",
      "Real: [220000], predicted: [255165.36446449]\n",
      "Real: [699000], predicted: [444353.7435497]\n",
      "Real: [280000], predicted: [231619.23355356]\n",
      "Real: [327500], predicted: [422429.49095741]\n",
      "Real: [545000], predicted: [373453.90885648]\n",
      "Real: [308000], predicted: [339486.66937778]\n",
      "Real: [429000], predicted: [337906.53276705]\n",
      "Real: [320000], predicted: [245711.89241673]\n",
      "Real: [299000], predicted: [391184.27286427]\n",
      "Real: [229000], predicted: [276874.73811692]\n",
      "Real: [325000], predicted: [386063.23080579]\n",
      "Real: [372000], predicted: [330688.29454424]\n",
      "Real: [429000], predicted: [327302.62920882]\n",
      "Real: [459000], predicted: [443364.48549931]\n",
      "Real: [279000], predicted: [401776.10588703]\n",
      "Real: [539000], predicted: [418502.07594415]\n",
      "Real: [292800], predicted: [343459.4447583]\n",
      "Real: [198000], predicted: [291773.30674546]\n",
      "Real: [398000], predicted: [399307.08427301]\n",
      "Real: [379000], predicted: [378085.85189503]\n",
      "Real: [254900], predicted: [323733.56483333]\n",
      "Real: [374900], predicted: [391558.61361325]\n",
      "Real: [519000], predicted: [475484.05554044]\n",
      "Real: [309000], predicted: [312820.39218629]\n"
     ]
    }
   ],
   "source": [
    "print(\"So sánh:\")\n",
    "for i in range(y_test.shape[0]):\n",
    "    print('Real: {}, predicted: {}'.format(y_test[i], y_pred[i]))"
   ]
  }
 ],
 "metadata": {
  "kernelspec": {
   "display_name": "Python 3",
   "language": "python",
   "name": "python3"
  },
  "language_info": {
   "codemirror_mode": {
    "name": "ipython",
    "version": 3
   },
   "file_extension": ".py",
   "mimetype": "text/x-python",
   "name": "python",
   "nbconvert_exporter": "python",
   "pygments_lexer": "ipython3",
   "version": "3.6.1"
  }
 },
 "nbformat": 4,
 "nbformat_minor": 4
}
