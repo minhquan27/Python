{
 "cells": [
  {
   "cell_type": "markdown",
   "metadata": {},
   "source": [
    "# Thuật toán K-nearest neighbors"
   ]
  },
  {
   "cell_type": "markdown",
   "metadata": {},
   "source": [
    "source:\n",
    "\n",
    "https://scikit-learn.org/stable/modules/generated/sklearn.neighbors.KNeighborsClassifier.html\n",
    "\n",
    "https://machinelearningcoban.com/2017/01/08/knn/\n",
    " \n",
    "KNN, trong bài toán classification, nhãn của một điểm dữ liệu mới được suy ra trực tiếp từ K điểm dữ liệu gần nhất trong tập huấn luyện.\n",
    "1. KNN là thuật toán lazy learning, không có hàm mất mát và không có bài toán tối ưu phải thực hiện trong quá trình huấn luyện.\n",
    "2. Mỗi điểm dữ liệu được thể hiện bằng một vector đặc trưng và khoảng cách giữa hai điểm chính là khoảng cách giữa hai vector đó.\n",
    "3. KNN sẽ tính khoảng cách từ một điểm dữ liệu mới z đến N điểm dữ liệu đã cho và chọn ra K khoảng cách nhỏ nhất."
   ]
  },
  {
   "cell_type": "code",
   "execution_count": 1,
   "metadata": {},
   "outputs": [],
   "source": [
    "# cài đặt thư viện\n",
    "import numpy as np\n",
    "from time import time\n",
    "d, N = 1000, 10000\n",
    "X = np.random.randn(N,d)\n",
    "z = np.random.randn(d)"
   ]
  },
  {
   "cell_type": "code",
   "execution_count": 2,
   "metadata": {},
   "outputs": [
    {
     "name": "stdout",
     "output_type": "stream",
     "text": [
      "naive point2set, running time: 0.11867952346801758 s\n",
      "fast point2set , running time: 0.06782221794128418 s\n",
      "Result difference: 2.1601695837514164e-11\n"
     ]
    }
   ],
   "source": [
    "# naively compute square distance between two vector \n",
    "def dist_pp(z, x): \n",
    "    d = z - x.reshape(z.shape) # force x and z to have the same dims \n",
    "    return np.sum(d*d)\n",
    "\n",
    "# from one point to each point in a set, naive \n",
    "def dist_ps_naive(z, X):\n",
    "    N = X.shape[0]\n",
    "    res = np.zeros((1, N)) \n",
    "    for i in range(N):\n",
    "        res[0][i] = dist_pp(z, X[i])\n",
    "    return res \n",
    "\n",
    "# from one point to each point in a set, fast\n",
    "def dist_ps_fast(z, X):\n",
    "    X2 = np.sum(X*X, 1) # squared of norm 2 of each ROW of X\n",
    "    z2 = np.sum(z*z) # squared of norm 2 of z \n",
    "    return X2 + z2 - 2*X.dot(z)\n",
    "\n",
    "t1 = time() \n",
    "D1 = dist_ps_naive(z, X)\n",
    "print('naive point2set, running time:', time() - t1, 's')\n",
    "\n",
    "t1 = time() \n",
    "D2 = dist_ps_fast(z, X)\n",
    "print('fast point2set , running time:', time() - t1, 's')\n",
    "print('Result difference:', np.linalg.norm(D1 - D2))"
   ]
  },
  {
   "cell_type": "code",
   "execution_count": 3,
   "metadata": {},
   "outputs": [
    {
     "data": {
      "text/plain": [
       "'X = np.array([[1,2,3],[4,5,6]])\\nz = np.array([2,4,6])\\nX1 = np.sum(X*X, axis = 1)\\nz1 = np.sum(z*z)\\nprint(X1)\\nprint(z1)\\nprint(X1 + z1)\\nprint(X1.dot(z1))'"
      ]
     },
     "execution_count": 3,
     "metadata": {},
     "output_type": "execute_result"
    }
   ],
   "source": [
    "#test\n",
    "'''X = np.array([[1,2,3],[4,5,6]])\n",
    "z = np.array([2,4,6])\n",
    "X1 = np.sum(X*X, axis = 1)\n",
    "z1 = np.sum(z*z)\n",
    "print(X1)\n",
    "print(z1)\n",
    "print(X1 + z1)\n",
    "print(X1.dot(z1))'''"
   ]
  },
  {
   "cell_type": "markdown",
   "metadata": {},
   "source": [
    "Tính khoảng cách giữ nhiều điểm của tập Z tới X. Tính khoảng cách từng điểm trong tập kiểm thử và một điểm trong tập huấn luyện"
   ]
  },
  {
   "cell_type": "code",
   "execution_count": 4,
   "metadata": {},
   "outputs": [
    {
     "name": "stdout",
     "output_type": "stream",
     "text": [
      "half fast set2set running time: 8.173517227172852 s\n",
      "fast set2set  running time 0.1281731128692627 s\n",
      "Result difference: 9.646889229340265e-11\n"
     ]
    }
   ],
   "source": [
    "M = 100 \n",
    "Z = np.random.randn(M, d)\n",
    "\n",
    "# from each point in one set to each point in another set, half fast \n",
    "def dist_ss_0(Z, X):\n",
    "    M = Z.shape[0]\n",
    "    N = X.shape[0]\n",
    "    res = np.zeros((M, N))\n",
    "    for i in range(M):\n",
    "        res[i] = dist_ps_fast(Z[i], X)\n",
    "    return res \n",
    "\n",
    "# from each point in one set to each point in another set, fast \n",
    "def dist_ss_fast(Z, X):\n",
    "    X2 = np.sum(X*X, 1) # squared of norm 2 of each ROW of X\n",
    "    Z2 = np.sum(Z*Z, 1) # squared of norm 2 of each ROW of Z\n",
    "    return Z2.reshape(-1, 1) + X2.reshape(1, -1) - 2*Z.dot(X.T)\n",
    "\n",
    "t1 = time() \n",
    "D3 = dist_ss_0(Z, X)\n",
    "print('half fast set2set running time:', time() - t1, 's')\n",
    "t1 = time() \n",
    "D4 = dist_ss_fast(Z, X)\n",
    "print('fast set2set  running time', time() - t1, 's')\n",
    "print('Result difference:', np.linalg.norm(D3 - D4))"
   ]
  },
  {
   "cell_type": "code",
   "execution_count": 5,
   "metadata": {},
   "outputs": [
    {
     "name": "stdout",
     "output_type": "stream",
     "text": [
      "[[2052.71391694 2068.41499221 2056.56289702 ... 1998.39890535\n",
      "  2107.77317033 2058.73620249]\n",
      " [2108.20177421 2106.85202485 2078.73415478 ... 1986.08792534\n",
      "  2186.66529148 2121.74574856]\n",
      " [1906.32541559 2044.65372376 2004.13648431 ... 1896.20736216\n",
      "  2034.78037916 2016.38298148]\n",
      " ...\n",
      " [1843.69519515 1969.85424384 1884.54602366 ... 1886.45363581\n",
      "  1932.12508225 2017.15346112]\n",
      " [1993.22015362 1903.09024426 1934.89817184 ... 1986.36418628\n",
      "  1918.87785169 2052.00145293]\n",
      " [2069.64570467 1980.31072086 2136.83823285 ... 1905.94310403\n",
      "  2027.38066538 2052.84565576]]\n"
     ]
    }
   ],
   "source": [
    "print(dist_ss_0(Z,X))"
   ]
  },
  {
   "cell_type": "code",
   "execution_count": 6,
   "metadata": {},
   "outputs": [
    {
     "name": "stdout",
     "output_type": "stream",
     "text": [
      "[[2052.71391694 2068.41499221 2056.56289702 ... 1998.39890535\n",
      "  2107.77317033 2058.73620249]\n",
      " [2108.20177421 2106.85202485 2078.73415478 ... 1986.08792534\n",
      "  2186.66529148 2121.74574856]\n",
      " [1906.32541559 2044.65372376 2004.13648431 ... 1896.20736216\n",
      "  2034.78037916 2016.38298148]\n",
      " ...\n",
      " [1843.69519515 1969.85424384 1884.54602366 ... 1886.45363581\n",
      "  1932.12508225 2017.15346112]\n",
      " [1993.22015362 1903.09024426 1934.89817184 ... 1986.36418628\n",
      "  1918.87785169 2052.00145293]\n",
      " [2069.64570467 1980.31072086 2136.83823285 ... 1905.94310403\n",
      "  2027.38066538 2052.84565576]]\n"
     ]
    }
   ],
   "source": [
    "print(dist_ss_fast(Z,X))"
   ]
  },
  {
   "cell_type": "markdown",
   "metadata": {},
   "source": [
    "# KNN phân lớp trên cơ sở dữ liệu Iris\n",
    "1. iris flower datasets là một bộ dữ liệu nhỏ, bao gồm thông tin của ba loài hoa: iris setosa, iris virginica và iris versicolor.\n",
    "2. Mỗi class gồm có 50 bông hoa với dữ liệu là bốn thông tin.\n",
    "3. Dữ liệu không phải là ảnh mà là vector đặc trưng bốn chiều."
   ]
  },
  {
   "cell_type": "code",
   "execution_count": 7,
   "metadata": {},
   "outputs": [],
   "source": [
    "import numpy as np\n",
    "from sklearn import neighbors, datasets\n",
    "from sklearn.model_selection import train_test_split\n",
    "from sklearn.metrics import accuracy_score"
   ]
  },
  {
   "cell_type": "code",
   "execution_count": 8,
   "metadata": {},
   "outputs": [
    {
     "name": "stdout",
     "output_type": "stream",
     "text": [
      "Labels: [0 1 2]\n"
     ]
    }
   ],
   "source": [
    "iris = datasets.load_iris()\n",
    "iris_X = iris.data\n",
    "iris_y = iris.target\n",
    "print(\"Labels:\", np.unique(iris_y))"
   ]
  },
  {
   "cell_type": "code",
   "execution_count": 9,
   "metadata": {},
   "outputs": [
    {
     "name": "stdout",
     "output_type": "stream",
     "text": [
      "Accuracy of 1NN 93.84615384615384\n",
      "[0 1 1 0 2 0 2 1 2 0 0 1 2 0 0 2 1 1 0 2 1 2 2 2 0 2 2 0 0 2 2 0 0 2 1 0 0\n",
      " 1 1 0 1 2 1 2 2 2 0 0 1 2 0 0 0 1 2 2 1 0 2 0 2 0 0 0 0 2 1 1 2 2 2 1 2 1\n",
      " 2 2 0 0 1 1 2 2 2 1 2 0 2 2 2 2 0 1 1 2 0 1 2 0 1 2 2 1 1 1 0 2 1 2 2 0 1\n",
      " 2 1 0 2 1 1 0 0 1 2 0 0 1 2 1 0 2 0 1]\n"
     ]
    }
   ],
   "source": [
    "X_train, X_test, y_train, y_test = train_test_split(iris_X, iris_y, test_size = 130)\n",
    "model = neighbors.KNeighborsClassifier(n_neighbors = 1, p = 2) # K =1, lấy 1 điểm, p = 2 lấy chuẩn 2 trong không gian Euclid\n",
    "model.fit(X_train,y_train)\n",
    "y_pred = model.predict(X_test)\n",
    "print(\"Accuracy of 1NN\",100*(accuracy_score(y_test,y_pred)))\n",
    "print(y_pred)"
   ]
  },
  {
   "cell_type": "code",
   "execution_count": 10,
   "metadata": {},
   "outputs": [],
   "source": [
    "def scoremodel(y_test,y_pred):\n",
    "    dem = 0\n",
    "    for i in range(len(y_test)):\n",
    "        if y_test[i] == y_pred[i]:\n",
    "            dem = dem +1\n",
    "    a = dem/len(y_test)\n",
    "    return a"
   ]
  },
  {
   "cell_type": "code",
   "execution_count": 11,
   "metadata": {},
   "outputs": [
    {
     "name": "stdout",
     "output_type": "stream",
     "text": [
      "93.84615384615384 %\n"
     ]
    }
   ],
   "source": [
    "print(100*scoremodel(y_test,y_pred),\"%\")"
   ]
  },
  {
   "cell_type": "markdown",
   "metadata": {},
   "source": [
    "# KNN phân lớp điểm trên mặt phẳng\n",
    "Phân loại 1500 điểm trên mặt phẳng, với kì vọng và phương sai có sẵn."
   ]
  },
  {
   "cell_type": "code",
   "execution_count": 12,
   "metadata": {},
   "outputs": [],
   "source": [
    "import random\n",
    "N = 500\n",
    "means = [[2,2],[8,3],[2,2.5]]\n",
    "cov = [[0.1,0],[0,0.1]]\n",
    "X0 = np.random.multivariate_normal(means[0], cov, N)\n",
    "X1 = np.random.multivariate_normal(means[1], cov, N)\n",
    "X2 = np.random.multivariate_normal(means[2], cov, N)"
   ]
  },
  {
   "cell_type": "code",
   "execution_count": 13,
   "metadata": {},
   "outputs": [
    {
     "name": "stdout",
     "output_type": "stream",
     "text": [
      "[[1.82037948 2.30834595]\n",
      " [2.49650676 1.54467325]\n",
      " [2.51194617 1.96889218]\n",
      " ...\n",
      " [1.24220399 2.63150918]\n",
      " [2.33088278 2.5326544 ]\n",
      " [2.14534097 2.43191386]]\n",
      "[0 0 0 ... 2 2 2]\n"
     ]
    }
   ],
   "source": [
    "# Tạo dữ liệu\n",
    "X = np.concatenate((X0,X1,X2))\n",
    "y = np.concatenate(([0]*500,[1]*500,[2]*500))  \n",
    "print(X)\n",
    "print(y)"
   ]
  },
  {
   "cell_type": "code",
   "execution_count": 14,
   "metadata": {},
   "outputs": [
    {
     "name": "stdout",
     "output_type": "stream",
     "text": [
      "Train size: 1200 Test_size: 300\n",
      "Labels: [0 1 2]\n"
     ]
    }
   ],
   "source": [
    "# split data\n",
    "X_train, X_test, y_train, y_test = train_test_split(X,y,test_size=0.2) # train = 80%, test = 20%\n",
    "print(\"Train size:\",X_train.shape[0],\"Test_size:\",X_test.shape[0])\n",
    "print(\"Labels:\",np.unique(y))"
   ]
  },
  {
   "cell_type": "code",
   "execution_count": 15,
   "metadata": {},
   "outputs": [
    {
     "name": "stdout",
     "output_type": "stream",
     "text": [
      "81.66666666666667 %\n"
     ]
    }
   ],
   "source": [
    "model = neighbors.KNeighborsClassifier(n_neighbors = 3,p =2)\n",
    "model.fit(X_train,y_train)\n",
    "y_pred = model.predict(X_test)\n",
    "print(100*accuracy_score(y_test,y_pred),\"%\")"
   ]
  },
  {
   "cell_type": "markdown",
   "metadata": {},
   "source": [
    "# KNN phân loại chữ số\n",
    "Bộ dữ liệu sklearn.datasets.load_digits.\n",
    "1. 10 class : số 0 đến số 9\n",
    "2. Mỗi class khoảng 180 số, tổng số dữ liệu : 1797\n",
    "3. Một feature có kích cỡ là 64: mảng số nguyên từ 0 đến 16\n"
   ]
  },
  {
   "cell_type": "markdown",
   "metadata": {},
   "source": [
    "Đọc dữ liệu"
   ]
  },
  {
   "cell_type": "code",
   "execution_count": 31,
   "metadata": {},
   "outputs": [
    {
     "name": "stdout",
     "output_type": "stream",
     "text": [
      "[[ 0.  0.  5. ...  0.  0.  0.]\n",
      " [ 0.  0.  0. ... 10.  0.  0.]\n",
      " [ 0.  0.  0. ... 16.  9.  0.]\n",
      " ...\n",
      " [ 0.  0.  1. ...  6.  0.  0.]\n",
      " [ 0.  0.  2. ... 12.  0.  0.]\n",
      " [ 0.  0. 10. ... 12.  1.  0.]]\n",
      "[0 1 2 ... 8 9 8]\n"
     ]
    }
   ],
   "source": [
    "from sklearn import datasets, neighbors\n",
    "X_digits, y_digits = datasets.load_digits(return_X_y=True)\n",
    "print(X_digits)\n",
    "print(y_digits)"
   ]
  },
  {
   "cell_type": "markdown",
   "metadata": {},
   "source": [
    "Hiển thị dữ liệu trực quan"
   ]
  },
  {
   "cell_type": "code",
   "execution_count": 38,
   "metadata": {},
   "outputs": [
    {
     "data": {
      "text/plain": [
       "<Figure size 432x288 with 0 Axes>"
      ]
     },
     "metadata": {},
     "output_type": "display_data"
    },
    {
     "data": {
      "image/png": "[encoded data removed]",
      "text/plain": [
       "<Figure size 288x288 with 1 Axes>"
      ]
     },
     "metadata": {
      "needs_background": "light"
     },
     "output_type": "display_data"
    },
    {
     "data": {
      "image/png": "[encoded data removed]",
      "text/plain": [
       "<Figure size 288x288 with 1 Axes>"
      ]
     },
     "metadata": {
      "needs_background": "light"
     },
     "output_type": "display_data"
    },
    {
     "data": {
      "image/png": "[encoded data removed]",
      "text/plain": [
       "<Figure size 288x288 with 1 Axes>"
      ]
     },
     "metadata": {
      "needs_background": "light"
     },
     "output_type": "display_data"
    },
    {
     "data": {
      "image/png": "[encoded data removed]",
      "text/plain": [
       "<Figure size 288x288 with 1 Axes>"
      ]
     },
     "metadata": {
      "needs_background": "light"
     },
     "output_type": "display_data"
    },
    {
     "data": {
      "image/png": "[encoded data removed]",
      "text/plain": [
       "<Figure size 288x288 with 1 Axes>"
      ]
     },
     "metadata": {
      "needs_background": "light"
     },
     "output_type": "display_data"
    }
   ],
   "source": [
    "from sklearn.datasets import load_digits\n",
    "import matplotlib.pyplot as plt \n",
    "digits = load_digits()\n",
    "plt.gray() \n",
    "for i in range(5):\n",
    "    plt.matshow(digits.images[i]) \n",
    "    plt.show() "
   ]
  },
  {
   "cell_type": "code",
   "execution_count": 90,
   "metadata": {},
   "outputs": [
    {
     "name": "stdout",
     "output_type": "stream",
     "text": [
      "[5 2 8 0 1 7 6 3 2 1 7 4 6 3 1 3 9 1 7 6 8 4 3 1 4 0 5 3 6 9 6 1 7 5 4 4 7\n",
      " 2 2 5 7 9 5 4 4 9 0 8 9 8 0 1 2 3 4 5 6 7 8 9 0 1 2 3 4 5 6 7 8 9 0 1 2 3\n",
      " 4 5 6 7 8 9 0 9 5 5 6 5 0 9 8 9 8 4 1 7 7 3 5 1 0 0 2 2 7 8 2 0 1 2 6 3 3\n",
      " 7 3 3 4 6 6 6 4 9 1 5 0 9 5 2 8 2 0 0 1 7 6 3 2 1 7 4 6 3 1 3 9 1 7 6 8 4\n",
      " 3 1 4 0 5 3 6 9 6 1 7 5 4 4 7 2 8 2 2 5 7 9 5 4 8 8 4 9 0 8 9 8]\n",
      "(1617, 64)\n"
     ]
    }
   ],
   "source": [
    "X_digits = X_digits / X_digits.max()\n",
    "n_samples = len(X_digits)\n",
    "X_train = X_digits[:int(.9 * n_samples)]\n",
    "y_train = y_digits[:int(.9 * n_samples)]\n",
    "X_test = X_digits[int(.9 * n_samples):]\n",
    "y_test = y_digits[int(.9 * n_samples):]\n",
    "print(y_test)\n",
    "print(X_train.shape)"
   ]
  },
  {
   "cell_type": "code",
   "execution_count": 91,
   "metadata": {},
   "outputs": [
    {
     "name": "stdout",
     "output_type": "stream",
     "text": [
      "[5 2 8 0 1 7 6 3 2 1 7 4 6 3 1 3 9 1 7 6 8 4 3 1 4 0 5 3 6 9 6 1 7 5 4 4 7\n",
      " 2 2 5 7 3 5 8 4 5 0 8 9 7 0 1 2 3 4 5 6 7 8 9 0 1 2 3 4 5 6 7 8 9 0 1 2 3\n",
      " 4 5 6 7 8 9 0 9 5 5 6 5 0 9 8 9 8 4 1 7 7 3 5 1 0 0 2 2 7 8 2 0 1 2 6 3 2\n",
      " 7 3 3 4 6 6 6 4 9 1 5 0 9 5 2 8 2 0 0 1 7 6 3 2 1 7 4 6 3 1 3 9 1 7 6 8 4\n",
      " 5 1 4 0 5 3 6 9 6 1 7 5 4 4 7 2 8 2 2 5 7 9 5 4 8 1 4 9 0 8 9 8]\n"
     ]
    }
   ],
   "source": [
    "knn = neighbors.KNeighborsClassifier()\n",
    "knn.fit(X_train,y_train)\n",
    "y_pred = knn.predict(X_test)\n",
    "print(y_pred)\n"
   ]
  },
  {
   "cell_type": "markdown",
   "metadata": {},
   "source": [
    "score của mô hình"
   ]
  },
  {
   "cell_type": "code",
   "execution_count": 92,
   "metadata": {},
   "outputs": [
    {
     "name": "stdout",
     "output_type": "stream",
     "text": [
      "KNN score: 96.11111111111111 %\n"
     ]
    }
   ],
   "source": [
    "print(\"KNN score:\",100*accuracy_score(y_test,y_pred),\"%\")"
   ]
  },
  {
   "cell_type": "code",
   "execution_count": 93,
   "metadata": {},
   "outputs": [],
   "source": [
    "def erropoint(y_test,y_pred):\n",
    "    listindex = []\n",
    "    listpoint  = dict()\n",
    "    for i in range(len(y_test)):\n",
    "        if y_test[i] != y_pred[i]:\n",
    "            listpoint[y_test[i]] = y_pred[i]\n",
    "            listindex.append(i)\n",
    "    return listindex , listpoint"
   ]
  },
  {
   "cell_type": "code",
   "execution_count": 89,
   "metadata": {},
   "outputs": [
    {
     "name": "stdout",
     "output_type": "stream",
     "text": [
      "[41, 43, 45, 49, 110, 148, 173]\n",
      "{9: 5, 4: 8, 8: 1, 3: 5}\n"
     ]
    }
   ],
   "source": [
    "listindex1 , listpoint1 = erropoint(y_test,y_pred)\n",
    "print(listindex1)\n",
    "print(listpoint1)"
   ]
  },
  {
   "cell_type": "markdown",
   "metadata": {},
   "source": [
    "Show ảnh nhận diện sai"
   ]
  },
  {
   "cell_type": "code",
   "execution_count": 96,
   "metadata": {},
   "outputs": [
    {
     "name": "stdout",
     "output_type": "stream",
     "text": [
      "4\n"
     ]
    },
    {
     "data": {
      "image/png": "[encoded data removed]",
      "text/plain": [
       "<Figure size 288x288 with 1 Axes>"
      ]
     },
     "metadata": {
      "needs_background": "light"
     },
     "output_type": "display_data"
    }
   ],
   "source": [
    "print(y_digits[1617+43])\n",
    "plt.matshow(digits.images[1617+43]) \n",
    "plt.show() "
   ]
  },
  {
   "cell_type": "code",
   "execution_count": null,
   "metadata": {},
   "outputs": [],
   "source": []
  }
 ],
 "metadata": {
  "kernelspec": {
   "display_name": "Python 3",
   "language": "python",
   "name": "python3"
  },
  "language_info": {
   "codemirror_mode": {
    "name": "ipython",
    "version": 3
   },
   "file_extension": ".py",
   "mimetype": "text/x-python",
   "name": "python",
   "nbconvert_exporter": "python",
   "pygments_lexer": "ipython3",
   "version": "3.6.1"
  }
 },
 "nbformat": 4,
 "nbformat_minor": 4
}
