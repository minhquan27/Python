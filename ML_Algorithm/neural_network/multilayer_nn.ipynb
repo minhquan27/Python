{
 "cells": [
  {
   "cell_type": "markdown",
   "metadata": {},
   "source": [
    "# Activation function- Hàm kích hoạt trong Neural Network\n",
    "Hàm sgn (Perceptron), hàm sigmoid (Logistic Regression), hàm tanh, hàm ReLU, hàm softmax...\n",
    "\n",
    "\n",
    "source:\n",
    "\n",
    "https://blog.vietanhdev.com/posts/2019-09-23-cac-ham-kich-hoat-activation-function-trong-neural-networks/\n",
    "\n",
    "https://towardsdatascience.com/activation-functions-neural-networks-1cbd9f8d91d6"
   ]
  },
  {
   "cell_type": "markdown",
   "metadata": {},
   "source": [
    "<img src=\"activation-functions.png\" width=\"680\" height=\"680\">"
   ]
  },
  {
   "cell_type": "markdown",
   "metadata": {},
   "source": [
    "## Hàm sgn \n",
    "Đầu ra là hai giá trị là -1 và 1, chỉ được sử dụng trong perceptron. "
   ]
  },
  {
   "cell_type": "code",
   "execution_count": 1,
   "metadata": {},
   "outputs": [],
   "source": [
    "import numpy as np\n",
    "def sgn_function(Z):\n",
    "    return np.sign(Z)\n"
   ]
  },
  {
   "cell_type": "markdown",
   "metadata": {},
   "source": [
    "## Hàm sigmoid \n",
    "Nhận đầu vào là một số thực và chuyển thành một giá trị trong khoảng `(0,1)`. Hàm sigmoid gây bão hòa và triệt tiêu gradient (đầu vào có giá trị tuyệt đối rất lớn, gradient hàm số rất gần với 0)."
   ]
  },
  {
   "cell_type": "code",
   "execution_count": 2,
   "metadata": {},
   "outputs": [],
   "source": [
    "def sigmoid_function(Z):\n",
    "    return 1/ (1 + np.exp(-Z))"
   ]
  },
  {
   "cell_type": "code",
   "execution_count": 3,
   "metadata": {},
   "outputs": [],
   "source": [
    "def tanh_function(Z):\n",
    "    return (np.exp(Z)- np.exp(-Z))/(np.exp(Z) + np.exp(-Z))\n",
    "    "
   ]
  },
  {
   "cell_type": "code",
   "execution_count": 4,
   "metadata": {},
   "outputs": [],
   "source": [
    "def ReLU_function(Z):\n",
    "    for i in range(Z.shape[0]):\n",
    "        for j in range(Z.shape[1]):\n",
    "            if Z[i,j] < 0:\n",
    "                Z[i,j] = 0\n",
    "    return Z\n",
    "                \n",
    "                "
   ]
  },
  {
   "cell_type": "markdown",
   "metadata": {},
   "source": [
    "## Hàm softmax\n",
    "Mỗi đầu vào x, a_i thể hiện xác suất để input rơi vào lớp thứ i."
   ]
  },
  {
   "cell_type": "code",
   "execution_count": 5,
   "metadata": {},
   "outputs": [],
   "source": [
    "def softmax_function(Z):\n",
    "    e_Z = np.exp(Z)\n",
    "    A = e_Z / e_Z.sum(axis = 1, keepdims = True)\n",
    "    return A"
   ]
  },
  {
   "cell_type": "code",
   "execution_count": 6,
   "metadata": {},
   "outputs": [],
   "source": [
    "Z = np.array([[-200, 3, 1],[1, 2, -3]])"
   ]
  },
  {
   "cell_type": "code",
   "execution_count": 7,
   "metadata": {},
   "outputs": [
    {
     "name": "stdout",
     "output_type": "stream",
     "text": [
      "[[-1  1  1]\n",
      " [ 1  1 -1]]\n",
      "[[1.38389653e-87 9.52574127e-01 7.31058579e-01]\n",
      " [7.31058579e-01 8.80797078e-01 4.74258732e-02]]\n",
      "[[-1.          0.99505475  0.76159416]\n",
      " [ 0.76159416  0.96402758 -0.99505475]]\n",
      "[[0 3 1]\n",
      " [1 2 0]]\n",
      "[[0.04201007 0.84379473 0.1141952 ]\n",
      " [0.24472847 0.66524096 0.09003057]]\n"
     ]
    }
   ],
   "source": [
    "print(sgn_function(Z))\n",
    "print(sigmoid_function(Z))\n",
    "print(tanh_function(Z))\n",
    "print(ReLU_function(Z))\n",
    "print(softmax_function(Z))"
   ]
  },
  {
   "cell_type": "markdown",
   "metadata": {},
   "source": [
    "<img src=\"function.png\" width=\"800\" height=\"200\">"
   ]
  },
  {
   "cell_type": "markdown",
   "metadata": {},
   "source": [
    "# Ví dụ về neural network trên python"
   ]
  },
  {
   "cell_type": "markdown",
   "metadata": {},
   "source": [
    "##  Tạo dữ liệu\n",
    "Tạo dữ liệu trong không gian hai chiều sao cho đường ranh rới giữa các class không có dạng tuyến tính. Các dữ liệu được phân vào 3 lớp."
   ]
  },
  {
   "cell_type": "code",
   "execution_count": 8,
   "metadata": {},
   "outputs": [],
   "source": [
    "import numpy as np\n",
    "import matplotlib.pyplot as plt\n",
    "import math as mt"
   ]
  },
  {
   "cell_type": "code",
   "execution_count": 9,
   "metadata": {},
   "outputs": [],
   "source": [
    "N = 100 # number of class\n",
    "d0 = 2   # dimensionality\n",
    "C = 3   # number of class\n",
    "X = np.zeros((N*C,d0)) # matrix data\n",
    "y = np.zeros(N*C, dtype='uint8') # class labels"
   ]
  },
  {
   "cell_type": "code",
   "execution_count": 10,
   "metadata": {},
   "outputs": [],
   "source": [
    "for j in range(C):\n",
    "    ix = range(N*j, N*(j+1))\n",
    "    r = np.linspace(0.0,1,N) # radius\n",
    "    t = np.linspace(j*4,(j+1)*4,N) + np.random.randn(N)*0.2 # theta\n",
    "    X[ix] = np.c_[r*np.sin(t), r*np.cos(t)]\n",
    "    y[ix] = j"
   ]
  },
  {
   "cell_type": "markdown",
   "metadata": {},
   "source": [
    "Visualize the data"
   ]
  },
  {
   "cell_type": "code",
   "execution_count": 11,
   "metadata": {},
   "outputs": [
    {
     "data": {
      "image/png": "[encoded data removed]",
      "text/plain": [
       "<Figure size 432x288 with 1 Axes>"
      ]
     },
     "metadata": {
      "needs_background": "light"
     },
     "output_type": "display_data"
    }
   ],
   "source": [
    "plt.plot(X[:N, 0], X[:N, 1], 'bs', markersize = 7, markeredgecolor = 'k');\n",
    "plt.plot(X[N:2*N, 0], X[N:2*N, 1], 'ro', markersize = 7, markeredgecolor = 'k');\n",
    "plt.plot(X[2*N:, 0], X[2*N:, 1], 'g^', markersize = 7, markeredgecolor = 'k');"
   ]
  },
  {
   "cell_type": "markdown",
   "metadata": {},
   "source": [
    "# Xây dựng neural network\n",
    "Rõ ràng dữ liệu trên không có dạng tuyến tính, điều này khiến cho hàm softmax không thể làm việc.\n",
    "\n",
    "Ta sẽ sử dụng multilayer neural network với hiddent layer sử dụng ReLU làm hàm kích hoạt và output layer là một hàm softmax regression."
   ]
  },
  {
   "cell_type": "code",
   "execution_count": 19,
   "metadata": {},
   "outputs": [],
   "source": [
    "def softmax_stable(Z):\n",
    "    e_Z = np.exp(Z - np.max(Z, axis = 1, keepdims = True))\n",
    "    A   = e_Z/e_Z.sum(axis =1, keepdims = True)\n",
    "    return A\n",
    "\n",
    "def crossentropy_loss(Yhat, y):\n",
    "    id0 = range(Yhat.shape[0])\n",
    "    return -np.mean(np.log(Yhat[id0,y]))\n",
    "\n",
    "def mlp_init(d0, d1, d2):\n",
    "    \"\"\"\n",
    "    d0 : dimension of input data\n",
    "    d1 : number of hiddent unit\n",
    "    d2 : number of ouput unit = number of classes\n",
    "    \"\"\"\n",
    "    W1 = 0.01*np.random.randn(d0,d1)\n",
    "    b1 = np.zeros(d1)\n",
    "    W2 = 0.01*np.random.randn(d1,d2)\n",
    "    b2 = np.zeros(d2)\n",
    "    return (W1, b1, W2, b2)\n",
    "\n",
    "def mlp_predict(X, W1, b1, W2, b2):\n",
    "    \"\"\"\n",
    "    X: data matrix, W,b: weight matrix, bias\n",
    "    \"\"\"\n",
    "    Z1 = X.dot(W1) + b1   # shape (N,d1)\n",
    "    A1 = np.maximum(Z1,0) # shape (N,d1)\n",
    "    Z2 = A1.dot(W2) + b2  # shape (N,d2)\n",
    "    return np.argmax(Z2, axis = 1)  # return idex max"
   ]
  },
  {
   "cell_type": "code",
   "execution_count": 38,
   "metadata": {},
   "outputs": [],
   "source": [
    "def mlp_fit(X, y, W1, b1, W2, b2, eta):\n",
    "    loss_hist = []\n",
    "    for i in range(20000): # number of epoches\n",
    "        Z1 = X.dot(W1) + b1 # shape (N,d1)\n",
    "        A1 = np.maximum(Z1,0) # shape (N,d1)\n",
    "        Z2 = A1.dot(W2) + b2 # shape (N,d2)\n",
    "        Yhat = softmax_stable(Z2)\n",
    "        if i% 1000 == 0:\n",
    "                loss = crossentropy_loss(Yhat,y)\n",
    "                print(\"iter {:d}, loss: {:f}\".format(i,loss))\n",
    "                loss_hist.append(loss)\n",
    "        # back propagation\n",
    "        id0 = range(Yhat.shape[0])\n",
    "        Yhat[id0,y] -= 1\n",
    "        E2 = Yhat/N\n",
    "        dW2 = np.dot(A1.T,E2)\n",
    "        db2 = np.sum(E2, axis = 0)\n",
    "        E1 = np.dot(E2, W2.T)\n",
    "        E1[Z1 <= 0] = 0\n",
    "        dW1 = np.dot(X.T, E1)\n",
    "        db1 = np.sum(E1, axis = 0)\n",
    "        \n",
    "        # gradient descent update\n",
    "        W1 += -eta*dW1\n",
    "        b1 += -eta*db1\n",
    "        W2 += -eta*dW2\n",
    "        b2 += -eta*db2\n",
    "        \n",
    "    return (W1,b1,W2,b2,loss_hist)"
   ]
  },
  {
   "cell_type": "code",
   "execution_count": 52,
   "metadata": {},
   "outputs": [
    {
     "name": "stdout",
     "output_type": "stream",
     "text": [
      "iter 0, loss: 1.098785\n",
      "iter 1000, loss: 0.032288\n",
      "iter 2000, loss: 0.025035\n",
      "iter 3000, loss: 0.021948\n",
      "iter 4000, loss: 0.019659\n",
      "iter 5000, loss: 0.018486\n",
      "iter 6000, loss: 0.016704\n",
      "iter 7000, loss: 0.017008\n",
      "iter 8000, loss: 0.016692\n",
      "iter 9000, loss: 0.015904\n",
      "iter 10000, loss: 0.015454\n",
      "iter 11000, loss: 0.015181\n",
      "iter 12000, loss: 0.015050\n",
      "iter 13000, loss: 0.014103\n",
      "iter 14000, loss: 0.014313\n",
      "iter 15000, loss: 0.014731\n",
      "iter 16000, loss: 0.013924\n",
      "iter 17000, loss: 0.014217\n",
      "iter 18000, loss: 0.013821\n",
      "iter 19000, loss: 0.013516\n",
      "Training accuracy: 99.33 %\n"
     ]
    }
   ],
   "source": [
    "d0 = 2\n",
    "d1 = h = 100\n",
    "d2 = C = 3\n",
    "eta = 1\n",
    "(W1, b1, W2, b2) = mlp_init(d0,d1,d2)\n",
    "(W1, b1, W2, b2 ,loss_hist) = mlp_fit(X, y, W1 ,b1, W2 ,b2 ,eta)\n",
    "y_pred = mlp_predict(X, W1, b1, W2, b2)\n",
    "acc = 100*np.mean(y_pred == y)\n",
    "print(\"Training accuracy: {:.2f} %\".format(acc))\n"
   ]
  },
  {
   "cell_type": "code",
   "execution_count": 56,
   "metadata": {},
   "outputs": [
    {
     "name": "stdout",
     "output_type": "stream",
     "text": [
      "(2, 100)\n",
      "(100, 3)\n"
     ]
    }
   ],
   "source": [
    "print(W1.shape)\n",
    "print(W2.shape)"
   ]
  },
  {
   "cell_type": "code",
   "execution_count": null,
   "metadata": {},
   "outputs": [],
   "source": []
  }
 ],
 "metadata": {
  "kernelspec": {
   "display_name": "Python 3",
   "language": "python",
   "name": "python3"
  },
  "language_info": {
   "codemirror_mode": {
    "name": "ipython",
    "version": 3
   },
   "file_extension": ".py",
   "mimetype": "text/x-python",
   "name": "python",
   "nbconvert_exporter": "python",
   "pygments_lexer": "ipython3",
   "version": "3.6.1"
  }
 },
 "nbformat": 4,
 "nbformat_minor": 4
}
