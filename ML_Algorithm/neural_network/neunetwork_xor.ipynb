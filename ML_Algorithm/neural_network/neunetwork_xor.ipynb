{
 "cells": [
  {
   "cell_type": "markdown",
   "metadata": {},
   "source": [
    "# Xây dựng neural netwok xử lý bài toán XOR bằng thư viện keras"
   ]
  },
  {
   "cell_type": "code",
   "execution_count": 4,
   "metadata": {},
   "outputs": [],
   "source": [
    "import numpy as np\n",
    "from keras.models import Sequential\n",
    "from keras.layers import Dense, Activation\n",
    "from keras.optimizers import SGD"
   ]
  },
  {
   "cell_type": "code",
   "execution_count": 2,
   "metadata": {},
   "outputs": [],
   "source": [
    "x_train = np.array([[0, 0], [0, 1], [1, 0], [1, 1]])\n",
    "y_train = np.array([[0], [1], [0], [1]])"
   ]
  },
  {
   "cell_type": "markdown",
   "metadata": {},
   "source": [
    "Thiếp lập model"
   ]
  },
  {
   "cell_type": "code",
   "execution_count": 3,
   "metadata": {},
   "outputs": [
    {
     "name": "stdout",
     "output_type": "stream",
     "text": [
      "Model: \"sequential_1\"\n",
      "_________________________________________________________________\n",
      "Layer (type)                 Output Shape              Param #   \n",
      "=================================================================\n",
      "dense_1 (Dense)              (None, 10)                30        \n",
      "_________________________________________________________________\n",
      "activation_1 (Activation)    (None, 10)                0         \n",
      "_________________________________________________________________\n",
      "dense_2 (Dense)              (None, 1)                 11        \n",
      "_________________________________________________________________\n",
      "activation_2 (Activation)    (None, 1)                 0         \n",
      "=================================================================\n",
      "Total params: 41\n",
      "Trainable params: 41\n",
      "Non-trainable params: 0\n",
      "_________________________________________________________________\n"
     ]
    }
   ],
   "source": [
    "model = Sequential()\n",
    "num_neurons = 10\n",
    "model.add(Dense(num_neurons, input_dim = 2))\n",
    "model.add(Activation('tanh'))\n",
    "model.add(Dense(1))\n",
    "model.add(Activation('sigmoid'))\n",
    "model.summary()"
   ]
  },
  {
   "cell_type": "markdown",
   "metadata": {},
   "source": [
    "`summary()`: thống kê mô hình.\n",
    "\n",
    "`Sequential()`: khởi tạo một neurol tuần tự.\n",
    "\n",
    "`add Dense()` : thêm lớp fully connected layer.\n",
    "\n",
    "`add Activation()`: thêm hàm kích hoạt.\n"
   ]
  },
  {
   "cell_type": "markdown",
   "metadata": {},
   "source": [
    "Mô hình trên thiết lập mạng gồm 2 layer :\n",
    "+ 1 lớp đầu vào với hai tham số (không tính là layer của mạng).\n",
    "+ 1 lớp ẩn với 10 tham số, hàm kích hoạt là hàm `tank`. (dense1)\n",
    "+ 1 lớp output với hàm kích hoạt là `sigmoid`. (desen2)\n"
   ]
  },
  {
   "cell_type": "markdown",
   "metadata": {},
   "source": [
    "Nếu đầu ra nhỏ hơn 0.5 sẽ trả về 0 và lớn hơn 0.5 sẽ trả về 1. Đây là bài toán phân lớp nhị phân.\n",
    "+ số tham số đầu vào của dense_1 là :30, bao gồm 3 node input (2 + bias), lớp dense_1 có 10 node.\n",
    "+ số tham số ở cặp (dense_1, dense_2) là 11 (10 node + bias)\n"
   ]
  },
  {
   "cell_type": "markdown",
   "metadata": {},
   "source": [
    "Tiếp theo chúng ta gọi hàm loss là hàm cross_entropy (tốt cho phân lớp nhị phân), sử dụng `SGD` để tối ưu, gọi là metric là accuracy để có thể hiện thị kết quả đánh giá của mô hình qua từng epcho khi train."
   ]
  },
  {
   "cell_type": "code",
   "execution_count": 5,
   "metadata": {},
   "outputs": [
    {
     "name": "stdout",
     "output_type": "stream",
     "text": [
      "WARNING:tensorflow:From c:\\users\\admin\\appdata\\local\\programs\\python\\python36\\lib\\site-packages\\tensorflow\\python\\ops\\nn_impl.py:180: add_dispatch_support.<locals>.wrapper (from tensorflow.python.ops.array_ops) is deprecated and will be removed in a future version.\n",
      "Instructions for updating:\n",
      "Use tf.where in 2.0, which has the same broadcast rule as np.where\n"
     ]
    }
   ],
   "source": [
    "sgd = SGD(lr=0.1)\n",
    "model.compile(loss='binary_crossentropy', optimizer=sgd, metrics=['accuracy'])"
   ]
  },
  {
   "cell_type": "markdown",
   "metadata": {},
   "source": [
    "Trước khi train, kết quả x_train"
   ]
  },
  {
   "cell_type": "code",
   "execution_count": 6,
   "metadata": {},
   "outputs": [
    {
     "name": "stdout",
     "output_type": "stream",
     "text": [
      "WARNING:tensorflow:From c:\\users\\admin\\appdata\\local\\programs\\python\\python36\\lib\\site-packages\\keras\\backend\\tensorflow_backend.py:422: The name tf.global_variables is deprecated. Please use tf.compat.v1.global_variables instead.\n",
      "\n"
     ]
    },
    {
     "data": {
      "text/plain": [
       "array([[0.5       ],\n",
       "       [0.30973023],\n",
       "       [0.31064898],\n",
       "       [0.18140414]], dtype=float32)"
      ]
     },
     "execution_count": 6,
     "metadata": {},
     "output_type": "execute_result"
    }
   ],
   "source": [
    "model.predict(x_train)"
   ]
  },
  {
   "cell_type": "code",
   "execution_count": 7,
   "metadata": {},
   "outputs": [
    {
     "name": "stdout",
     "output_type": "stream",
     "text": [
      "Epoch 1/200\n",
      "4/4 [==============================] - 0s 104ms/step - loss: 0.9861 - accuracy: 0.5000\n",
      "Epoch 2/200\n",
      "4/4 [==============================] - 0s 498us/step - loss: 0.9382 - accuracy: 0.2500\n",
      "Epoch 3/200\n",
      "4/4 [==============================] - 0s 748us/step - loss: 0.8959 - accuracy: 0.2500\n",
      "Epoch 4/200\n",
      "4/4 [==============================] - 0s 499us/step - loss: 0.8583 - accuracy: 0.2500\n",
      "Epoch 5/200\n",
      "4/4 [==============================] - 0s 498us/step - loss: 0.8250 - accuracy: 0.2500\n",
      "Epoch 6/200\n",
      "4/4 [==============================] - 0s 250us/step - loss: 0.7953 - accuracy: 0.2500\n",
      "Epoch 7/200\n",
      "4/4 [==============================] - 0s 749us/step - loss: 0.7687 - accuracy: 0.2500\n",
      "Epoch 8/200\n",
      "4/4 [==============================] - 0s 249us/step - loss: 0.7448 - accuracy: 0.5000\n",
      "Epoch 9/200\n",
      "4/4 [==============================] - 0s 499us/step - loss: 0.7233 - accuracy: 0.5000\n",
      "Epoch 10/200\n",
      "4/4 [==============================] - 0s 499us/step - loss: 0.7036 - accuracy: 0.5000\n",
      "Epoch 11/200\n",
      "4/4 [==============================] - 0s 499us/step - loss: 0.6856 - accuracy: 0.5000\n",
      "Epoch 12/200\n",
      "4/4 [==============================] - 0s 748us/step - loss: 0.6690 - accuracy: 0.5000\n",
      "Epoch 13/200\n",
      "4/4 [==============================] - 0s 499us/step - loss: 0.6536 - accuracy: 0.5000\n",
      "Epoch 14/200\n",
      "4/4 [==============================] - 0s 249us/step - loss: 0.6392 - accuracy: 0.5000\n",
      "Epoch 15/200\n",
      "4/4 [==============================] - 0s 499us/step - loss: 0.6256 - accuracy: 0.5000\n",
      "Epoch 16/200\n",
      "4/4 [==============================] - 0s 250us/step - loss: 0.6127 - accuracy: 0.7500\n",
      "Epoch 17/200\n",
      "4/4 [==============================] - 0s 250us/step - loss: 0.6004 - accuracy: 0.7500\n",
      "Epoch 18/200\n",
      "4/4 [==============================] - 0s 256us/step - loss: 0.5887 - accuracy: 0.7500\n",
      "Epoch 19/200\n",
      "4/4 [==============================] - 0s 492us/step - loss: 0.5773 - accuracy: 0.7500\n",
      "Epoch 20/200\n",
      "4/4 [==============================] - 0s 249us/step - loss: 0.5664 - accuracy: 0.7500\n",
      "Epoch 21/200\n",
      "4/4 [==============================] - 0s 499us/step - loss: 0.5558 - accuracy: 0.7500\n",
      "Epoch 22/200\n",
      "4/4 [==============================] - 0s 249us/step - loss: 0.5454 - accuracy: 0.7500\n",
      "Epoch 23/200\n",
      "4/4 [==============================] - 0s 498us/step - loss: 0.5353 - accuracy: 0.7500\n",
      "Epoch 24/200\n",
      "4/4 [==============================] - 0s 499us/step - loss: 0.5255 - accuracy: 0.7500\n",
      "Epoch 25/200\n",
      "4/4 [==============================] - 0s 502us/step - loss: 0.5158 - accuracy: 0.7500\n",
      "Epoch 26/200\n",
      "4/4 [==============================] - 0s 249us/step - loss: 0.5063 - accuracy: 0.7500\n",
      "Epoch 27/200\n",
      "4/4 [==============================] - 0s 498us/step - loss: 0.4970 - accuracy: 0.7500\n",
      "Epoch 28/200\n",
      "4/4 [==============================] - 0s 498us/step - loss: 0.4878 - accuracy: 1.0000\n",
      "Epoch 29/200\n",
      "4/4 [==============================] - 0s 249us/step - loss: 0.4787 - accuracy: 1.0000\n",
      "Epoch 30/200\n",
      "4/4 [==============================] - 0s 499us/step - loss: 0.4698 - accuracy: 1.0000\n",
      "Epoch 31/200\n",
      "4/4 [==============================] - 0s 249us/step - loss: 0.4610 - accuracy: 1.0000\n",
      "Epoch 32/200\n",
      "4/4 [==============================] - 0s 250us/step - loss: 0.4523 - accuracy: 1.0000\n",
      "Epoch 33/200\n",
      "4/4 [==============================] - 0s 499us/step - loss: 0.4438 - accuracy: 1.0000\n",
      "Epoch 34/200\n",
      "4/4 [==============================] - 0s 250us/step - loss: 0.4353 - accuracy: 1.0000\n",
      "Epoch 35/200\n",
      "4/4 [==============================] - 0s 249us/step - loss: 0.4270 - accuracy: 1.0000\n",
      "Epoch 36/200\n",
      "4/4 [==============================] - 0s 249us/step - loss: 0.4188 - accuracy: 1.0000\n",
      "Epoch 37/200\n",
      "4/4 [==============================] - 0s 498us/step - loss: 0.4107 - accuracy: 1.0000\n",
      "Epoch 38/200\n",
      "4/4 [==============================] - 0s 250us/step - loss: 0.4027 - accuracy: 1.0000\n",
      "Epoch 39/200\n",
      "4/4 [==============================] - 0s 495us/step - loss: 0.3948 - accuracy: 1.0000\n",
      "Epoch 40/200\n",
      "4/4 [==============================] - 0s 257us/step - loss: 0.3870 - accuracy: 1.0000\n",
      "Epoch 41/200\n",
      "4/4 [==============================] - 0s 498us/step - loss: 0.3793 - accuracy: 1.0000\n",
      "Epoch 42/200\n",
      "4/4 [==============================] - 0s 249us/step - loss: 0.3718 - accuracy: 1.0000\n",
      "Epoch 43/200\n",
      "4/4 [==============================] - 0s 244us/step - loss: 0.3644 - accuracy: 1.0000\n",
      "Epoch 44/200\n",
      "4/4 [==============================] - 0s 250us/step - loss: 0.3570 - accuracy: 1.0000\n",
      "Epoch 45/200\n",
      "4/4 [==============================] - 0s 250us/step - loss: 0.3498 - accuracy: 1.0000\n",
      "Epoch 46/200\n",
      "4/4 [==============================] - 0s 498us/step - loss: 0.3428 - accuracy: 1.0000\n",
      "Epoch 47/200\n",
      "4/4 [==============================] - 0s 249us/step - loss: 0.3358 - accuracy: 1.0000\n",
      "Epoch 48/200\n",
      "4/4 [==============================] - 0s 249us/step - loss: 0.3290 - accuracy: 1.0000\n",
      "Epoch 49/200\n",
      "4/4 [==============================] - 0s 750us/step - loss: 0.3222 - accuracy: 1.0000\n",
      "Epoch 50/200\n",
      "4/4 [==============================] - 0s 249us/step - loss: 0.3156 - accuracy: 1.0000\n",
      "Epoch 51/200\n",
      "4/4 [==============================] - 0s 499us/step - loss: 0.3092 - accuracy: 1.0000\n",
      "Epoch 52/200\n",
      "4/4 [==============================] - 0s 249us/step - loss: 0.3028 - accuracy: 1.0000\n",
      "Epoch 53/200\n",
      "4/4 [==============================] - 0s 499us/step - loss: 0.2966 - accuracy: 1.0000\n",
      "Epoch 54/200\n",
      "4/4 [==============================] - 0s 249us/step - loss: 0.2905 - accuracy: 1.0000\n",
      "Epoch 55/200\n",
      "4/4 [==============================] - 0s 249us/step - loss: 0.2845 - accuracy: 1.0000\n",
      "Epoch 56/200\n",
      "4/4 [==============================] - 0s 496us/step - loss: 0.2786 - accuracy: 1.0000\n",
      "Epoch 57/200\n",
      "4/4 [==============================] - 0s 499us/step - loss: 0.2729 - accuracy: 1.0000\n",
      "Epoch 58/200\n",
      "4/4 [==============================] - 0s 249us/step - loss: 0.2672 - accuracy: 1.0000\n",
      "Epoch 59/200\n",
      "4/4 [==============================] - 0s 499us/step - loss: 0.2617 - accuracy: 1.0000\n",
      "Epoch 60/200\n",
      "4/4 [==============================] - 0s 748us/step - loss: 0.2564 - accuracy: 1.0000\n",
      "Epoch 61/200\n",
      "4/4 [==============================] - 0s 499us/step - loss: 0.2511 - accuracy: 1.0000\n",
      "Epoch 62/200\n",
      "4/4 [==============================] - 0s 250us/step - loss: 0.2459 - accuracy: 1.0000\n",
      "Epoch 63/200\n",
      "4/4 [==============================] - 0s 499us/step - loss: 0.2409 - accuracy: 1.0000\n",
      "Epoch 64/200\n",
      "4/4 [==============================] - 0s 499us/step - loss: 0.2360 - accuracy: 1.0000\n",
      "Epoch 65/200\n",
      "4/4 [==============================] - 0s 249us/step - loss: 0.2312 - accuracy: 1.0000\n",
      "Epoch 66/200\n",
      "4/4 [==============================] - 0s 748us/step - loss: 0.2265 - accuracy: 1.0000\n",
      "Epoch 67/200\n",
      "4/4 [==============================] - 0s 249us/step - loss: 0.2219 - accuracy: 1.0000\n",
      "Epoch 68/200\n",
      "4/4 [==============================] - 0s 499us/step - loss: 0.2174 - accuracy: 1.0000\n",
      "Epoch 69/200\n",
      "4/4 [==============================] - 0s 756us/step - loss: 0.2131 - accuracy: 1.0000\n",
      "Epoch 70/200\n",
      "4/4 [==============================] - 0s 249us/step - loss: 0.2088 - accuracy: 1.0000\n",
      "Epoch 71/200\n",
      "4/4 [==============================] - 0s 249us/step - loss: 0.2047 - accuracy: 1.0000\n",
      "Epoch 72/200\n",
      "4/4 [==============================] - 0s 498us/step - loss: 0.2006 - accuracy: 1.0000\n",
      "Epoch 73/200\n",
      "4/4 [==============================] - 0s 499us/step - loss: 0.1966 - accuracy: 1.0000\n",
      "Epoch 74/200\n",
      "4/4 [==============================] - 0s 247us/step - loss: 0.1928 - accuracy: 1.0000\n",
      "Epoch 75/200\n",
      "4/4 [==============================] - 0s 499us/step - loss: 0.1890 - accuracy: 1.0000\n",
      "Epoch 76/200\n",
      "4/4 [==============================] - 0s 499us/step - loss: 0.1853 - accuracy: 1.0000\n",
      "Epoch 77/200\n",
      "4/4 [==============================] - 0s 249us/step - loss: 0.1817 - accuracy: 1.0000\n",
      "Epoch 78/200\n",
      "4/4 [==============================] - 0s 249us/step - loss: 0.1782 - accuracy: 1.0000\n",
      "Epoch 79/200\n",
      "4/4 [==============================] - 0s 748us/step - loss: 0.1748 - accuracy: 1.0000\n",
      "Epoch 80/200\n",
      "4/4 [==============================] - 0s 249us/step - loss: 0.1715 - accuracy: 1.0000\n",
      "Epoch 81/200\n",
      "4/4 [==============================] - 0s 498us/step - loss: 0.1683 - accuracy: 1.0000\n",
      "Epoch 82/200\n",
      "4/4 [==============================] - 0s 498us/step - loss: 0.1651 - accuracy: 1.0000\n",
      "Epoch 83/200\n",
      "4/4 [==============================] - 0s 249us/step - loss: 0.1620 - accuracy: 1.0000\n"
     ]
    },
    {
     "name": "stdout",
     "output_type": "stream",
     "text": [
      "Epoch 84/200\n",
      "4/4 [==============================] - 0s 748us/step - loss: 0.1590 - accuracy: 1.0000\n",
      "Epoch 85/200\n",
      "4/4 [==============================] - 0s 249us/step - loss: 0.1561 - accuracy: 1.0000\n",
      "Epoch 86/200\n",
      "4/4 [==============================] - 0s 249us/step - loss: 0.1533 - accuracy: 1.0000\n",
      "Epoch 87/200\n",
      "4/4 [==============================] - 0s 249us/step - loss: 0.1505 - accuracy: 1.0000\n",
      "Epoch 88/200\n",
      "4/4 [==============================] - 0s 249us/step - loss: 0.1478 - accuracy: 1.0000\n",
      "Epoch 89/200\n",
      "4/4 [==============================] - 0s 243us/step - loss: 0.1451 - accuracy: 1.0000\n",
      "Epoch 90/200\n",
      "4/4 [==============================] - 0s 748us/step - loss: 0.1425 - accuracy: 1.0000\n",
      "Epoch 91/200\n",
      "4/4 [==============================] - 0s 499us/step - loss: 0.1400 - accuracy: 1.0000\n",
      "Epoch 92/200\n",
      "4/4 [==============================] - 0s 997us/step - loss: 0.1376 - accuracy: 1.0000\n",
      "Epoch 93/200\n",
      "4/4 [==============================] - 0s 249us/step - loss: 0.1352 - accuracy: 1.0000\n",
      "Epoch 94/200\n",
      "4/4 [==============================] - 0s 250us/step - loss: 0.1328 - accuracy: 1.0000\n",
      "Epoch 95/200\n",
      "4/4 [==============================] - 0s 997us/step - loss: 0.1306 - accuracy: 1.0000\n",
      "Epoch 96/200\n",
      "4/4 [==============================] - 0s 249us/step - loss: 0.1283 - accuracy: 1.0000\n",
      "Epoch 97/200\n",
      "4/4 [==============================] - 0s 498us/step - loss: 0.1262 - accuracy: 1.0000\n",
      "Epoch 98/200\n",
      "4/4 [==============================] - 0s 250us/step - loss: 0.1241 - accuracy: 1.0000\n",
      "Epoch 99/200\n",
      "4/4 [==============================] - 0s 499us/step - loss: 0.1220 - accuracy: 1.0000\n",
      "Epoch 100/200\n",
      "4/4 [==============================] - 0s 249us/step - loss: 0.1200 - accuracy: 1.0000\n",
      "Epoch 101/200\n",
      "4/4 [==============================] - 0s 499us/step - loss: 0.1180 - accuracy: 1.0000\n",
      "Epoch 102/200\n",
      "4/4 [==============================] - 0s 505us/step - loss: 0.1161 - accuracy: 1.0000\n",
      "Epoch 103/200\n",
      "4/4 [==============================] - 0s 250us/step - loss: 0.1142 - accuracy: 1.0000\n",
      "Epoch 104/200\n",
      "4/4 [==============================] - 0s 498us/step - loss: 0.1124 - accuracy: 1.0000\n",
      "Epoch 105/200\n",
      "4/4 [==============================] - 0s 250us/step - loss: 0.1106 - accuracy: 1.0000\n",
      "Epoch 106/200\n",
      "4/4 [==============================] - 0s 249us/step - loss: 0.1089 - accuracy: 1.0000\n",
      "Epoch 107/200\n",
      "4/4 [==============================] - 0s 499us/step - loss: 0.1072 - accuracy: 1.0000\n",
      "Epoch 108/200\n",
      "4/4 [==============================] - 0s 250us/step - loss: 0.1055 - accuracy: 1.0000\n",
      "Epoch 109/200\n",
      "4/4 [==============================] - 0s 249us/step - loss: 0.1039 - accuracy: 1.0000\n",
      "Epoch 110/200\n",
      "4/4 [==============================] - 0s 249us/step - loss: 0.1023 - accuracy: 1.0000\n",
      "Epoch 111/200\n",
      "4/4 [==============================] - 0s 250us/step - loss: 0.1008 - accuracy: 1.0000\n",
      "Epoch 112/200\n",
      "4/4 [==============================] - 0s 249us/step - loss: 0.0993 - accuracy: 1.0000\n",
      "Epoch 113/200\n",
      "4/4 [==============================] - 0s 748us/step - loss: 0.0978 - accuracy: 1.0000\n",
      "Epoch 114/200\n",
      "4/4 [==============================] - 0s 499us/step - loss: 0.0964 - accuracy: 1.0000\n",
      "Epoch 115/200\n",
      "4/4 [==============================] - 0s 249us/step - loss: 0.0950 - accuracy: 1.0000\n",
      "Epoch 116/200\n",
      "4/4 [==============================] - 0s 252us/step - loss: 0.0936 - accuracy: 1.0000\n",
      "Epoch 117/200\n",
      "4/4 [==============================] - 0s 250us/step - loss: 0.0922 - accuracy: 1.0000\n",
      "Epoch 118/200\n",
      "4/4 [==============================] - 0s 499us/step - loss: 0.0909 - accuracy: 1.0000\n",
      "Epoch 119/200\n",
      "4/4 [==============================] - 0s 499us/step - loss: 0.0896 - accuracy: 1.0000\n",
      "Epoch 120/200\n",
      "4/4 [==============================] - 0s 748us/step - loss: 0.0884 - accuracy: 1.0000\n",
      "Epoch 121/200\n",
      "4/4 [==============================] - 0s 499us/step - loss: 0.0871 - accuracy: 1.0000\n",
      "Epoch 122/200\n",
      "4/4 [==============================] - 0s 250us/step - loss: 0.0859 - accuracy: 1.0000\n",
      "Epoch 123/200\n",
      "4/4 [==============================] - 0s 249us/step - loss: 0.0848 - accuracy: 1.0000\n",
      "Epoch 124/200\n",
      "4/4 [==============================] - 0s 499us/step - loss: 0.0836 - accuracy: 1.0000\n",
      "Epoch 125/200\n",
      "4/4 [==============================] - 0s 499us/step - loss: 0.0825 - accuracy: 1.0000\n",
      "Epoch 126/200\n",
      "4/4 [==============================] - 0s 250us/step - loss: 0.0814 - accuracy: 1.0000\n",
      "Epoch 127/200\n",
      "4/4 [==============================] - 0s 249us/step - loss: 0.0803 - accuracy: 1.0000\n",
      "Epoch 128/200\n",
      "4/4 [==============================] - 0s 249us/step - loss: 0.0792 - accuracy: 1.0000\n",
      "Epoch 129/200\n",
      "4/4 [==============================] - 0s 499us/step - loss: 0.0782 - accuracy: 1.0000\n",
      "Epoch 130/200\n",
      "4/4 [==============================] - 0s 249us/step - loss: 0.0772 - accuracy: 1.0000\n",
      "Epoch 131/200\n",
      "4/4 [==============================] - 0s 499us/step - loss: 0.0762 - accuracy: 1.0000\n",
      "Epoch 132/200\n",
      "4/4 [==============================] - 0s 249us/step - loss: 0.0752 - accuracy: 1.0000\n",
      "Epoch 133/200\n",
      "4/4 [==============================] - 0s 499us/step - loss: 0.0743 - accuracy: 1.0000\n",
      "Epoch 134/200\n",
      "4/4 [==============================] - 0s 249us/step - loss: 0.0733 - accuracy: 1.0000\n",
      "Epoch 135/200\n",
      "4/4 [==============================] - 0s 499us/step - loss: 0.0724 - accuracy: 1.0000\n",
      "Epoch 136/200\n",
      "4/4 [==============================] - 0s 499us/step - loss: 0.0715 - accuracy: 1.0000\n",
      "Epoch 137/200\n",
      "4/4 [==============================] - 0s 499us/step - loss: 0.0706 - accuracy: 1.0000\n",
      "Epoch 138/200\n",
      "4/4 [==============================] - 0s 499us/step - loss: 0.0698 - accuracy: 1.0000\n",
      "Epoch 139/200\n",
      "4/4 [==============================] - 0s 249us/step - loss: 0.0689 - accuracy: 1.0000\n",
      "Epoch 140/200\n",
      "4/4 [==============================] - 0s 499us/step - loss: 0.0681 - accuracy: 1.0000\n",
      "Epoch 141/200\n",
      "4/4 [==============================] - 0s 249us/step - loss: 0.0673 - accuracy: 1.0000\n",
      "Epoch 142/200\n",
      "4/4 [==============================] - 0s 998us/step - loss: 0.0665 - accuracy: 1.0000\n",
      "Epoch 143/200\n",
      "4/4 [==============================] - 0s 499us/step - loss: 0.0657 - accuracy: 1.0000\n",
      "Epoch 144/200\n",
      "4/4 [==============================] - 0s 249us/step - loss: 0.0649 - accuracy: 1.0000\n",
      "Epoch 145/200\n",
      "4/4 [==============================] - 0s 496us/step - loss: 0.0642 - accuracy: 1.0000\n",
      "Epoch 146/200\n",
      "4/4 [==============================] - 0s 499us/step - loss: 0.0634 - accuracy: 1.0000\n",
      "Epoch 147/200\n",
      "4/4 [==============================] - 0s 249us/step - loss: 0.0627 - accuracy: 1.0000\n",
      "Epoch 148/200\n",
      "4/4 [==============================] - 0s 498us/step - loss: 0.0620 - accuracy: 1.0000\n",
      "Epoch 149/200\n",
      "4/4 [==============================] - 0s 254us/step - loss: 0.0613 - accuracy: 1.0000\n",
      "Epoch 150/200\n",
      "4/4 [==============================] - 0s 249us/step - loss: 0.0606 - accuracy: 1.0000\n",
      "Epoch 151/200\n",
      "4/4 [==============================] - 0s 249us/step - loss: 0.0600 - accuracy: 1.0000\n",
      "Epoch 152/200\n",
      "4/4 [==============================] - 0s 748us/step - loss: 0.0593 - accuracy: 1.0000\n",
      "Epoch 153/200\n",
      "4/4 [==============================] - 0s 249us/step - loss: 0.0587 - accuracy: 1.0000\n",
      "Epoch 154/200\n",
      "4/4 [==============================] - 0s 499us/step - loss: 0.0580 - accuracy: 1.0000\n",
      "Epoch 155/200\n",
      "4/4 [==============================] - 0s 249us/step - loss: 0.0574 - accuracy: 1.0000\n",
      "Epoch 156/200\n",
      "4/4 [==============================] - 0s 499us/step - loss: 0.0568 - accuracy: 1.0000\n",
      "Epoch 157/200\n",
      "4/4 [==============================] - 0s 250us/step - loss: 0.0562 - accuracy: 1.0000\n",
      "Epoch 158/200\n",
      "4/4 [==============================] - 0s 499us/step - loss: 0.0556 - accuracy: 1.0000\n",
      "Epoch 159/200\n",
      "4/4 [==============================] - 0s 749us/step - loss: 0.0550 - accuracy: 1.0000\n",
      "Epoch 160/200\n",
      "4/4 [==============================] - 0s 249us/step - loss: 0.0544 - accuracy: 1.0000\n",
      "Epoch 161/200\n",
      "4/4 [==============================] - 0s 250us/step - loss: 0.0539 - accuracy: 1.0000\n",
      "Epoch 162/200\n",
      "4/4 [==============================] - 0s 249us/step - loss: 0.0533 - accuracy: 1.0000\n",
      "Epoch 163/200\n",
      "4/4 [==============================] - 0s 250us/step - loss: 0.0528 - accuracy: 1.0000\n",
      "Epoch 164/200\n",
      "4/4 [==============================] - 0s 245us/step - loss: 0.0523 - accuracy: 1.0000\n",
      "Epoch 165/200\n",
      "4/4 [==============================] - 0s 249us/step - loss: 0.0517 - accuracy: 1.0000\n"
     ]
    },
    {
     "name": "stdout",
     "output_type": "stream",
     "text": [
      "Epoch 166/200\n",
      "4/4 [==============================] - 0s 500us/step - loss: 0.0512 - accuracy: 1.0000\n",
      "Epoch 167/200\n",
      "4/4 [==============================] - 0s 250us/step - loss: 0.0507 - accuracy: 1.0000\n",
      "Epoch 168/200\n",
      "4/4 [==============================] - 0s 249us/step - loss: 0.0502 - accuracy: 1.0000\n",
      "Epoch 169/200\n",
      "4/4 [==============================] - 0s 499us/step - loss: 0.0497 - accuracy: 1.0000\n",
      "Epoch 170/200\n",
      "4/4 [==============================] - 0s 499us/step - loss: 0.0492 - accuracy: 1.0000\n",
      "Epoch 171/200\n",
      "4/4 [==============================] - 0s 249us/step - loss: 0.0488 - accuracy: 1.0000\n",
      "Epoch 172/200\n",
      "4/4 [==============================] - 0s 249us/step - loss: 0.0483 - accuracy: 1.0000\n",
      "Epoch 173/200\n",
      "4/4 [==============================] - 0s 250us/step - loss: 0.0478 - accuracy: 1.0000\n",
      "Epoch 174/200\n",
      "4/4 [==============================] - 0s 250us/step - loss: 0.0474 - accuracy: 1.0000\n",
      "Epoch 175/200\n",
      "4/4 [==============================] - 0s 250us/step - loss: 0.0469 - accuracy: 1.0000\n",
      "Epoch 176/200\n",
      "4/4 [==============================] - 0s 250us/step - loss: 0.0465 - accuracy: 1.0000\n",
      "Epoch 177/200\n",
      "4/4 [==============================] - 0s 499us/step - loss: 0.0461 - accuracy: 1.0000\n",
      "Epoch 178/200\n",
      "4/4 [==============================] - 0s 250us/step - loss: 0.0456 - accuracy: 1.0000\n",
      "Epoch 179/200\n",
      "4/4 [==============================] - 0s 250us/step - loss: 0.0452 - accuracy: 1.0000\n",
      "Epoch 180/200\n",
      "4/4 [==============================] - 0s 250us/step - loss: 0.0448 - accuracy: 1.0000\n",
      "Epoch 181/200\n",
      "4/4 [==============================] - 0s 249us/step - loss: 0.0444 - accuracy: 1.0000\n",
      "Epoch 182/200\n",
      "4/4 [==============================] - 0s 250us/step - loss: 0.0440 - accuracy: 1.0000\n",
      "Epoch 183/200\n",
      "4/4 [==============================] - 0s 249us/step - loss: 0.0436 - accuracy: 1.0000\n",
      "Epoch 184/200\n",
      "4/4 [==============================] - 0s 249us/step - loss: 0.0432 - accuracy: 1.0000\n",
      "Epoch 185/200\n",
      "4/4 [==============================] - 0s 249us/step - loss: 0.0429 - accuracy: 1.0000\n",
      "Epoch 186/200\n",
      "4/4 [==============================] - 0s 499us/step - loss: 0.0425 - accuracy: 1.0000\n",
      "Epoch 187/200\n",
      "4/4 [==============================] - 0s 249us/step - loss: 0.0421 - accuracy: 1.0000\n",
      "Epoch 188/200\n",
      "4/4 [==============================] - 0s 748us/step - loss: 0.0418 - accuracy: 1.0000\n",
      "Epoch 189/200\n",
      "4/4 [==============================] - 0s 250us/step - loss: 0.0414 - accuracy: 1.0000\n",
      "Epoch 190/200\n",
      "4/4 [==============================] - 0s 249us/step - loss: 0.0410 - accuracy: 1.0000\n",
      "Epoch 191/200\n",
      "4/4 [==============================] - 0s 499us/step - loss: 0.0407 - accuracy: 1.0000\n",
      "Epoch 192/200\n",
      "4/4 [==============================] - 0s 499us/step - loss: 0.0404 - accuracy: 1.0000\n",
      "Epoch 193/200\n",
      "4/4 [==============================] - 0s 249us/step - loss: 0.0400 - accuracy: 1.0000\n",
      "Epoch 194/200\n",
      "4/4 [==============================] - 0s 499us/step - loss: 0.0397 - accuracy: 1.0000\n",
      "Epoch 195/200\n",
      "4/4 [==============================] - 0s 751us/step - loss: 0.0394 - accuracy: 1.0000\n",
      "Epoch 196/200\n",
      "4/4 [==============================] - 0s 250us/step - loss: 0.0390 - accuracy: 1.0000\n",
      "Epoch 197/200\n",
      "4/4 [==============================] - 0s 249us/step - loss: 0.0387 - accuracy: 1.0000\n",
      "Epoch 198/200\n",
      "4/4 [==============================] - 0s 249us/step - loss: 0.0384 - accuracy: 1.0000\n",
      "Epoch 199/200\n",
      "4/4 [==============================] - 0s 499us/step - loss: 0.0381 - accuracy: 1.0000\n",
      "Epoch 200/200\n",
      "4/4 [==============================] - 0s 499us/step - loss: 0.0378 - accuracy: 1.0000\n"
     ]
    },
    {
     "data": {
      "text/plain": [
       "<keras.callbacks.callbacks.History at 0x183dacdfb38>"
      ]
     },
     "execution_count": 7,
     "metadata": {},
     "output_type": "execute_result"
    }
   ],
   "source": [
    "model.fit(x_train, y_train, epochs=200)"
   ]
  },
  {
   "cell_type": "markdown",
   "metadata": {},
   "source": [
    "Thực hiện dự đoán"
   ]
  },
  {
   "cell_type": "code",
   "execution_count": 8,
   "metadata": {},
   "outputs": [
    {
     "data": {
      "text/plain": [
       "array([[0.05110408],\n",
       "       [0.97512686],\n",
       "       [0.03413084],\n",
       "       [0.9631553 ]], dtype=float32)"
      ]
     },
     "execution_count": 8,
     "metadata": {},
     "output_type": "execute_result"
    }
   ],
   "source": [
    "model.predict(x_train)"
   ]
  },
  {
   "cell_type": "code",
   "execution_count": 9,
   "metadata": {},
   "outputs": [
    {
     "data": {
      "text/plain": [
       "array([[0],\n",
       "       [1],\n",
       "       [0],\n",
       "       [1]])"
      ]
     },
     "execution_count": 9,
     "metadata": {},
     "output_type": "execute_result"
    }
   ],
   "source": [
    "model.predict_classes(x_train)"
   ]
  },
  {
   "cell_type": "markdown",
   "metadata": {},
   "source": [
    "Lưu model"
   ]
  },
  {
   "cell_type": "code",
   "execution_count": 10,
   "metadata": {},
   "outputs": [],
   "source": [
    "import h5py\n",
    "# Xuất cấu trúc của mạng đến một JSON blob để sử dụng sau \n",
    "model_structure = model.to_json()\n",
    "with open(\"basic_mode.json\", \"w\") as json_file:\n",
    "    json_file.write(model_structure)\n",
    "# Các trọng số được đào tạo phải được lưu riêng biệt. \n",
    "# Lưu trọng số để load lại chúng chúng sau này.\n",
    "model.save_weights(\"basic_weights.h5\")"
   ]
  },
  {
   "cell_type": "code",
   "execution_count": null,
   "metadata": {},
   "outputs": [],
   "source": []
  }
 ],
 "metadata": {
  "kernelspec": {
   "display_name": "Python 3",
   "language": "python",
   "name": "python3"
  },
  "language_info": {
   "codemirror_mode": {
    "name": "ipython",
    "version": 3
   },
   "file_extension": ".py",
   "mimetype": "text/x-python",
   "name": "python",
   "nbconvert_exporter": "python",
   "pygments_lexer": "ipython3",
   "version": "3.6.1"
  }
 },
 "nbformat": 4,
 "nbformat_minor": 4
}
