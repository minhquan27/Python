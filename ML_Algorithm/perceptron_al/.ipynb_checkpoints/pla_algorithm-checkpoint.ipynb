{
 "cells": [
  {
   "cell_type": "markdown",
   "metadata": {},
   "source": [
    "# PERCEPTRON LEARNING ALGORITHM (PLA)\n",
    "1. Thuật toán PLA là thuật toán đơn giản thiết kế cho bài toán phân lớp nhị phân (binary classification) chỉ với hai lớp dữ liệu.\n",
    "2. PLA tìm một ranh rới siêu phẳng cho bài toán phân lớp nhị phân, với giả sử tồn tại ranh rới đó. Nếu hai lớp dữ liệu có thể được phân chia hoàn toàn bởi một siêu phẳng , ta nói rằng hai lớp đó linearly separable. Có rất nhiều ranh rới như vậy bài toán sẽ có vô số nghiệm.\n",
    "3. Ta sẽ xây dựng một ranh rới siêu phẳng, với điểm dữ liệu chưa được gán nhãn, ta có thể xác định nhãn của nó, bằng cách sử dụng hàm dấu sgn(x)."
   ]
  },
  {
   "cell_type": "markdown",
   "metadata": {},
   "source": [
    "# 1.Ví dụ đơn giản phân chia dữ liệu trong không gian hai chiều.\n",
    "\n",
    "Chuẩn bị dữ liệu"
   ]
  },
  {
   "cell_type": "code",
   "execution_count": 1,
   "metadata": {},
   "outputs": [
    {
     "name": "stdout",
     "output_type": "stream",
     "text": [
      "X0: [[-0.86489458 -0.06513986]\n",
      " [-1.77593527 -0.11636704]\n",
      " [-1.69997267 -1.41780454]\n",
      " [-0.89836937 -0.55327157]\n",
      " [-0.03128398  0.44628991]\n",
      " [-1.84945626  0.09434468]\n",
      " [-1.42498781 -1.1025456 ]\n",
      " [-0.76368007 -0.18658777]\n",
      " [-0.99178805 -0.56111929]\n",
      " [-1.53551019 -0.3826278 ]]\n",
      "X1: [[ 1.04504239  1.38380136]\n",
      " [ 1.04000424 -0.07764421]\n",
      " [ 1.63835101  0.92540778]\n",
      " [ 0.88825824  0.11425512]\n",
      " [ 2.36261866  0.55670277]\n",
      " [ 0.48616594 -0.4519177 ]\n",
      " [ 0.54696282 -0.22129035]\n",
      " [ 1.29715848  0.5941249 ]\n",
      " [ 0.37986865  0.26242174]\n",
      " [ 1.44313709  0.44420401]]\n",
      "X: [[-0.86489458 -0.06513986]\n",
      " [-1.77593527 -0.11636704]\n",
      " [-1.69997267 -1.41780454]\n",
      " [-0.89836937 -0.55327157]\n",
      " [-0.03128398  0.44628991]\n",
      " [-1.84945626  0.09434468]\n",
      " [-1.42498781 -1.1025456 ]\n",
      " [-0.76368007 -0.18658777]\n",
      " [-0.99178805 -0.56111929]\n",
      " [-1.53551019 -0.3826278 ]\n",
      " [ 1.04504239  1.38380136]\n",
      " [ 1.04000424 -0.07764421]\n",
      " [ 1.63835101  0.92540778]\n",
      " [ 0.88825824  0.11425512]\n",
      " [ 2.36261866  0.55670277]\n",
      " [ 0.48616594 -0.4519177 ]\n",
      " [ 0.54696282 -0.22129035]\n",
      " [ 1.29715848  0.5941249 ]\n",
      " [ 0.37986865  0.26242174]\n",
      " [ 1.44313709  0.44420401]]\n",
      "[[ 1.         -0.86489458 -0.06513986]\n",
      " [ 1.         -1.77593527 -0.11636704]\n",
      " [ 1.         -1.69997267 -1.41780454]\n",
      " [ 1.         -0.89836937 -0.55327157]\n",
      " [ 1.         -0.03128398  0.44628991]\n",
      " [ 1.         -1.84945626  0.09434468]\n",
      " [ 1.         -1.42498781 -1.1025456 ]\n",
      " [ 1.         -0.76368007 -0.18658777]\n",
      " [ 1.         -0.99178805 -0.56111929]\n",
      " [ 1.         -1.53551019 -0.3826278 ]\n",
      " [ 1.          1.04504239  1.38380136]\n",
      " [ 1.          1.04000424 -0.07764421]\n",
      " [ 1.          1.63835101  0.92540778]\n",
      " [ 1.          0.88825824  0.11425512]\n",
      " [ 1.          2.36261866  0.55670277]\n",
      " [ 1.          0.48616594 -0.4519177 ]\n",
      " [ 1.          0.54696282 -0.22129035]\n",
      " [ 1.          1.29715848  0.5941249 ]\n",
      " [ 1.          0.37986865  0.26242174]\n",
      " [ 1.          1.44313709  0.44420401]]\n",
      "[-1. -1. -1. -1. -1. -1. -1. -1. -1. -1.  1.  1.  1.  1.  1.  1.  1.  1.\n",
      "  1.  1.]\n",
      "w_init: [ 0.9758655   0.68478715 -1.82952461]\n"
     ]
    }
   ],
   "source": [
    "import numpy as np\n",
    "import matplotlib.pyplot as plt\n",
    "means = [[-1, 0], [1, 0]]\n",
    "cov   = [[.3, .2], [.2, .3]]\n",
    "N = 10\n",
    "X0 = np.random.multivariate_normal(means[0], cov, N)\n",
    "X1 = np.random.multivariate_normal(means[1], cov, N)\n",
    "print(\"X0:\",X0)\n",
    "print(\"X1:\",X1)\n",
    "X = np.concatenate((X0,X1), axis=0)\n",
    "print(\"X:\",X)\n",
    "# tao ma tran mo rong X_bar\n",
    "X_bar = np.concatenate((np.ones((2*N,1)), X), axis=1)\n",
    "print(X_bar)\n",
    "# tao nhan cua du lieu y\n",
    "y = np.concatenate((-1*np.ones(N),np.ones(N)))\n",
    "print(y)\n",
    "# khởi tạo w_init\n",
    "w_init = np.random.randn(X_bar.shape[1])\n",
    "print(\"w_init:\",w_init)"
   ]
  },
  {
   "cell_type": "markdown",
   "metadata": {},
   "source": [
    "# Hiển thị dữ liệu\n",
    "Rõ ràng dữ liệu này tồn tại một ranh rới, dữ liệu là linearly separable"
   ]
  },
  {
   "cell_type": "code",
   "execution_count": 2,
   "metadata": {},
   "outputs": [
    {
     "data": {
      "image/png": "[encoded data removed]",
      "text/plain": [
       "<Figure size 432x288 with 1 Axes>"
      ]
     },
     "metadata": {
      "needs_background": "light"
     },
     "output_type": "display_data"
    }
   ],
   "source": [
    "plt.plot(X0[:,0],X0[:,1],'ro')\n",
    "plt.plot(X1[:,0],X1[:,1],'bs')\n",
    "plt.show()"
   ]
  },
  {
   "cell_type": "markdown",
   "metadata": {},
   "source": [
    "Hàm dự đoán khi có điểm dữ liệu mới"
   ]
  },
  {
   "cell_type": "code",
   "execution_count": 3,
   "metadata": {},
   "outputs": [],
   "source": [
    "def predict(w, X):\n",
    "    return np.sign(X.dot(w))"
   ]
  },
  {
   "cell_type": "code",
   "execution_count": 4,
   "metadata": {},
   "outputs": [
    {
     "name": "stdout",
     "output_type": "stream",
     "text": [
      "[ 1. -1.  1.  1.  1. -1.  1.  1.  1.  1. -1.  1.  1.  1.  1.  1.  1.  1.\n",
      "  1.  1.]\n"
     ]
    }
   ],
   "source": [
    "print(predict(w_init,X_bar))"
   ]
  },
  {
   "cell_type": "markdown",
   "metadata": {},
   "source": [
    "Thuật toán perceptron"
   ]
  },
  {
   "cell_type": "code",
   "execution_count": 5,
   "metadata": {},
   "outputs": [],
   "source": [
    "def perceptron(X, y, w_init):\n",
    "    w = w_init\n",
    "    while True:\n",
    "        pred = predict(w,X)\n",
    "        mis_idxs = np.where(np.equal(pred,y)==False)[0]\n",
    "        num_mis = mis_idxs.shape[0]\n",
    "        if num_mis == 0:\n",
    "            return w\n",
    "        random_id = np.random.choice(mis_idxs,1)[0]\n",
    "        #update w\n",
    "        w = w + y[random_id]*X[random_id]\n",
    "        "
   ]
  },
  {
   "cell_type": "code",
   "execution_count": 6,
   "metadata": {},
   "outputs": [
    {
     "name": "stdout",
     "output_type": "stream",
     "text": [
      "Nghiệm của bài toán: [-0.0241345   2.75290157 -0.33089387]\n"
     ]
    }
   ],
   "source": [
    "w = perceptron(X_bar,y,w_init)\n",
    "print(\"Nghiệm của bài toán:\",w)"
   ]
  },
  {
   "cell_type": "markdown",
   "metadata": {},
   "source": [
    "test lại kết quả"
   ]
  },
  {
   "cell_type": "code",
   "execution_count": 7,
   "metadata": {},
   "outputs": [
    {
     "name": "stdout",
     "output_type": "stream",
     "text": [
      "[-1. -1. -1. -1. -1. -1. -1. -1. -1. -1.  1.  1.  1.  1.  1.  1.  1.  1.\n",
      "  1.  1.]\n"
     ]
    }
   ],
   "source": [
    "print(predict(w,X_bar))"
   ]
  },
  {
   "cell_type": "markdown",
   "metadata": {},
   "source": [
    "# 2. Sử dụng thư viện sklearn."
   ]
  },
  {
   "cell_type": "code",
   "execution_count": 8,
   "metadata": {},
   "outputs": [],
   "source": [
    "from sklearn.linear_model import Perceptron"
   ]
  },
  {
   "cell_type": "code",
   "execution_count": 9,
   "metadata": {},
   "outputs": [],
   "source": [
    "clf = Perceptron(tol=1e-3, random_state=0)"
   ]
  },
  {
   "cell_type": "code",
   "execution_count": 10,
   "metadata": {},
   "outputs": [
    {
     "data": {
      "text/plain": [
       "Perceptron(alpha=0.0001, class_weight=None, early_stopping=False, eta0=1.0,\n",
       "           fit_intercept=True, max_iter=1000, n_iter_no_change=5, n_jobs=None,\n",
       "           penalty=None, random_state=0, shuffle=True, tol=0.001,\n",
       "           validation_fraction=0.1, verbose=0, warm_start=False)"
      ]
     },
     "execution_count": 10,
     "metadata": {},
     "output_type": "execute_result"
    }
   ],
   "source": [
    "clf.fit(X, y)"
   ]
  },
  {
   "cell_type": "code",
   "execution_count": 11,
   "metadata": {},
   "outputs": [
    {
     "name": "stdout",
     "output_type": "stream",
     "text": [
      "Nghiệm w của bài toán: [ 2.23018511 -0.36673737] [0.]\n"
     ]
    }
   ],
   "source": [
    "clf.score(X, y)\n",
    "print(\"Nghiệm w của bài toán:\",clf.coef_[0],clf.intercept_)"
   ]
  },
  {
   "cell_type": "code",
   "execution_count": 12,
   "metadata": {},
   "outputs": [
    {
     "name": "stdout",
     "output_type": "stream",
     "text": [
      "[[-0.96940318 -0.29924949]\n",
      " [-1.38226056 -0.51351831]\n",
      " [-0.46840885  0.25038162]]\n"
     ]
    },
    {
     "data": {
      "text/plain": [
       "array([-1., -1., -1.])"
      ]
     },
     "execution_count": 12,
     "metadata": {},
     "output_type": "execute_result"
    }
   ],
   "source": [
    "X_pre = np.random.multivariate_normal(means[0], cov, 3)\n",
    "#X_pre = np.concatenate((np.ones((3,1)),X_pre),axis=1)\n",
    "print(X_pre)\n",
    "clf.predict(X_pre)"
   ]
  },
  {
   "cell_type": "markdown",
   "metadata": {},
   "source": [
    "# 3. Bài toán phân loại chữ số.\n",
    "Bộ dữ liệu sklearn.datasets.load_digits\n",
    "\n",
    "10 class : số 0 đến số 9\n",
    "\n",
    "Mỗi class khoảng 180 số, tổng số dữ liệu : 1797\n",
    "\n",
    "Một feature có kích cỡ là 64: mảng số nguyên từ 0 đến 16\n"
   ]
  },
  {
   "cell_type": "code",
   "execution_count": 13,
   "metadata": {},
   "outputs": [],
   "source": [
    "from sklearn.datasets import load_digits\n",
    "from sklearn.linear_model import Perceptron\n",
    "from sklearn.model_selection import train_test_split\n",
    "from sklearn.metrics import accuracy_score\n",
    "X_digits, y_digits = load_digits(return_X_y=True)"
   ]
  },
  {
   "cell_type": "code",
   "execution_count": 14,
   "metadata": {},
   "outputs": [
    {
     "name": "stdout",
     "output_type": "stream",
     "text": [
      "[[ 0.  0.  5. ...  0.  0.  0.]\n",
      " [ 0.  0.  0. ... 10.  0.  0.]\n",
      " [ 0.  0.  0. ... 16.  9.  0.]\n",
      " ...\n",
      " [ 0.  0.  1. ...  6.  0.  0.]\n",
      " [ 0.  0.  2. ... 12.  0.  0.]\n",
      " [ 0.  0. 10. ... 12.  1.  0.]]\n",
      "(1797, 64)\n"
     ]
    }
   ],
   "source": [
    "print(X_digits)\n",
    "print(X_digits.shape)"
   ]
  },
  {
   "cell_type": "code",
   "execution_count": 15,
   "metadata": {},
   "outputs": [
    {
     "name": "stdout",
     "output_type": "stream",
     "text": [
      "[0 1 2 ... 8 9 8]\n",
      "(1797,)\n",
      "0\n"
     ]
    }
   ],
   "source": [
    "print(y_digits)\n",
    "print(y_digits.shape)\n",
    "print(y_digits[20])"
   ]
  },
  {
   "cell_type": "markdown",
   "metadata": {},
   "source": [
    "Phân lớp dữ liệu chữ số 0 và 1"
   ]
  },
  {
   "cell_type": "code",
   "execution_count": 16,
   "metadata": {},
   "outputs": [],
   "source": [
    "index_0 = []\n",
    "index_1 = []\n",
    "for i in range(y_digits.shape[0]):\n",
    "    if y_digits[i] == 0:\n",
    "        index_0.append(i)\n",
    "    if y_digits[i] == 1:\n",
    "        index_1.append(i)"
   ]
  },
  {
   "cell_type": "code",
   "execution_count": 17,
   "metadata": {},
   "outputs": [
    {
     "name": "stdout",
     "output_type": "stream",
     "text": [
      "[0, 10, 20, 30, 36, 48, 49, 55, 72, 78, 79, 101, 126, 130, 140, 150, 160, 166, 178, 179, 185, 202, 208, 209, 229, 252, 256, 266, 276, 286, 292, 304, 305, 311, 328, 334, 335, 357, 382, 386, 396, 406, 416, 422, 434, 435, 441, 458, 464, 465, 487, 512, 516, 526, 536, 546, 552, 564, 565, 571, 588, 594, 595, 617, 642, 646, 656, 666, 676, 682, 694, 695, 701, 718, 724, 725, 747, 772, 776, 786, 796, 806, 812, 824, 825, 831, 848, 854, 855, 877, 902, 915, 925, 935, 941, 957, 974, 980, 981, 1002, 1025, 1029, 1039, 1049, 1059, 1065, 1077, 1078, 1082, 1099, 1105, 1106, 1128, 1153, 1157, 1167, 1177, 1187, 1193, 1205, 1206, 1212, 1229, 1235, 1236, 1258, 1283, 1287, 1297, 1307, 1317, 1323, 1335, 1336, 1342, 1359, 1365, 1366, 1388, 1413, 1415, 1425, 1435, 1445, 1451, 1463, 1464, 1470, 1487, 1493, 1494, 1516, 1541, 1545, 1555, 1563, 1573, 1579, 1591, 1592, 1598, 1615, 1620, 1642, 1663, 1667, 1677, 1687, 1697, 1703, 1715, 1716, 1722, 1739, 1745, 1746, 1768, 1793]\n",
      "182\n"
     ]
    }
   ],
   "source": [
    "print(index_0)\n",
    "print(len(index_1))"
   ]
  },
  {
   "cell_type": "code",
   "execution_count": 18,
   "metadata": {},
   "outputs": [
    {
     "name": "stdout",
     "output_type": "stream",
     "text": [
      "[[ 0.  0.  5. ...  0.  0.  0.]\n",
      " [ 0.  0.  1. ...  3.  0.  0.]\n",
      " [ 0.  0.  3. ...  4.  0.  0.]\n",
      " ...\n",
      " [ 0.  0.  1. ... 10.  0.  0.]\n",
      " [ 0.  0.  8. ...  7.  0.  0.]\n",
      " [ 0.  0.  6. ...  4.  0.  0.]]\n",
      "(360, 64)\n"
     ]
    }
   ],
   "source": [
    "X_0 = np.array([X_digits[i] for i in (index_0)])\n",
    "X_1  = np.array([X_digits[i] for i in (index_1)])\n",
    "X = np.concatenate((X_0,X_1),axis = 0)\n",
    "print(X)\n",
    "print(X.shape)"
   ]
  },
  {
   "cell_type": "code",
   "execution_count": 19,
   "metadata": {},
   "outputs": [
    {
     "name": "stdout",
     "output_type": "stream",
     "text": [
      "[[0. 0. 5. ... 0. 0. 0.]\n",
      " [0. 0. 1. ... 3. 0. 0.]\n",
      " [0. 0. 3. ... 4. 0. 0.]\n",
      " ...\n",
      " [0. 0. 9. ... 4. 0. 0.]\n",
      " [0. 0. 5. ... 8. 1. 0.]\n",
      " [0. 0. 6. ... 6. 0. 0.]]\n"
     ]
    }
   ],
   "source": [
    "print(X_0)"
   ]
  },
  {
   "cell_type": "code",
   "execution_count": 20,
   "metadata": {},
   "outputs": [
    {
     "name": "stdout",
     "output_type": "stream",
     "text": [
      "(182, 64)\n"
     ]
    }
   ],
   "source": [
    "print(X_1.shape)"
   ]
  },
  {
   "cell_type": "code",
   "execution_count": 21,
   "metadata": {},
   "outputs": [
    {
     "name": "stdout",
     "output_type": "stream",
     "text": [
      "[0 0 0 0 0 0 0 0 0 0 0 0 0 0 0 0 0 0 0 0 0 0 0 0 0 0 0 0 0 0 0 0 0 0 0 0 0\n",
      " 0 0 0 0 0 0 0 0 0 0 0 0 0 0 0 0 0 0 0 0 0 0 0 0 0 0 0 0 0 0 0 0 0 0 0 0 0\n",
      " 0 0 0 0 0 0 0 0 0 0 0 0 0 0 0 0 0 0 0 0 0 0 0 0 0 0 0 0 0 0 0 0 0 0 0 0 0\n",
      " 0 0 0 0 0 0 0 0 0 0 0 0 0 0 0 0 0 0 0 0 0 0 0 0 0 0 0 0 0 0 0 0 0 0 0 0 0\n",
      " 0 0 0 0 0 0 0 0 0 0 0 0 0 0 0 0 0 0 0 0 0 0 0 0 0 0 0 0 0 0 1 1 1 1 1 1 1\n",
      " 1 1 1 1 1 1 1 1 1 1 1 1 1 1 1 1 1 1 1 1 1 1 1 1 1 1 1 1 1 1 1 1 1 1 1 1 1\n",
      " 1 1 1 1 1 1 1 1 1 1 1 1 1 1 1 1 1 1 1 1 1 1 1 1 1 1 1 1 1 1 1 1 1 1 1 1 1\n",
      " 1 1 1 1 1 1 1 1 1 1 1 1 1 1 1 1 1 1 1 1 1 1 1 1 1 1 1 1 1 1 1 1 1 1 1 1 1\n",
      " 1 1 1 1 1 1 1 1 1 1 1 1 1 1 1 1 1 1 1 1 1 1 1 1 1 1 1 1 1 1 1 1 1 1 1 1 1\n",
      " 1 1 1 1 1 1 1 1 1 1 1 1 1 1 1 1 1 1 1 1 1 1 1 1 1 1 1]\n",
      "(360,)\n"
     ]
    }
   ],
   "source": [
    "y_0 = np.array([0]*len(index_0))\n",
    "y_1 = np.array([1]*len(index_1))\n",
    "y = np.concatenate((y_0,y_1))\n",
    "print(y)\n",
    "print(y.shape)"
   ]
  },
  {
   "cell_type": "code",
   "execution_count": 22,
   "metadata": {},
   "outputs": [
    {
     "name": "stdout",
     "output_type": "stream",
     "text": [
      "[1 0 1 0 0 1 1 0 0 0 0 1 1 1 1 0 1 1 0 1 1 0 0 1 0 0 0 0 1 1 0 0 0 0 1 0]\n"
     ]
    }
   ],
   "source": [
    "X_train, X_test, y_train, y_test = train_test_split(X, y, test_size = 0.1)\n",
    "print(y_test)"
   ]
  },
  {
   "cell_type": "code",
   "execution_count": 23,
   "metadata": {},
   "outputs": [],
   "source": [
    "per_model = Perceptron(tol=1e-3, random_state=0)"
   ]
  },
  {
   "cell_type": "code",
   "execution_count": 24,
   "metadata": {},
   "outputs": [
    {
     "data": {
      "text/plain": [
       "Perceptron(alpha=0.0001, class_weight=None, early_stopping=False, eta0=1.0,\n",
       "           fit_intercept=True, max_iter=1000, n_iter_no_change=5, n_jobs=None,\n",
       "           penalty=None, random_state=0, shuffle=True, tol=0.001,\n",
       "           validation_fraction=0.1, verbose=0, warm_start=False)"
      ]
     },
     "execution_count": 24,
     "metadata": {},
     "output_type": "execute_result"
    }
   ],
   "source": [
    "per_model.fit(X_train,y_train)"
   ]
  },
  {
   "cell_type": "code",
   "execution_count": 25,
   "metadata": {},
   "outputs": [
    {
     "name": "stdout",
     "output_type": "stream",
     "text": [
      "[1 0 1 0 0 1 1 0 0 0 0 1 1 1 1 0 1 1 0 1 1 0 0 1 0 0 0 0 1 1 0 0 0 0 1 0]\n"
     ]
    }
   ],
   "source": [
    "y_pred = per_model.predict(X_test)\n",
    "print(y_pred)"
   ]
  },
  {
   "cell_type": "markdown",
   "metadata": {},
   "source": [
    "score của mô hình"
   ]
  },
  {
   "cell_type": "code",
   "execution_count": 26,
   "metadata": {},
   "outputs": [
    {
     "name": "stdout",
     "output_type": "stream",
     "text": [
      "Accuracy: 100.0 %\n"
     ]
    }
   ],
   "source": [
    "per_model.score(X_train, y_train)\n",
    "print(\"Accuracy:\", 100*accuracy_score(y_test,y_pred),\"%\")"
   ]
  },
  {
   "cell_type": "markdown",
   "metadata": {},
   "source": [
    "# 4. Phân loại trên toàn bộ dữ liệu"
   ]
  },
  {
   "cell_type": "code",
   "execution_count": 27,
   "metadata": {},
   "outputs": [
    {
     "name": "stdout",
     "output_type": "stream",
     "text": [
      "(1797, 64)\n",
      "(1797,)\n",
      "[   0.  -12.  -38.   17.  -21. -109.  -56.   -2.    0.  -37.  -11.    4.\n",
      "   51.   79.  -30.   -5.    0.   -7.   65.  -31. -101.  116.    5.    0.\n",
      "    0.   16.   18.  -58. -178.    7.   17.    0.    0.   41.   53.  -74.\n",
      " -203.  -40.   -8.    0.   -3.  -15.   57.  -93.  -83.    7.   21.    0.\n",
      "    0.  -33.   14.   -7.   19.  -23.  -57.  -12.    0.  -13.  -66.   15.\n",
      "  -48.  -58.  -53.  -14.]\n"
     ]
    }
   ],
   "source": [
    "from sklearn.datasets import load_digits\n",
    "from sklearn.linear_model import Perceptron\n",
    "X, y = load_digits(return_X_y=True)\n",
    "print(X.shape)\n",
    "print(y.shape)\n",
    "clf = Perceptron(tol=1e-3, random_state=0)\n",
    "clf.fit(X, y)\n",
    "clf.score(X, y)\n",
    "print(clf.coef_[0])"
   ]
  },
  {
   "cell_type": "markdown",
   "metadata": {},
   "source": [
    "score của mô hình: 0.9393433500278241"
   ]
  },
  {
   "cell_type": "code",
   "execution_count": null,
   "metadata": {},
   "outputs": [],
   "source": []
  }
 ],
 "metadata": {
  "kernelspec": {
   "display_name": "Python 3",
   "language": "python",
   "name": "python3"
  },
  "language_info": {
   "codemirror_mode": {
    "name": "ipython",
    "version": 3
   },
   "file_extension": ".py",
   "mimetype": "text/x-python",
   "name": "python",
   "nbconvert_exporter": "python",
   "pygments_lexer": "ipython3",
   "version": "3.6.1"
  }
 },
 "nbformat": 4,
 "nbformat_minor": 4
}
