{
 "cells": [
  {
   "cell_type": "markdown",
   "metadata": {},
   "source": [
    "# TF-IDF (term frequency – inverse document frequency)\n",
    "soure:https://thanhvie.com/tf-idf-va-cosine-similarity/\n",
    "\n",
    "BoW (Bag of words): không mang thông tin về thứ tự các từ, cũng như sự liên kết giữa các câu, các đoạn văn trong văn bản. Những từ hiếm gặp đôi khi lại mang thông tin quan trọng nhất mà chỉ loại văn bản đó có. Có một phương pháp cải tiến giúp khắc phục nhược điểm này có tên TF-IDF.\n",
    "\n",
    "VD: Số lượt tìm kiếm của goole tăng vọt từ 9800 tìm kiếm mỗi ngày (1998) lên đến hơn 9 tỷ tìm kiếm mỗi ngày (2016), lý do thành công này chính là thuật toán PageRank- quyết định độ tin cậy và phổ biến của website, bên cạnh đó là cụm từ tìm kiếm (query) do người dùng nhập vào cần được xử lý để matching với các tài liệu internet.\n",
    "Sau đây chúng ta sẽ cùng tìm hiểu cách matching này."
   ]
  },
  {
   "cell_type": "markdown",
   "metadata": {},
   "source": [
    "- Bước 1. Term Frequency (TF): Tần số xuất hiện của một từ trong một văn bản.\n",
    "- Bước 2. Inverse Document Frequency (IDF): Tần số nghịch của một từ trong dataset. Giảm trọng số của các từ xuất hiện quá thường xuyên và tăng trọng số các từ ít xuất hiện. \n",
    "- Bước 3. Tính TF* IDF.\n",
    "- Bước 4. Vector Space Model – Cosine Similarity. Chúng ta mô tả mỗi document như là một vector. Một data set được xem như là một tập hợp các vector trong một không gian vector. Mỗi từ trong không gian vector sẽ có trục của riêng nó"
   ]
  },
  {
   "cell_type": "markdown",
   "metadata": {},
   "source": [
    "Ví dụ và code theo từng bước. Cho 3 document sau. Tìm kiếm, từ khóa: \"Sang Thu\" (Hữu Thỉnh)"
   ]
  },
  {
   "cell_type": "code",
   "execution_count": 1,
   "metadata": {},
   "outputs": [],
   "source": [
    "doc1 = \"Thu đi để lại lá vàng. Gieo niềm thương nhớ nặng mang cõi lòng. Thu đến thu đi.\"\n",
    "doc2 = \"Em không nghe rừng thu. Lá thu kêu xào xạc. Con nai vàng ngơ ngác. Đạp trên lá vàng khô\"\n",
    "doc3 = \"Có đám mây mùa hạ. Vắt nửa mình sang thu\""
   ]
  },
  {
   "cell_type": "markdown",
   "metadata": {},
   "source": [
    "Tiền xử lý, loại bỏ dấu chấm, dấu phẩy (nếu có), chuyển từ chữ hoa về chữ thường."
   ]
  },
  {
   "cell_type": "code",
   "execution_count": 2,
   "metadata": {},
   "outputs": [
    {
     "name": "stdout",
     "output_type": "stream",
     "text": [
      "Văn bản 1: thu đi để lại lá vàng  gieo niềm thương nhớ nặng mang cõi lòng  thu đến thu đi \n",
      "Văn bản 2: em không nghe rừng thu  lá thu kêu xào xạc  con nai vàng ngơ ngác  đạp trên lá vàng khô\n",
      "Văn bản 3: có đám mây mùa hạ  vắt nửa mình sang thu\n"
     ]
    }
   ],
   "source": [
    "doc1 = doc1.replace(\".\",\" \").lower()\n",
    "doc2 = doc2.replace(\".\",\" \").lower()\n",
    "doc3 = doc3.replace(\".\",\" \").lower()\n",
    "print(\"Văn bản 1:\", doc1)\n",
    "print(\"Văn bản 2:\", doc2)\n",
    "print(\"Văn bản 3:\", doc3)"
   ]
  },
  {
   "cell_type": "markdown",
   "metadata": {},
   "source": [
    "Cắt lấy từ (tokenizer)"
   ]
  },
  {
   "cell_type": "code",
   "execution_count": 3,
   "metadata": {},
   "outputs": [
    {
     "name": "stdout",
     "output_type": "stream",
     "text": [
      "Word1: ['thu', 'đi', 'để', 'lại', 'lá', 'vàng', 'gieo', 'niềm', 'thương', 'nhớ', 'nặng', 'mang', 'cõi', 'lòng', 'thu', 'đến', 'thu', 'đi']\n",
      "Word2: ['em', 'không', 'nghe', 'rừng', 'thu', 'lá', 'thu', 'kêu', 'xào', 'xạc', 'con', 'nai', 'vàng', 'ngơ', 'ngác', 'đạp', 'trên', 'lá', 'vàng', 'khô']\n",
      "Word3: ['có', 'đám', 'mây', 'mùa', 'hạ', 'vắt', 'nửa', 'mình', 'sang', 'thu']\n"
     ]
    }
   ],
   "source": [
    "word1 = doc1.split()\n",
    "word2 = doc2.split()\n",
    "word3 = doc3.split()\n",
    "print(\"Word1:\", word1)\n",
    "print(\"Word2:\", word2)\n",
    "print(\"Word3:\", word3)"
   ]
  },
  {
   "cell_type": "markdown",
   "metadata": {},
   "source": [
    "# Bước 1. Term Frequency (TF): Tần số xuất hiện của một từ trong một văn bản.\n",
    "TF của mỗi từ = số lần xuất hiện của từ đó/ độ dài của văn bản. Lưu vào một dictionary."
   ]
  },
  {
   "cell_type": "code",
   "execution_count": 4,
   "metadata": {},
   "outputs": [],
   "source": [
    "import numpy as np"
   ]
  },
  {
   "cell_type": "code",
   "execution_count": 5,
   "metadata": {},
   "outputs": [],
   "source": [
    "def word_dict(document):\n",
    "    word1 , count1 = np.unique(document,return_counts=True)\n",
    "    return dict(zip(word1, count1))"
   ]
  },
  {
   "cell_type": "code",
   "execution_count": 6,
   "metadata": {},
   "outputs": [
    {
     "name": "stdout",
     "output_type": "stream",
     "text": [
      "word_dict1: {'cõi': 1, 'gieo': 1, 'lá': 1, 'lòng': 1, 'lại': 1, 'mang': 1, 'nhớ': 1, 'niềm': 1, 'nặng': 1, 'thu': 3, 'thương': 1, 'vàng': 1, 'đi': 2, 'đến': 1, 'để': 1}\n",
      "word_dict2 {'con': 1, 'em': 1, 'khô': 1, 'không': 1, 'kêu': 1, 'lá': 2, 'nai': 1, 'nghe': 1, 'ngác': 1, 'ngơ': 1, 'rừng': 1, 'thu': 2, 'trên': 1, 'vàng': 2, 'xào': 1, 'xạc': 1, 'đạp': 1}\n",
      "word_dict3 {'có': 1, 'hạ': 1, 'mây': 1, 'mình': 1, 'mùa': 1, 'nửa': 1, 'sang': 1, 'thu': 1, 'vắt': 1, 'đám': 1}\n"
     ]
    }
   ],
   "source": [
    "word_dict1 = word_dict(word1)\n",
    "print(\"word_dict1:\", word_dict1)\n",
    "word_dict2 = word_dict(word2)\n",
    "print(\"word_dict2\", word_dict2)\n",
    "word_dict3 = word_dict(word3)\n",
    "print(\"word_dict3\", word_dict3)"
   ]
  },
  {
   "cell_type": "markdown",
   "metadata": {},
   "source": [
    "Tính toán TF"
   ]
  },
  {
   "cell_type": "code",
   "execution_count": 7,
   "metadata": {},
   "outputs": [],
   "source": [
    "def TF(word_dict,word):\n",
    "    TF_dict = dict()\n",
    "    word_count = len(word)\n",
    "    for words, count in word_dict.items():\n",
    "        TF_dict[words] =  round(count/float( word_count),3)\n",
    "    return TF_dict"
   ]
  },
  {
   "cell_type": "code",
   "execution_count": 8,
   "metadata": {},
   "outputs": [
    {
     "name": "stdout",
     "output_type": "stream",
     "text": [
      "TF1:  {'cõi': 0.056, 'gieo': 0.056, 'lá': 0.056, 'lòng': 0.056, 'lại': 0.056, 'mang': 0.056, 'nhớ': 0.056, 'niềm': 0.056, 'nặng': 0.056, 'thu': 0.167, 'thương': 0.056, 'vàng': 0.056, 'đi': 0.111, 'đến': 0.056, 'để': 0.056}\n",
      "TF2:  {'con': 0.05, 'em': 0.05, 'khô': 0.05, 'không': 0.05, 'kêu': 0.05, 'lá': 0.1, 'nai': 0.05, 'nghe': 0.05, 'ngác': 0.05, 'ngơ': 0.05, 'rừng': 0.05, 'thu': 0.1, 'trên': 0.05, 'vàng': 0.1, 'xào': 0.05, 'xạc': 0.05, 'đạp': 0.05}\n",
      "TF3:  {'có': 0.1, 'hạ': 0.1, 'mây': 0.1, 'mình': 0.1, 'mùa': 0.1, 'nửa': 0.1, 'sang': 0.1, 'thu': 0.1, 'vắt': 0.1, 'đám': 0.1}\n"
     ]
    }
   ],
   "source": [
    "TF_doc1 = TF(word_dict1,word1)\n",
    "print(\"TF1: \", TF_doc1)\n",
    "TF_doc2 = TF(word_dict2,word2)\n",
    "print(\"TF2: \", TF_doc2)\n",
    "TF_doc3 = TF(word_dict3,word3)\n",
    "print(\"TF3: \", TF_doc3)"
   ]
  },
  {
   "cell_type": "markdown",
   "metadata": {},
   "source": [
    "# Bước 2. Inverse Document Frequency (IDF): Tần số nghịch của một từ trong dataset"
   ]
  },
  {
   "cell_type": "markdown",
   "metadata": {},
   "source": [
    "Mục đích của tìm kiếm văn bản là tìm ra những văn bản trong một dataset (hoặc rộng hơn là internet) có nội dung liên quan nhất đến tìm kiếm của người dùng. Ở bước TF, tất cả các từ được đánh giá quan trọng ngang nhau. Tuy nhiên có một số từ xuất hiện quá nhiều và không có vai trò trong việc quyết định tìm ra các văn bản có nội dung liên quan với chủ đề mà người dùng tìm kiếm (trong tiếng Anh là a, an, the, he, she...). Chúng ta cần tìm ra để làm giảm trọng số của những từ xuất hiện thường xuyên trên internet và tăng trọng số của những từ ít xuất hiện hơn.\n",
    "\n",
    "Giá trị IDF của từ t trong tập văn bản D tính bằng logarit của tỷ số tổng số văn bản và số văn bản trong tập văn bản D có chứa từ t."
   ]
  },
  {
   "cell_type": "code",
   "execution_count": 9,
   "metadata": {},
   "outputs": [
    {
     "name": "stdout",
     "output_type": "stream",
     "text": [
      "word_dictword: ['con' 'có' 'cõi' 'em' 'gieo' 'hạ' 'khô' 'không' 'kêu' 'lá' 'lòng' 'lại'\n",
      " 'mang' 'mây' 'mình' 'mùa' 'nai' 'nghe' 'ngác' 'ngơ' 'nhớ' 'niềm' 'nặng'\n",
      " 'nửa' 'rừng' 'sang' 'thu' 'thương' 'trên' 'vàng' 'vắt' 'xào' 'xạc' 'đi'\n",
      " 'đám' 'đạp' 'đến' 'để']\n",
      "38\n",
      "word_dict [{'cõi': 1, 'gieo': 1, 'lá': 1, 'lòng': 1, 'lại': 1, 'mang': 1, 'nhớ': 1, 'niềm': 1, 'nặng': 1, 'thu': 3, 'thương': 1, 'vàng': 1, 'đi': 2, 'đến': 1, 'để': 1}, {'con': 1, 'em': 1, 'khô': 1, 'không': 1, 'kêu': 1, 'lá': 2, 'nai': 1, 'nghe': 1, 'ngác': 1, 'ngơ': 1, 'rừng': 1, 'thu': 2, 'trên': 1, 'vàng': 2, 'xào': 1, 'xạc': 1, 'đạp': 1}, {'có': 1, 'hạ': 1, 'mây': 1, 'mình': 1, 'mùa': 1, 'nửa': 1, 'sang': 1, 'thu': 1, 'vắt': 1, 'đám': 1}]\n",
      "Độ dài: 3\n"
     ]
    }
   ],
   "source": [
    "word_sum = np.concatenate([word1,word2,word3])\n",
    "word_dictword = np.unique(word_sum)\n",
    "print(\"word_dictword:\",word_dictword)\n",
    "print(len(word_dictword))\n",
    "word_dict =[word_dict1,word_dict2,word_dict3]\n",
    "print(\"word_dict\",word_dict)\n",
    "print(\"Độ dài:\",len(word_dict))"
   ]
  },
  {
   "cell_type": "code",
   "execution_count": 10,
   "metadata": {},
   "outputs": [],
   "source": [
    "import math as mt\n",
    "def idf_1(word_dict,word_dictword):\n",
    "    IDF_dict = dict()\n",
    "    N = len(word_dict)\n",
    "    dem = 0\n",
    "    for i in range(len(word_dictword)):\n",
    "        for j in range(len(word_dict)):\n",
    "            for word, count in word_dict[j].items():\n",
    "                if word_dictword[i] == word:\n",
    "                    dem = dem + 1\n",
    "                    break\n",
    "        IDF_dict[word_dictword[i]] = dem\n",
    "        dem = 0\n",
    "    for word, count in IDF_dict.items():\n",
    "        IDF_dict[word] = round(mt.log(N/float(count)),3)\n",
    "    return IDF_dict\n",
    "    \n",
    "    \n",
    "    "
   ]
  },
  {
   "cell_type": "code",
   "execution_count": 11,
   "metadata": {},
   "outputs": [],
   "source": [
    "idf = idf_1(word_dict,word_dictword)"
   ]
  },
  {
   "cell_type": "code",
   "execution_count": 12,
   "metadata": {},
   "outputs": [
    {
     "name": "stdout",
     "output_type": "stream",
     "text": [
      "{'con': 1.099, 'có': 1.099, 'cõi': 1.099, 'em': 1.099, 'gieo': 1.099, 'hạ': 1.099, 'khô': 1.099, 'không': 1.099, 'kêu': 1.099, 'lá': 0.405, 'lòng': 1.099, 'lại': 1.099, 'mang': 1.099, 'mây': 1.099, 'mình': 1.099, 'mùa': 1.099, 'nai': 1.099, 'nghe': 1.099, 'ngác': 1.099, 'ngơ': 1.099, 'nhớ': 1.099, 'niềm': 1.099, 'nặng': 1.099, 'nửa': 1.099, 'rừng': 1.099, 'sang': 1.099, 'thu': 0.0, 'thương': 1.099, 'trên': 1.099, 'vàng': 0.405, 'vắt': 1.099, 'xào': 1.099, 'xạc': 1.099, 'đi': 1.099, 'đám': 1.099, 'đạp': 1.099, 'đến': 1.099, 'để': 1.099}\n"
     ]
    }
   ],
   "source": [
    "print(idf)"
   ]
  },
  {
   "cell_type": "markdown",
   "metadata": {},
   "source": [
    "# Bước 3. Tính TF* IDF\n",
    "Ta sẽ tính TF_IDF, ta đã có 3 file TF ở trên"
   ]
  },
  {
   "cell_type": "code",
   "execution_count": 13,
   "metadata": {},
   "outputs": [
    {
     "name": "stdout",
     "output_type": "stream",
     "text": [
      "TF1:  {'cõi': 0.056, 'gieo': 0.056, 'lá': 0.056, 'lòng': 0.056, 'lại': 0.056, 'mang': 0.056, 'nhớ': 0.056, 'niềm': 0.056, 'nặng': 0.056, 'thu': 0.167, 'thương': 0.056, 'vàng': 0.056, 'đi': 0.111, 'đến': 0.056, 'để': 0.056}\n",
      "TF2:  {'con': 0.05, 'em': 0.05, 'khô': 0.05, 'không': 0.05, 'kêu': 0.05, 'lá': 0.1, 'nai': 0.05, 'nghe': 0.05, 'ngác': 0.05, 'ngơ': 0.05, 'rừng': 0.05, 'thu': 0.1, 'trên': 0.05, 'vàng': 0.1, 'xào': 0.05, 'xạc': 0.05, 'đạp': 0.05}\n",
      "TF3:  {'có': 0.1, 'hạ': 0.1, 'mây': 0.1, 'mình': 0.1, 'mùa': 0.1, 'nửa': 0.1, 'sang': 0.1, 'thu': 0.1, 'vắt': 0.1, 'đám': 0.1}\n"
     ]
    }
   ],
   "source": [
    "print(\"TF1: \", TF_doc1)\n",
    "print(\"TF2: \", TF_doc2)\n",
    "print(\"TF3: \", TF_doc3)"
   ]
  },
  {
   "cell_type": "code",
   "execution_count": 14,
   "metadata": {},
   "outputs": [],
   "source": [
    "def tf_idf(tf,idf):\n",
    "    tf_idf = dict()\n",
    "    for word, count in tf.items():\n",
    "        tf_idf[word] = round(count*idf[word],3)\n",
    "    return tf_idf"
   ]
  },
  {
   "cell_type": "code",
   "execution_count": 15,
   "metadata": {},
   "outputs": [],
   "source": [
    "tf_idf_doc1 = tf_idf(TF_doc1, idf)\n",
    "tf_idf_doc2 = tf_idf(TF_doc2, idf)\n",
    "tf_idf_doc3 = tf_idf(TF_doc3, idf)"
   ]
  },
  {
   "cell_type": "code",
   "execution_count": 16,
   "metadata": {},
   "outputs": [
    {
     "name": "stdout",
     "output_type": "stream",
     "text": [
      "tf_idf_doc1: {'cõi': 0.062, 'gieo': 0.062, 'lá': 0.023, 'lòng': 0.062, 'lại': 0.062, 'mang': 0.062, 'nhớ': 0.062, 'niềm': 0.062, 'nặng': 0.062, 'thu': 0.0, 'thương': 0.062, 'vàng': 0.023, 'đi': 0.122, 'đến': 0.062, 'để': 0.062}\n",
      "tf_idf_doc2: {'con': 0.055, 'em': 0.055, 'khô': 0.055, 'không': 0.055, 'kêu': 0.055, 'lá': 0.041, 'nai': 0.055, 'nghe': 0.055, 'ngác': 0.055, 'ngơ': 0.055, 'rừng': 0.055, 'thu': 0.0, 'trên': 0.055, 'vàng': 0.041, 'xào': 0.055, 'xạc': 0.055, 'đạp': 0.055}\n",
      "tf_idf_doc3: {'có': 0.11, 'hạ': 0.11, 'mây': 0.11, 'mình': 0.11, 'mùa': 0.11, 'nửa': 0.11, 'sang': 0.11, 'thu': 0.0, 'vắt': 0.11, 'đám': 0.11}\n"
     ]
    }
   ],
   "source": [
    "print(\"tf_idf_doc1:\",tf_idf_doc1)\n",
    "print(\"tf_idf_doc2:\",tf_idf_doc2)\n",
    "print(\"tf_idf_doc3:\",tf_idf_doc3)"
   ]
  },
  {
   "cell_type": "markdown",
   "metadata": {},
   "source": [
    "Hiển thị bằng dataframe"
   ]
  },
  {
   "cell_type": "code",
   "execution_count": 17,
   "metadata": {},
   "outputs": [],
   "source": [
    "import pandas as pd\n",
    "data = pd.DataFrame([tf_idf_doc1, tf_idf_doc2, tf_idf_doc3]).T"
   ]
  },
  {
   "cell_type": "code",
   "execution_count": 18,
   "metadata": {},
   "outputs": [
    {
     "data": {
      "text/html": [
       "<div>\n",
       "<style scoped>\n",
       "    .dataframe tbody tr th:only-of-type {\n",
       "        vertical-align: middle;\n",
       "    }\n",
       "\n",
       "    .dataframe tbody tr th {\n",
       "        vertical-align: top;\n",
       "    }\n",
       "\n",
       "    .dataframe thead th {\n",
       "        text-align: right;\n",
       "    }\n",
       "</style>\n",
       "<table border=\"1\" class=\"dataframe\">\n",
       "  <thead>\n",
       "    <tr style=\"text-align: right;\">\n",
       "      <th></th>\n",
       "      <th>0</th>\n",
       "      <th>1</th>\n",
       "      <th>2</th>\n",
       "    </tr>\n",
       "  </thead>\n",
       "  <tbody>\n",
       "    <tr>\n",
       "      <th>cõi</th>\n",
       "      <td>0.062</td>\n",
       "      <td>NaN</td>\n",
       "      <td>NaN</td>\n",
       "    </tr>\n",
       "    <tr>\n",
       "      <th>gieo</th>\n",
       "      <td>0.062</td>\n",
       "      <td>NaN</td>\n",
       "      <td>NaN</td>\n",
       "    </tr>\n",
       "    <tr>\n",
       "      <th>lá</th>\n",
       "      <td>0.023</td>\n",
       "      <td>0.041</td>\n",
       "      <td>NaN</td>\n",
       "    </tr>\n",
       "    <tr>\n",
       "      <th>lòng</th>\n",
       "      <td>0.062</td>\n",
       "      <td>NaN</td>\n",
       "      <td>NaN</td>\n",
       "    </tr>\n",
       "    <tr>\n",
       "      <th>lại</th>\n",
       "      <td>0.062</td>\n",
       "      <td>NaN</td>\n",
       "      <td>NaN</td>\n",
       "    </tr>\n",
       "    <tr>\n",
       "      <th>mang</th>\n",
       "      <td>0.062</td>\n",
       "      <td>NaN</td>\n",
       "      <td>NaN</td>\n",
       "    </tr>\n",
       "    <tr>\n",
       "      <th>nhớ</th>\n",
       "      <td>0.062</td>\n",
       "      <td>NaN</td>\n",
       "      <td>NaN</td>\n",
       "    </tr>\n",
       "    <tr>\n",
       "      <th>niềm</th>\n",
       "      <td>0.062</td>\n",
       "      <td>NaN</td>\n",
       "      <td>NaN</td>\n",
       "    </tr>\n",
       "    <tr>\n",
       "      <th>nặng</th>\n",
       "      <td>0.062</td>\n",
       "      <td>NaN</td>\n",
       "      <td>NaN</td>\n",
       "    </tr>\n",
       "    <tr>\n",
       "      <th>thu</th>\n",
       "      <td>0.000</td>\n",
       "      <td>0.000</td>\n",
       "      <td>0.00</td>\n",
       "    </tr>\n",
       "    <tr>\n",
       "      <th>thương</th>\n",
       "      <td>0.062</td>\n",
       "      <td>NaN</td>\n",
       "      <td>NaN</td>\n",
       "    </tr>\n",
       "    <tr>\n",
       "      <th>vàng</th>\n",
       "      <td>0.023</td>\n",
       "      <td>0.041</td>\n",
       "      <td>NaN</td>\n",
       "    </tr>\n",
       "    <tr>\n",
       "      <th>đi</th>\n",
       "      <td>0.122</td>\n",
       "      <td>NaN</td>\n",
       "      <td>NaN</td>\n",
       "    </tr>\n",
       "    <tr>\n",
       "      <th>đến</th>\n",
       "      <td>0.062</td>\n",
       "      <td>NaN</td>\n",
       "      <td>NaN</td>\n",
       "    </tr>\n",
       "    <tr>\n",
       "      <th>để</th>\n",
       "      <td>0.062</td>\n",
       "      <td>NaN</td>\n",
       "      <td>NaN</td>\n",
       "    </tr>\n",
       "    <tr>\n",
       "      <th>con</th>\n",
       "      <td>NaN</td>\n",
       "      <td>0.055</td>\n",
       "      <td>NaN</td>\n",
       "    </tr>\n",
       "    <tr>\n",
       "      <th>em</th>\n",
       "      <td>NaN</td>\n",
       "      <td>0.055</td>\n",
       "      <td>NaN</td>\n",
       "    </tr>\n",
       "    <tr>\n",
       "      <th>khô</th>\n",
       "      <td>NaN</td>\n",
       "      <td>0.055</td>\n",
       "      <td>NaN</td>\n",
       "    </tr>\n",
       "    <tr>\n",
       "      <th>không</th>\n",
       "      <td>NaN</td>\n",
       "      <td>0.055</td>\n",
       "      <td>NaN</td>\n",
       "    </tr>\n",
       "    <tr>\n",
       "      <th>kêu</th>\n",
       "      <td>NaN</td>\n",
       "      <td>0.055</td>\n",
       "      <td>NaN</td>\n",
       "    </tr>\n",
       "    <tr>\n",
       "      <th>nai</th>\n",
       "      <td>NaN</td>\n",
       "      <td>0.055</td>\n",
       "      <td>NaN</td>\n",
       "    </tr>\n",
       "    <tr>\n",
       "      <th>nghe</th>\n",
       "      <td>NaN</td>\n",
       "      <td>0.055</td>\n",
       "      <td>NaN</td>\n",
       "    </tr>\n",
       "    <tr>\n",
       "      <th>ngác</th>\n",
       "      <td>NaN</td>\n",
       "      <td>0.055</td>\n",
       "      <td>NaN</td>\n",
       "    </tr>\n",
       "    <tr>\n",
       "      <th>ngơ</th>\n",
       "      <td>NaN</td>\n",
       "      <td>0.055</td>\n",
       "      <td>NaN</td>\n",
       "    </tr>\n",
       "    <tr>\n",
       "      <th>rừng</th>\n",
       "      <td>NaN</td>\n",
       "      <td>0.055</td>\n",
       "      <td>NaN</td>\n",
       "    </tr>\n",
       "    <tr>\n",
       "      <th>trên</th>\n",
       "      <td>NaN</td>\n",
       "      <td>0.055</td>\n",
       "      <td>NaN</td>\n",
       "    </tr>\n",
       "    <tr>\n",
       "      <th>xào</th>\n",
       "      <td>NaN</td>\n",
       "      <td>0.055</td>\n",
       "      <td>NaN</td>\n",
       "    </tr>\n",
       "    <tr>\n",
       "      <th>xạc</th>\n",
       "      <td>NaN</td>\n",
       "      <td>0.055</td>\n",
       "      <td>NaN</td>\n",
       "    </tr>\n",
       "    <tr>\n",
       "      <th>đạp</th>\n",
       "      <td>NaN</td>\n",
       "      <td>0.055</td>\n",
       "      <td>NaN</td>\n",
       "    </tr>\n",
       "    <tr>\n",
       "      <th>có</th>\n",
       "      <td>NaN</td>\n",
       "      <td>NaN</td>\n",
       "      <td>0.11</td>\n",
       "    </tr>\n",
       "    <tr>\n",
       "      <th>hạ</th>\n",
       "      <td>NaN</td>\n",
       "      <td>NaN</td>\n",
       "      <td>0.11</td>\n",
       "    </tr>\n",
       "    <tr>\n",
       "      <th>mây</th>\n",
       "      <td>NaN</td>\n",
       "      <td>NaN</td>\n",
       "      <td>0.11</td>\n",
       "    </tr>\n",
       "    <tr>\n",
       "      <th>mình</th>\n",
       "      <td>NaN</td>\n",
       "      <td>NaN</td>\n",
       "      <td>0.11</td>\n",
       "    </tr>\n",
       "    <tr>\n",
       "      <th>mùa</th>\n",
       "      <td>NaN</td>\n",
       "      <td>NaN</td>\n",
       "      <td>0.11</td>\n",
       "    </tr>\n",
       "    <tr>\n",
       "      <th>nửa</th>\n",
       "      <td>NaN</td>\n",
       "      <td>NaN</td>\n",
       "      <td>0.11</td>\n",
       "    </tr>\n",
       "    <tr>\n",
       "      <th>sang</th>\n",
       "      <td>NaN</td>\n",
       "      <td>NaN</td>\n",
       "      <td>0.11</td>\n",
       "    </tr>\n",
       "    <tr>\n",
       "      <th>vắt</th>\n",
       "      <td>NaN</td>\n",
       "      <td>NaN</td>\n",
       "      <td>0.11</td>\n",
       "    </tr>\n",
       "    <tr>\n",
       "      <th>đám</th>\n",
       "      <td>NaN</td>\n",
       "      <td>NaN</td>\n",
       "      <td>0.11</td>\n",
       "    </tr>\n",
       "  </tbody>\n",
       "</table>\n",
       "</div>"
      ],
      "text/plain": [
       "            0      1     2\n",
       "cõi     0.062    NaN   NaN\n",
       "gieo    0.062    NaN   NaN\n",
       "lá      0.023  0.041   NaN\n",
       "lòng    0.062    NaN   NaN\n",
       "lại     0.062    NaN   NaN\n",
       "mang    0.062    NaN   NaN\n",
       "nhớ     0.062    NaN   NaN\n",
       "niềm    0.062    NaN   NaN\n",
       "nặng    0.062    NaN   NaN\n",
       "thu     0.000  0.000  0.00\n",
       "thương  0.062    NaN   NaN\n",
       "vàng    0.023  0.041   NaN\n",
       "đi      0.122    NaN   NaN\n",
       "đến     0.062    NaN   NaN\n",
       "để      0.062    NaN   NaN\n",
       "con       NaN  0.055   NaN\n",
       "em        NaN  0.055   NaN\n",
       "khô       NaN  0.055   NaN\n",
       "không     NaN  0.055   NaN\n",
       "kêu       NaN  0.055   NaN\n",
       "nai       NaN  0.055   NaN\n",
       "nghe      NaN  0.055   NaN\n",
       "ngác      NaN  0.055   NaN\n",
       "ngơ       NaN  0.055   NaN\n",
       "rừng      NaN  0.055   NaN\n",
       "trên      NaN  0.055   NaN\n",
       "xào       NaN  0.055   NaN\n",
       "xạc       NaN  0.055   NaN\n",
       "đạp       NaN  0.055   NaN\n",
       "có        NaN    NaN  0.11\n",
       "hạ        NaN    NaN  0.11\n",
       "mây       NaN    NaN  0.11\n",
       "mình      NaN    NaN  0.11\n",
       "mùa       NaN    NaN  0.11\n",
       "nửa       NaN    NaN  0.11\n",
       "sang      NaN    NaN  0.11\n",
       "vắt       NaN    NaN  0.11\n",
       "đám       NaN    NaN  0.11"
      ]
     },
     "execution_count": 18,
     "metadata": {},
     "output_type": "execute_result"
    }
   ],
   "source": [
    "data"
   ]
  },
  {
   "cell_type": "markdown",
   "metadata": {},
   "source": [
    "Tìm văn bản có nội dung sang thu"
   ]
  },
  {
   "cell_type": "code",
   "execution_count": 19,
   "metadata": {},
   "outputs": [
    {
     "data": {
      "text/plain": [
       "0     NaN\n",
       "1     NaN\n",
       "2    0.11\n",
       "Name: sang, dtype: float64"
      ]
     },
     "execution_count": 19,
     "metadata": {},
     "output_type": "execute_result"
    }
   ],
   "source": [
    "data.loc[\"sang\"]"
   ]
  },
  {
   "cell_type": "code",
   "execution_count": 20,
   "metadata": {},
   "outputs": [
    {
     "data": {
      "text/plain": [
       "0    0.0\n",
       "1    0.0\n",
       "2    0.0\n",
       "Name: thu, dtype: float64"
      ]
     },
     "execution_count": 20,
     "metadata": {},
     "output_type": "execute_result"
    }
   ],
   "source": [
    "data.loc[\"thu\"]"
   ]
  },
  {
   "cell_type": "markdown",
   "metadata": {},
   "source": [
    "# Bước 4 : Vector Space Model – Cosine Similarity\n",
    "Chúng ta mô tả mỗi document như là một vector. Một data set được xem như là một tập hợp các vector trong một không gian vector. Mỗi từ trong không gian vector sẽ có trục của riêng nó.\n",
    "Cụm từ tìm kiếm cũng là một vector. Chúng ta tính giá trị TFIDF cho cụm từ truy vấn \"sang thu\"."
   ]
  },
  {
   "cell_type": "code",
   "execution_count": 21,
   "metadata": {},
   "outputs": [
    {
     "data": {
      "text/plain": [
       "{'sang': 0.5495, 'thu': 0.0}"
      ]
     },
     "execution_count": 21,
     "metadata": {},
     "output_type": "execute_result"
    }
   ],
   "source": [
    "tf_idf_user = {}\n",
    "tf_idf_user[\"sang\"] = 0.5*idf[\"sang\"]\n",
    "tf_idf_user[\"thu\"] = 0.5*idf[\"thu\"]\n",
    "tf_idf_user"
   ]
  },
  {
   "cell_type": "markdown",
   "metadata": {},
   "source": [
    "Bây giờ chúng ta hãy tính cosine similarity (tương đồng cosine) giữa cụm từ tìm kiếm (Query) và với các Document."
   ]
  },
  {
   "cell_type": "code",
   "execution_count": 22,
   "metadata": {},
   "outputs": [],
   "source": [
    "import math\n",
    "def consine_sim(vec1, vec2):\n",
    "    \"\"\" Let's convert our dictionaries to lists for easier matching \"\"\"\n",
    "    vec1 = [val for val in vec1.values()]\n",
    "    vec2 = [val for val in vec2.values()]\n",
    "    \n",
    "    dot_prod = 0\n",
    "    for i,v in enumerate(vec1):\n",
    "        dot_prod += v*vec2[i]\n",
    "    \n",
    "    mag_1 = math.sqrt(sum([x**2 for x in vec1]))\n",
    "    mag_2 = math.sqrt(sum([x**2 for x in vec2]))\n",
    "    \n",
    "    return dot_prod/(mag_1*mag_2)"
   ]
  },
  {
   "cell_type": "code",
   "execution_count": 23,
   "metadata": {},
   "outputs": [
    {
     "name": "stdout",
     "output_type": "stream",
     "text": [
      "vecID: {'sang': 0.5495, 'thu': 0.0}\n",
      "vec2: {'sang': 0.0, 'thu': 0.0}\n"
     ]
    }
   ],
   "source": [
    "vecID = tf_idf_user\n",
    "vec2 = {}\n",
    "vec2[\"sang\"] = 0.0 # do trong tf_idf_doc1 không có từ sông\n",
    "vec2[\"thu\"] = tf_idf_doc1[\"thu\"]\n",
    "print(\"vecID:\",vecID)\n",
    "print(\"vec2:\",vec2)"
   ]
  },
  {
   "cell_type": "markdown",
   "metadata": {},
   "source": [
    "Bây giờ tính sự tương đồng giữa từ khoá người dùng và document1 thành bài toán trở thành tính độ tương đồng giữa vec1 và vec2"
   ]
  },
  {
   "cell_type": "code",
   "execution_count": 24,
   "metadata": {},
   "outputs": [
    {
     "name": "stdout",
     "output_type": "stream",
     "text": [
      "Lỗi chia cho 0\n"
     ]
    }
   ],
   "source": [
    "try:\n",
    "    consine_sim(vec1, vec2)\n",
    "except:\n",
    "    print(\"Lỗi chia cho 0\")"
   ]
  },
  {
   "cell_type": "markdown",
   "metadata": {},
   "source": [
    "Lần lượt tính với document 2 và document 3"
   ]
  },
  {
   "cell_type": "code",
   "execution_count": 25,
   "metadata": {},
   "outputs": [
    {
     "name": "stdout",
     "output_type": "stream",
     "text": [
      "vecID: {'sang': 0.5495, 'thu': 0.0}\n",
      "vec2: {'sang': 0.0, 'thu': 0.0}\n"
     ]
    }
   ],
   "source": [
    "vec2 = {}\n",
    "vec2[\"sang\"] = 0.0\n",
    "vec2[\"thu\"] = tf_idf_doc2[\"thu\"]\n",
    "print(\"vecID:\",vecID)\n",
    "print(\"vec2:\",vec2)"
   ]
  },
  {
   "cell_type": "code",
   "execution_count": 26,
   "metadata": {},
   "outputs": [
    {
     "name": "stdout",
     "output_type": "stream",
     "text": [
      "vecID: {'sang': 0.5495, 'thu': 0.0}\n",
      "vec3: {'sang': 0.11, 'thu': 0.0}\n"
     ]
    }
   ],
   "source": [
    "vec3 = {}\n",
    "vec3[\"sang\"] = tf_idf_doc3[\"sang\"] \n",
    "vec3[\"thu\"] = tf_idf_doc3[\"thu\"]\n",
    "print(\"vecID:\",vecID)\n",
    "print(\"vec3:\",vec3)"
   ]
  },
  {
   "cell_type": "code",
   "execution_count": 27,
   "metadata": {},
   "outputs": [
    {
     "data": {
      "text/plain": [
       "1.0"
      ]
     },
     "execution_count": 27,
     "metadata": {},
     "output_type": "execute_result"
    }
   ],
   "source": [
    "consine_sim(vecID, vec3)"
   ]
  },
  {
   "cell_type": "markdown",
   "metadata": {},
   "source": [
    "# CẢI TIẾN IF_IDF\n"
   ]
  },
  {
   "cell_type": "code",
   "execution_count": 28,
   "metadata": {},
   "outputs": [],
   "source": [
    "import math as mt\n",
    "def idf_2(word_dict,word_dictword):\n",
    "    IDF_dict = dict()\n",
    "    N = len(word_dict)\n",
    "    dem = 0\n",
    "    for i in range(len(word_dictword)):\n",
    "        for j in range(len(word_dict)):\n",
    "            for word, count in word_dict[j].items():\n",
    "                if word_dictword[i] == word:\n",
    "                    dem = dem + 1\n",
    "                    break\n",
    "        IDF_dict[word_dictword[i]] = dem\n",
    "        dem = 0\n",
    "    for word, count in IDF_dict.items():\n",
    "        IDF_dict[word] = 1 + round(mt.log(N/float(count)),3)\n",
    "    return IDF_dict"
   ]
  },
  {
   "cell_type": "code",
   "execution_count": 29,
   "metadata": {},
   "outputs": [],
   "source": [
    "idf = idf_2(word_dict,word_dictword)"
   ]
  },
  {
   "cell_type": "code",
   "execution_count": 30,
   "metadata": {},
   "outputs": [
    {
     "name": "stdout",
     "output_type": "stream",
     "text": [
      "{'con': 2.099, 'có': 2.099, 'cõi': 2.099, 'em': 2.099, 'gieo': 2.099, 'hạ': 2.099, 'khô': 2.099, 'không': 2.099, 'kêu': 2.099, 'lá': 1.405, 'lòng': 2.099, 'lại': 2.099, 'mang': 2.099, 'mây': 2.099, 'mình': 2.099, 'mùa': 2.099, 'nai': 2.099, 'nghe': 2.099, 'ngác': 2.099, 'ngơ': 2.099, 'nhớ': 2.099, 'niềm': 2.099, 'nặng': 2.099, 'nửa': 2.099, 'rừng': 2.099, 'sang': 2.099, 'thu': 1.0, 'thương': 2.099, 'trên': 2.099, 'vàng': 1.405, 'vắt': 2.099, 'xào': 2.099, 'xạc': 2.099, 'đi': 2.099, 'đám': 2.099, 'đạp': 2.099, 'đến': 2.099, 'để': 2.099}\n"
     ]
    }
   ],
   "source": [
    "print(idf)"
   ]
  },
  {
   "cell_type": "code",
   "execution_count": null,
   "metadata": {},
   "outputs": [],
   "source": []
  }
 ],
 "metadata": {
  "kernelspec": {
   "display_name": "Python 3",
   "language": "python",
   "name": "python3"
  },
  "language_info": {
   "codemirror_mode": {
    "name": "ipython",
    "version": 3
   },
   "file_extension": ".py",
   "mimetype": "text/x-python",
   "name": "python",
   "nbconvert_exporter": "python",
   "pygments_lexer": "ipython3",
   "version": "3.6.1"
  }
 },
 "nbformat": 4,
 "nbformat_minor": 4
}
